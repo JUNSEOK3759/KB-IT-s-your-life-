{
 "cells": [
  {
   "cell_type": "code",
   "execution_count": 46,
   "id": "2c8d73f2",
   "metadata": {},
   "outputs": [
    {
     "name": "stdout",
     "output_type": "stream",
     "text": [
      "숫자 입력 : 100\n",
      "2 3 5 7 11 13 17 19 23 29 31 37 41 43 47 53 59 61 67 71 73 79 83 89 97 \n",
      "\n",
      "1부터 100까지 총 소수의 개수는 25개\n"
     ]
    }
   ],
   "source": [
    "a = int(input(\"숫자 입력 : \"))\n",
    "\n",
    "def primetime(a):\n",
    "    arr = [0 for col in range(a+1)]\n",
    "    for i in range(2, a+1):\n",
    "        arr[i] = i\n",
    "        for k in range(2, a+1):\n",
    "            j = 2\n",
    "            while ((k * j) <= a):\n",
    "                arr[k*j] = 0\n",
    "                j += 1\n",
    "\n",
    "    arr = set(arr)\n",
    "    arr.remove(0)\n",
    "    for w in arr:\n",
    "        print(w, end=' ')\n",
    "    print(\"\\n\")    \n",
    "    print(f\"1부터 {a}까지 총 소수의 개수는 {len(arr)}개\")\n",
    "primetime(a)"
   ]
  },
  {
   "cell_type": "code",
   "execution_count": 47,
   "id": "624051a5",
   "metadata": {},
   "outputs": [
    {
     "name": "stdout",
     "output_type": "stream",
     "text": [
      "2 3 5 7 11 13 17 19 23 29 31 37 41 43 47 "
     ]
    }
   ],
   "source": [
    "def is_prime_num(n):\n",
    "    arr = [True] * (n + 1) # 특정 수가 지워졌는지 아닌지 확인하기 위한 배열\n",
    "    arr[0] = False\n",
    "    arr[1] = False\n",
    "\n",
    "    for i in range(2, n + 1):\n",
    "        if arr[i] == True: # 특정 수가 지워지지 않았다면 (소수여서)\n",
    "            j = 2\n",
    "\n",
    "            while (i * j) <= n:\n",
    "                arr[i*j] = False # i의 배수의 값을 False로 지워준다.\n",
    "                j += 1\n",
    "\n",
    "    return arr\n",
    "\n",
    "arr = is_prime_num(50) # 0 ~ 50중 소수를 구하기 위한 함수\n",
    "\n",
    "for i in range(len(arr)):\n",
    "    if arr[i] == True:\n",
    "        print(i, end=' ')"
   ]
  },
  {
   "cell_type": "code",
   "execution_count": 61,
   "id": "8aab97ac",
   "metadata": {},
   "outputs": [
    {
     "data": {
      "text/plain": [
       "(1, 3, 5, 7, 9)"
      ]
     },
     "execution_count": 61,
     "metadata": {},
     "output_type": "execute_result"
    }
   ],
   "source": []
  },
  {
   "cell_type": "code",
   "execution_count": null,
   "id": "67e7b7c1",
   "metadata": {},
   "outputs": [],
   "source": []
  }
 ],
 "metadata": {
  "kernelspec": {
   "display_name": "Python 3 (ipykernel)",
   "language": "python",
   "name": "python3"
  },
  "language_info": {
   "codemirror_mode": {
    "name": "ipython",
    "version": 3
   },
   "file_extension": ".py",
   "mimetype": "text/x-python",
   "name": "python",
   "nbconvert_exporter": "python",
   "pygments_lexer": "ipython3",
   "version": "3.9.7"
  }
 },
 "nbformat": 4,
 "nbformat_minor": 5
}
