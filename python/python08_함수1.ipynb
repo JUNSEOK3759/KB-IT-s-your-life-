{
 "cells": [
  {
   "cell_type": "markdown",
   "metadata": {},
   "source": [
    "## 함수"
   ]
  },
  {
   "cell_type": "markdown",
   "metadata": {},
   "source": [
    "### 머신, 딥러닝 코드를 다루다 보면 함수 정의 부분이 중요하다\n",
    "\n",
    "함수는 특정 작업을 수행하는 명령문들의 그룹이다\n",
    "\n",
    "기능 단위로 모듈을 구성하는데 사용된다\n",
    "\n",
    "프로그램이 복잡해질수록 함수 사용으로 코드를 체계적으로 관리할 수 있다  \n",
    "\n",
    "함수는 정의부분돠 호출부분 이 두 부분으로 나누어서 바라보아야 한다.  \n",
    "정의 부분에서는 해당 함수가 행하는 기능을 구현해 놓는데,  \n",
    "정의해 놓은 기능이 동작하기 위해서는 반드시 함수를 호출(사용)해야 동작이 그때 이루어진다\n",
    "\n",
    "\n",
    "    1. 함수 정의 기본 문법\n",
    "     def 함수이름(매개변수):\n",
    "        수행할 문장1\n",
    "        수행할 문장2\n",
    "        \n",
    "    2. return 문이 있는 함수 / 없는 함수\n",
    "    \n",
    "    3. 매개변수 여부(0~여러개) 가능하다\n",
    "    \n",
    "    4. 매개변수에 따른  \n",
    "       함수를 만드는 방법 4가지\n",
    "        1)위치매개변수\n",
    "        2)기본매개변수\n",
    "        3)키워드매개변수\n",
    "        4)가변매개변수"
   ]
  },
  {
   "cell_type": "markdown",
   "metadata": {},
   "source": [
    "### 1. 위치매개변수\n",
    "\n",
    "* 가장 기본적인 인자값 전달방식\n",
    "* 함수에서 정의한 위치대로 인자값이 passing into\n",
    "* 모든 함수는 return 구문이 있거나 없는 함수로 정의됨"
   ]
  },
  {
   "cell_type": "code",
   "execution_count": 6,
   "metadata": {},
   "outputs": [
    {
     "name": "stdout",
     "output_type": "stream",
     "text": [
      "num1 : 1\n",
      "4\n"
     ]
    }
   ],
   "source": [
    "def calc(num1, num2):\n",
    "    \n",
    "    '''\n",
    "    이부분을 doc string\n",
    "    자기가 만든 함수를 자신만 보는 것이 아니라 팀원 전원이 공유해야 하기에\n",
    "    해당함수에 대한 자세한 설명을 달아둔다\n",
    "    \n",
    "    매개변수로 받은 값들을 더하는 기능\n",
    "    2개의 인자값을 넘겨받는다.\n",
    "    총합을 리턴한다.\n",
    "    \n",
    "    해당 함수의 설명을 보려면?\n",
    "    1)calc?\n",
    "    \n",
    "    2) calc.__doc__\n",
    "    '''\n",
    "    result = num1 + num2\n",
    "    print('num1 :', num1)\n",
    "    return result\n",
    "\n",
    "print(calc(1, 3))"
   ]
  },
  {
   "cell_type": "code",
   "execution_count": 9,
   "metadata": {},
   "outputs": [
    {
     "name": "stdout",
     "output_type": "stream",
     "text": [
      "\n",
      "    이부분을 doc string\n",
      "    자기가 만든 함수를 자신만 보는 것이 아니라 팀원 전원이 공유해야 하기에\n",
      "    해당함수에 대한 자세한 설명을 달아둔다\n",
      "    \n",
      "    매개변수로 받은 값들을 더하는 기능\n",
      "    2개의 인자값을 넘겨받는다.\n",
      "    총합을 리턴한다.\n",
      "    \n",
      "    해당 함수의 설명을 보려면?\n",
      "    1)calc?\n",
      "    \n",
      "    2) calc.__doc__\n",
      "    \n"
     ]
    }
   ],
   "source": [
    "#calc.__doc__\n",
    "#calc?\n",
    "print(calc.__doc__)"
   ]
  },
  {
   "cell_type": "code",
   "execution_count": 10,
   "metadata": {},
   "outputs": [
    {
     "name": "stdout",
     "output_type": "stream",
     "text": [
      "3와 4의 합은 7이다.\n"
     ]
    }
   ],
   "source": [
    "# 리턴 값이 없는 이유\n",
    "def add(a, b):\n",
    "    add_sum = a + b\n",
    "    print(\"%d와 %d의 합은 %d이다.\" %(a, b, add_sum))\n",
    "\n",
    "add(3, 4)"
   ]
  },
  {
   "cell_type": "code",
   "execution_count": null,
   "metadata": {},
   "outputs": [],
   "source": []
  },
  {
   "cell_type": "markdown",
   "metadata": {},
   "source": [
    "### 2. 기본매개변수\n",
    "\n",
    "* 변수값을 입력하지 않으면 기본값이 활성화됨.\n",
    "* 즉, 매개변수에 아무것도 입력하지 않아도 무조건 자동으로 들어가는 값\n",
    "* 기본매개변수는 반드시 일반매개변수 뒤에 나와야 한다.\n",
    "* pandas 라이브러리에서도 많이 사용된다."
   ]
  },
  {
   "cell_type": "code",
   "execution_count": 16,
   "metadata": {},
   "outputs": [],
   "source": [
    "def calc(end, start = 0):\n",
    "    total = 0\n",
    "    for i in range(start , end):\n",
    "        total += i\n",
    "    return total"
   ]
  },
  {
   "cell_type": "code",
   "execution_count": 17,
   "metadata": {},
   "outputs": [
    {
     "name": "stdout",
     "output_type": "stream",
     "text": [
      "10\n",
      "10\n"
     ]
    }
   ],
   "source": [
    "print(calc(5, 1))\n",
    "print(calc(5)) # 에러 안난다. 기본값이 활성화 된다."
   ]
  },
  {
   "cell_type": "code",
   "execution_count": 19,
   "metadata": {},
   "outputs": [],
   "source": [
    "import pandas as pd\n",
    "from pandas import DataFrame\n",
    "\n",
    "pd.read_csv?"
   ]
  },
  {
   "cell_type": "markdown",
   "metadata": {},
   "source": [
    "### 3. 키워드매개변수\n",
    "\n",
    "* 매개변수에 직접 변수명을 명시하여 값을 넘겨주는데 이를 키워드 매개변수라 한다\n",
    "* 인자값의 순서, 위치에 상관없이 직접 매개변수를 지정해서 전달한다\n",
    "* 주의할 점은 함수 호출시에 매개변수명을 정확히 알아야 한다."
   ]
  },
  {
   "cell_type": "code",
   "execution_count": 25,
   "metadata": {},
   "outputs": [
    {
     "name": "stdout",
     "output_type": "stream",
     "text": [
      "주민번호는 1112, 이름은 홍길동이고 나이는 19살입니다.\n",
      "**************************************************\n",
      "주민번호는 19, 이름은 홍길동이고 나이는 1112살입니다.\n",
      "**************************************************\n",
      "주민번호는 1112, 이름은 홍길동이고 나이는 19살입니다.\n"
     ]
    }
   ],
   "source": [
    "def calc2(ssn, name, age):\n",
    "    print(f\"주민번호는 {ssn}, 이름은 {name}이고 나이는 {age}살입니다.\")\n",
    "    \n",
    "calc2(1112, \"홍길동\", 19)\n",
    "print('*'*50)\n",
    "calc2(19, '홍길동', 1112)\n",
    "print('*'*50)\n",
    "calc2(age = 19, name = '홍길동', ssn = '1112')"
   ]
  },
  {
   "cell_type": "markdown",
   "metadata": {},
   "source": [
    "`키워드매개변수 사용 예`"
   ]
  },
  {
   "cell_type": "code",
   "execution_count": 29,
   "metadata": {},
   "outputs": [],
   "source": [
    "DataFrame?\n",
    "# import numpy as np\n",
    "# df1 = DataFrame(\n",
    "#     np.random.randn(4, 4),\n",
    "#     columns = list('efgh'),\n",
    "#     index = list('abcd')\n",
    "# )\n",
    "\n",
    "# df1"
   ]
  },
  {
   "cell_type": "markdown",
   "metadata": {},
   "source": [
    "### 4-1. 가변매개변수\n",
    "\n",
    "- 인자값이 몇개인지 모르는 상황에서 사용\n",
    "- 일반매개변수와 다르게 변수명 앞에 *을 붙임\n",
    "- 가변 매개변수는 인자값을 튜플형태로 받는다\n",
    "- 역시 가변매개변수 뒤에 일반매개변수가 뒤에 올 수없다\n",
    "- 가변 매개변수는 하나만 사용해야 한다\n",
    "\n",
    "- 파이썬에서 print() 함수가 대표적인데, 원하는 만큼의 인자값을 받을수 있도록 작성"
   ]
  },
  {
   "cell_type": "code",
   "execution_count": 30,
   "metadata": {},
   "outputs": [],
   "source": [
    "def calc3(*args):\n",
    "    print(args)\n",
    "    sum = 0\n",
    "    for i in args:\n",
    "        sum += i\n",
    "    return sum"
   ]
  },
  {
   "cell_type": "code",
   "execution_count": 33,
   "metadata": {},
   "outputs": [
    {
     "name": "stdout",
     "output_type": "stream",
     "text": [
      "(3,)\n",
      "3\n",
      "(3, 5, 7, 9)\n",
      "24\n"
     ]
    }
   ],
   "source": [
    "result = calc3(3)\n",
    "print(result)\n",
    "print(calc3(3, 5, 7, 9))"
   ]
  },
  {
   "cell_type": "code",
   "execution_count": null,
   "metadata": {},
   "outputs": [],
   "source": []
  },
  {
   "cell_type": "markdown",
   "metadata": {},
   "source": [
    "### 4-2. 가변매개변수\n",
    "- *이 2개붙는 경우\n",
    "- 딕셔너리형 매개변수"
   ]
  },
  {
   "cell_type": "code",
   "execution_count": 47,
   "metadata": {},
   "outputs": [],
   "source": [
    "def calc4(**args):\n",
    "    print(args)\n",
    "    "
   ]
  },
  {
   "cell_type": "code",
   "execution_count": 51,
   "metadata": {},
   "outputs": [
    {
     "name": "stdout",
     "output_type": "stream",
     "text": [
      "{'name': 'james', 'age': 44, 'address': 'NY'}\n",
      "========================================\n",
      "{'name': 'james', 'age': 44, 'address': 'NY'}\n"
     ]
    }
   ],
   "source": [
    "# calc4(3, 4, 5) 딕셔너리 형태 인자값이 아니라서\n",
    "'''\n",
    "**이 2개 변수명 앞에 붙을 때는\n",
    "인자값 입력에 조금 더 주의를 요해야 한다.\n",
    "\n",
    "딕셔너리 타입(key, value 인자값 타입!!)\n",
    "------------------------------------\n",
    "\n",
    "인자값으로 딕셔너리 전체를 넘기는 방법도 있는데\n",
    "이 때 주의할 점은 앞에 **를 붙인다.\n",
    "\n",
    "'''\n",
    "\n",
    "calc4(name = 'james', age = 44, address = 'NY')\n",
    "print('==' * 20)\n",
    "info = {'name' : 'james', 'age' : 44, 'address' : 'NY'}\n",
    "#  calc4(info) <==에러 \n",
    "calc4(**info)"
   ]
  },
  {
   "cell_type": "markdown",
   "metadata": {},
   "source": [
    "#### 일반매개변수와 가변매개변수를 함께 사용하는 경우"
   ]
  },
  {
   "cell_type": "code",
   "execution_count": 57,
   "metadata": {},
   "outputs": [
    {
     "name": "stdout",
     "output_type": "stream",
     "text": [
      "james : (3, 4, 5)\n",
      "**************************************************\n",
      "3 : (4, 5, 'james')\n"
     ]
    }
   ],
   "source": [
    "def calc5(name, *args):\n",
    "# def calc5(*args, name): 가변매개변수는 값을 몇 개 받을지 모르기에 뒤에 써야한다.\n",
    "    print(name, ':', args)\n",
    "    \n",
    "calc5('james', 3, 4 ,5)\n",
    "print('*' * 50)\n",
    "calc5(3, 4 ,5, 'james')\n"
   ]
  },
  {
   "cell_type": "code",
   "execution_count": 62,
   "metadata": {},
   "outputs": [
    {
     "name": "stdout",
     "output_type": "stream",
     "text": [
      "james : {'kill': '123'}\n",
      "================================================================================\n",
      "james : {'a': 1, 'b': 2, 'c': 3}\n"
     ]
    }
   ],
   "source": [
    "def calc6(name, **args):\n",
    "    print(name, ':', args)\n",
    "dict1 = {'a' : 1, 'b' : 2, 'c' : 3}\n",
    "calc6('james', kill = '123')\n",
    "print('==' * 40)\n",
    "calc6('james', **dict1)"
   ]
  },
  {
   "cell_type": "markdown",
   "metadata": {},
   "source": [
    "#### 튜플형, 딕셔너리형 매개변수 함께 사용하는 경우"
   ]
  },
  {
   "cell_type": "code",
   "execution_count": 69,
   "metadata": {},
   "outputs": [],
   "source": [
    "def calc7(*a, **b):\n",
    "    for i in a:\n",
    "        print(i)\n",
    "    print('==' * 20)\n",
    "    \n",
    "    for k, v in b.items():\n",
    "        print(k, v)\n",
    "    print('@@' * 20)\n"
   ]
  },
  {
   "cell_type": "code",
   "execution_count": 71,
   "metadata": {},
   "outputs": [
    {
     "name": "stdout",
     "output_type": "stream",
     "text": [
      "1\n",
      "2\n",
      "3\n",
      "========================================\n",
      "name james\n",
      "address NY city\n",
      "@@@@@@@@@@@@@@@@@@@@@@@@@@@@@@@@@@@@@@@@\n",
      "1\n",
      "2\n",
      "3\n",
      "========================================\n",
      "a 5\n",
      "b 6\n",
      "c 7\n",
      "@@@@@@@@@@@@@@@@@@@@@@@@@@@@@@@@@@@@@@@@\n"
     ]
    }
   ],
   "source": [
    "dict2 = {'name' : 'james', 'address' : 'NY city'}\n",
    "calc7(1, 2, 3, **dict2)\n",
    "calc7(1, 2, 3, a = 5, b = 6, c = 7)"
   ]
  },
  {
   "cell_type": "markdown",
   "metadata": {},
   "source": [
    "#### 기본매개변수가 가변매개변수보다 앞에 올때\n",
    "\n",
    "`step1`"
   ]
  },
  {
   "cell_type": "code",
   "execution_count": 1,
   "metadata": {},
   "outputs": [],
   "source": [
    "def my_func(num = 2, *values):\n",
    "    #num 횟수만큼 반복\n",
    "    for i in range(num):\n",
    "        #values안에 있는 데이터를 반복하면서 출력\n",
    "        for value in values:\n",
    "            print(value)\n",
    "        print()"
   ]
  },
  {
   "cell_type": "code",
   "execution_count": 2,
   "metadata": {},
   "outputs": [
    {
     "name": "stdout",
     "output_type": "stream",
     "text": [
      "오늘은\n",
      "함수부분을\n",
      "배워봅니다\n",
      "\n",
      "오늘은\n",
      "함수부분을\n",
      "배워봅니다\n",
      "\n",
      "오늘은\n",
      "함수부분을\n",
      "배워봅니다\n",
      "\n"
     ]
    }
   ],
   "source": [
    "# my_func('오늘은', '함수부분을', '배워봅니다') <== 에러\n",
    "my_func(3,'오늘은', '함수부분을', '배워봅니다')"
   ]
  },
  {
   "cell_type": "markdown",
   "metadata": {},
   "source": [
    "`step2`"
   ]
  },
  {
   "cell_type": "code",
   "execution_count": 78,
   "metadata": {},
   "outputs": [
    {
     "name": "stdout",
     "output_type": "stream",
     "text": [
      "오늘은\n",
      "함수부분을\n",
      "배워봅니다\n",
      "\n",
      "오늘은\n",
      "함수부분을\n",
      "배워봅니다\n",
      "\n"
     ]
    }
   ],
   "source": [
    "'''\n",
    "결론은 가변매개변수가 우선되어져야 한다.\n",
    "가변이 먼저인지 기본이 먼저인지 \n",
    "순서게 헷갈릴 때 가장 좋은 해결책은 ?\n",
    "\n",
    "키워드 매개변수가 필요한 이유이다.\n",
    "'''\n",
    "def my_func(*values, num = 2):\n",
    "    #num 횟수만큼 반복\n",
    "    for i in range(num):\n",
    "        #values안에 있는 데이터를 반복하면서 출력\n",
    "        for value in values:\n",
    "            print(value)\n",
    "        print()\n",
    "my_func('오늘은', '함수부분을', '배워봅니다')"
   ]
  },
  {
   "cell_type": "code",
   "execution_count": null,
   "metadata": {},
   "outputs": [],
   "source": []
  },
  {
   "cell_type": "code",
   "execution_count": null,
   "metadata": {},
   "outputs": [],
   "source": []
  },
  {
   "cell_type": "markdown",
   "metadata": {},
   "source": [
    "`step3`"
   ]
  },
  {
   "cell_type": "code",
   "execution_count": 4,
   "metadata": {},
   "outputs": [
    {
     "name": "stdout",
     "output_type": "stream",
     "text": [
      "오늘은\n",
      "함수부분을\n",
      "배워봅니다\n",
      "\n",
      "오늘은\n",
      "함수부분을\n",
      "배워봅니다\n",
      "\n",
      "오늘은\n",
      "함수부분을\n",
      "배워봅니다\n",
      "\n",
      "오늘은\n",
      "함수부분을\n",
      "배워봅니다\n",
      "\n",
      "오늘은\n",
      "함수부분을\n",
      "배워봅니다\n",
      "\n"
     ]
    }
   ],
   "source": [
    "def my_func(*values, num = 2):\n",
    "    #num 횟수만큼 반복\n",
    "    for i in range(num):\n",
    "        #values안에 있는 데이터를 반복하면서 출력\n",
    "        for value in values:\n",
    "            print(value)\n",
    "        print()\n",
    "my_func('오늘은', '함수부분을', '배워봅니다', num = 5)"
   ]
  },
  {
   "cell_type": "code",
   "execution_count": null,
   "metadata": {},
   "outputs": [],
   "source": []
  },
  {
   "cell_type": "markdown",
   "metadata": {},
   "source": [
    "#### 코드라인이 없을때 함수 선언만으로 "
   ]
  },
  {
   "cell_type": "code",
   "execution_count": null,
   "metadata": {},
   "outputs": [],
   "source": []
  },
  {
   "cell_type": "code",
   "execution_count": null,
   "metadata": {},
   "outputs": [],
   "source": []
  },
  {
   "cell_type": "markdown",
   "metadata": {},
   "source": [
    "### 문제 1"
   ]
  },
  {
   "cell_type": "markdown",
   "metadata": {},
   "source": [
    "####  1) 가변매개변수와 일반매개변수를 함께 사용해서  \n",
    "    3\n",
    "    6\n",
    "    9\n",
    "    가 츨력되도록 함수를 정의합니다.  \n",
    "    - 함수명은 value_times\n",
    "    - 인자값은 2개 times, values\n",
    "    - 함수 호출시 times에는 3을, values에는 1,2,3을 입력\n",
    "    "
   ]
  },
  {
   "cell_type": "code",
   "execution_count": 82,
   "metadata": {},
   "outputs": [
    {
     "ename": "IndentationError",
     "evalue": "expected an indented block (Temp/ipykernel_12852/3180901068.py, line 2)",
     "output_type": "error",
     "traceback": [
      "\u001b[1;36m  File \u001b[1;32m\"C:\\Users\\user\\AppData\\Local\\Temp/ipykernel_12852/3180901068.py\"\u001b[1;36m, line \u001b[1;32m2\u001b[0m\n\u001b[1;33m    \u001b[0m\n\u001b[1;37m    ^\u001b[0m\n\u001b[1;31mIndentationError\u001b[0m\u001b[1;31m:\u001b[0m expected an indented block\n"
     ]
    }
   ],
   "source": [
    "def value_times(times = 3, *values):\n",
    "    "
   ]
  },
  {
   "cell_type": "markdown",
   "metadata": {},
   "source": [
    "####  2) 가변매개변수와 기본매개변수를 함께 사용해서  \n",
    "    2  \n",
    "    4  \n",
    "    6  \n",
    "    8  \n",
    "    10  \n",
    "   \n",
    "    이 츨력되도록 함수를 정의합니다.  \n",
    "    - 함수명은 value_times\n",
    "    - 인자값은 2개 times, values\n",
    "    - 함수 호출시 values에만  1,2,3,4,5를 입력합니다."
   ]
  },
  {
   "cell_type": "code",
   "execution_count": null,
   "metadata": {},
   "outputs": [],
   "source": []
  },
  {
   "cell_type": "markdown",
   "metadata": {},
   "source": [
    "### 문제 2\n",
    "\n",
    "함수 calc_many(choice, *args)에서  \n",
    "choice가 sum 이면 합을 구해서 리턴하고,  \n",
    "choice가 mul 이면 곱한 결과를 리턴하는 함수를 정의하세요"
   ]
  },
  {
   "cell_type": "code",
   "execution_count": null,
   "metadata": {},
   "outputs": [],
   "source": []
  }
 ],
 "metadata": {
  "kernelspec": {
   "display_name": "Python 3 (ipykernel)",
   "language": "python",
   "name": "python3"
  },
  "language_info": {
   "codemirror_mode": {
    "name": "ipython",
    "version": 3
   },
   "file_extension": ".py",
   "mimetype": "text/x-python",
   "name": "python",
   "nbconvert_exporter": "python",
   "pygments_lexer": "ipython3",
   "version": "3.9.7"
  }
 },
 "nbformat": 4,
 "nbformat_minor": 4
}
