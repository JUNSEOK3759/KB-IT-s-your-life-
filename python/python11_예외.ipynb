{
 "cells": [
  {
   "cell_type": "markdown",
   "id": "23f7d923",
   "metadata": {},
   "source": [
    "### 오류의 종류\n",
    "\n",
    "* 프로그램 실행 전에 발생하는 오류\n",
    "> Syntax Error\n",
    ">> 괄호 갯수, 들여쓰기 문제 등등\n",
    "* 프로그램 실행 중에 발생하는 오류\n",
    "> 예외, Exception\n",
    ">> 여기서 다뤄보자"
   ]
  },
  {
   "cell_type": "code",
   "execution_count": 6,
   "id": "cecb3d8a",
   "metadata": {},
   "outputs": [
    {
     "name": "stdout",
     "output_type": "stream",
     "text": [
      "숫자입력: -1\n",
      "원둘레 -6.28\n"
     ]
    }
   ],
   "source": [
    "r = int(input(\"숫자입력: \"))\n",
    "print('원둘레', r * 3.14* 2)"
   ]
  },
  {
   "cell_type": "markdown",
   "id": "cd55a8cb",
   "metadata": {},
   "source": [
    "`step1  조건문`"
   ]
  },
  {
   "cell_type": "code",
   "execution_count": 4,
   "id": "3ee5d569",
   "metadata": {},
   "outputs": [
    {
     "name": "stdout",
     "output_type": "stream",
     "text": [
      "숫자입력a\n",
      "정수를 입력하세요\n"
     ]
    }
   ],
   "source": [
    "r = input('숫자입력')\n",
    "\n",
    "if r.isdigit(): #입력값이 숫자라면\n",
    "    num_r = int(r)\n",
    "    \n",
    "    print('원둘레 ', num_r * 2* 3.14)\n",
    "else :\n",
    "    print('정수를 입력하세요')"
   ]
  },
  {
   "cell_type": "markdown",
   "id": "b0f4c682",
   "metadata": {},
   "source": [
    "`step2 예외처리하기 try except`"
   ]
  },
  {
   "cell_type": "code",
   "execution_count": 5,
   "id": "70516c60",
   "metadata": {},
   "outputs": [
    {
     "name": "stdout",
     "output_type": "stream",
     "text": [
      "숫자입력: a\n",
      "숫자입력 부탁~~!!\n"
     ]
    }
   ],
   "source": [
    "try:\n",
    "    r = int(input(\"숫자입력: \")) #예외 발생 가능성 있는 코드\n",
    "    print('원둘레', r * 3.14* 2)\n",
    "    \n",
    "except:    # 예외가 발생하면 이곳으로 코드가 이동하고 / 여기서 예외발생시 처리코드입력\n",
    "    print('숫자입력 부탁~~!!')"
   ]
  },
  {
   "cell_type": "markdown",
   "id": "bce70ddf",
   "metadata": {},
   "source": [
    "### try ~ except\n",
    "\n",
    "<pre>\n",
    "\n",
    "try:\n",
    "   예외가 발생할 가능성이 있는 코드\n",
    "   \n",
    "except:\n",
    "   예외 발생시 처리해야 하는 코드\n",
    "   프로그램이 비정상종료 되는 것만 막으면 된다면 이곳에 아무것도 입력하지 않고 pass만 입력\n",
    "\n",
    "</pre>"
   ]
  },
  {
   "cell_type": "code",
   "execution_count": 7,
   "id": "d2f68e32",
   "metadata": {},
   "outputs": [
    {
     "ename": "IndexError",
     "evalue": "list index out of range",
     "output_type": "error",
     "traceback": [
      "\u001b[1;31m---------------------------------------------------------------------------\u001b[0m",
      "\u001b[1;31mIndexError\u001b[0m                                Traceback (most recent call last)",
      "\u001b[1;32m~\\AppData\\Local\\Temp/ipykernel_23244/2972480842.py\u001b[0m in \u001b[0;36m<module>\u001b[1;34m\u001b[0m\n\u001b[0;32m      7\u001b[0m \u001b[0m예외\u001b[0m \u001b[0m처리를\u001b[0m \u001b[0m해보도록\u001b[0m \u001b[0m한다\u001b[0m\u001b[1;33m.\u001b[0m\u001b[1;33m\u001b[0m\u001b[1;33m\u001b[0m\u001b[0m\n\u001b[0;32m      8\u001b[0m '''\n\u001b[1;32m----> 9\u001b[1;33m \u001b[0ma\u001b[0m\u001b[1;33m[\u001b[0m\u001b[1;36m5\u001b[0m\u001b[1;33m]\u001b[0m\u001b[1;33m\u001b[0m\u001b[1;33m\u001b[0m\u001b[0m\n\u001b[0m",
      "\u001b[1;31mIndexError\u001b[0m: list index out of range"
     ]
    }
   ],
   "source": [
    "a = [1,2,3,4]\n",
    "'''\n",
    "지금처럼 오류가 발생하면 파이썬은 프로그램을 비정상적으로 종료하고\n",
    "오류 메세지를 출력한다.\n",
    "\n",
    "오류 발생을 잘 처리하고 정상적으로 프로그램이 종료될수 있도록 \n",
    "예외 처리를 해보도록 한다.\n",
    "'''\n",
    "a[5]"
   ]
  },
  {
   "cell_type": "markdown",
   "id": "a618b0df",
   "metadata": {},
   "source": [
    "###  try~except만 사용하는 방법  \n",
    "\n",
    "* 발생 오류만 포함한 except문"
   ]
  },
  {
   "cell_type": "code",
   "execution_count": 8,
   "id": "0ae68e92",
   "metadata": {},
   "outputs": [
    {
     "name": "stdout",
     "output_type": "stream",
     "text": [
      "try....\n",
      "except..as\n"
     ]
    }
   ],
   "source": [
    "try:\n",
    "    a = [1,2,3,4]\n",
    "    print('try....')\n",
    "    print(a[5])\n",
    "    \n",
    "except IndexError:\n",
    "    print('except..as')"
   ]
  },
  {
   "cell_type": "markdown",
   "id": "0d77f904",
   "metadata": {},
   "source": [
    "###  try~except만 사용하는 방법  \n",
    "\n",
    "* except 발생 오류 as 오류 메시지 변수:"
   ]
  },
  {
   "cell_type": "code",
   "execution_count": 9,
   "id": "40670431",
   "metadata": {},
   "outputs": [
    {
     "name": "stdout",
     "output_type": "stream",
     "text": [
      "try....\n",
      "except..as\n",
      "list index out of range\n"
     ]
    }
   ],
   "source": [
    "try:\n",
    "    a = [1,2,3,4]\n",
    "    print('try....')\n",
    "    print(a[5])\n",
    "    \n",
    "except IndexError as e:\n",
    "    print('except..as')\n",
    "    print(e)"
   ]
  },
  {
   "cell_type": "markdown",
   "id": "dd7c2357",
   "metadata": {},
   "source": [
    "### try~except만 사용하는 방법\n",
    "\n",
    "* try문 안에서 여러 개의 except 구문 사용하기"
   ]
  },
  {
   "cell_type": "code",
   "execution_count": 10,
   "id": "9d7d3216",
   "metadata": {},
   "outputs": [
    {
     "name": "stdout",
     "output_type": "stream",
     "text": [
      "인덱싱 할 수 없습니다.\n"
     ]
    }
   ],
   "source": [
    "try:\n",
    "    a = [1,2]\n",
    "    print(a[3])\n",
    "    4/0             # 윗라인에서 예외가 발생했기 때문에 이부분까지는 못왔다.\n",
    "except ZeroDivisionError:  \n",
    "    print(\"0으로 나눌 수 없습니다.\")\n",
    "except IndexError:\n",
    "    print(\"인덱싱 할 수 없습니다.\")"
   ]
  },
  {
   "cell_type": "markdown",
   "id": "fe971f60",
   "metadata": {},
   "source": [
    "### try~except만 사용하는 방법\n",
    "\n",
    "* 다음과 같이 ZerroDivisionError와 IndexError를 함께 처리할 수도 있다."
   ]
  },
  {
   "cell_type": "code",
   "execution_count": 12,
   "id": "543347c0",
   "metadata": {},
   "outputs": [
    {
     "name": "stdout",
     "output_type": "stream",
     "text": [
      "list index out of range\n"
     ]
    }
   ],
   "source": [
    "try:\n",
    "    a = [1,2]\n",
    "    print(a[3])\n",
    "    4/0\n",
    "except (ZeroDivisionError, IndexError) as e:\n",
    "    print(e)"
   ]
  },
  {
   "cell_type": "markdown",
   "id": "16e95a35",
   "metadata": {},
   "source": [
    "### try except else 사용하는 방법\n",
    "\n",
    "* 제어문과 함께 사용하기\n",
    "* try except else 구문을 사용할 때는 예외 발생 가능 코드만 try 구문 내부에 넣고  \n",
    "  나머지를 모두 else구문으로 빼는 경우가 많다  \n",
    "  \n",
    "  <pre>\n",
    "  try :\n",
    "      예외 발생 가능성 있는 코드\n",
    "  except :\n",
    "      예외 발생시 실행할 코드\n",
    "  else :\n",
    "      예외가 발생하지 않았을 때 실행할 코드\n",
    "  \n",
    "  </pre>"
   ]
  },
  {
   "cell_type": "code",
   "execution_count": null,
   "id": "2f981c4b",
   "metadata": {},
   "outputs": [],
   "source": [
    "try:\n",
    "    age=int(input('나이를 입력하세요: '))\n",
    "except:\n",
    "    print('입력이 정확하지 않습니다.')\n",
    "else:\n",
    "    if age <= 18:\n",
    "        print('미성년자는 출입금지입니다.')\n",
    "    else:\n",
    "        print('환영합니다.')"
   ]
  },
  {
   "cell_type": "markdown",
   "id": "0bc97105",
   "metadata": {},
   "source": [
    "### try except  else  finally 사용하는 방법\n",
    "\n",
    "<pre>\n",
    "\n",
    "    try :\n",
    "        예외 발생 가능성 있는 코드\n",
    "    except :\n",
    "        예외 발생시 실행할 코드\n",
    "    else :\n",
    "        예외가 발생하지 않았을 때 실행할 코드\n",
    "\n",
    "    finally:\n",
    "        예외와 상관없이 무조건 실행되어야 하는 코드\n",
    "</pre>\n"
   ]
  },
  {
   "cell_type": "code",
   "execution_count": 13,
   "id": "5c1020ee",
   "metadata": {},
   "outputs": [
    {
     "name": "stdout",
     "output_type": "stream",
     "text": [
      "나이를 입력하세요: a\n",
      "입력이 정확하지 않습니다.\n",
      "이부분은 항상 실행됩니다..\n"
     ]
    }
   ],
   "source": [
    "try:\n",
    "    age=int(input('나이를 입력하세요: '))\n",
    "except:\n",
    "    print('입력이 정확하지 않습니다.')\n",
    "else:\n",
    "    if age <= 18:\n",
    "        print('미성년자는 출입금지입니다.')\n",
    "    else:\n",
    "        print('환영합니다.')\n",
    "finally:\n",
    "    print(\"이부분은 항상 실행됩니다..\")"
   ]
  },
  {
   "cell_type": "code",
   "execution_count": null,
   "id": "879531cb",
   "metadata": {},
   "outputs": [],
   "source": []
  },
  {
   "cell_type": "code",
   "execution_count": 20,
   "id": "327e332e",
   "metadata": {},
   "outputs": [
    {
     "name": "stdout",
     "output_type": "stream",
     "text": [
      "5\n",
      "4\n",
      "4\n"
     ]
    }
   ],
   "source": [
    "import math as m\n",
    "\n",
    "print(m.ceil(4.65))\n",
    "print(m.floor(4.65))\n",
    "print(m.trunc(4.65))"
   ]
  },
  {
   "cell_type": "code",
   "execution_count": null,
   "id": "a1c7a31d",
   "metadata": {},
   "outputs": [],
   "source": [
    "'''모듈러스 짝수, 홀수 \n",
    "딕셔너리 for in key와 value값 뽑기\n",
    "continue와 break \n",
    "리스트 슬라이싱 [ : : ]\n",
    "''''''"
   ]
  },
  {
   "cell_type": "code",
   "execution_count": 22,
   "id": "3b99ee7a",
   "metadata": {},
   "outputs": [
    {
     "ename": "TypeError",
     "evalue": "can't multiply sequence by non-int of type 'str'",
     "output_type": "error",
     "traceback": [
      "\u001b[1;31m---------------------------------------------------------------------------\u001b[0m",
      "\u001b[1;31mTypeError\u001b[0m                                 Traceback (most recent call last)",
      "\u001b[1;32m~\\AppData\\Local\\Temp/ipykernel_23244/1612201977.py\u001b[0m in \u001b[0;36m<module>\u001b[1;34m\u001b[0m\n\u001b[0;32m      1\u001b[0m \u001b[0mmessage\u001b[0m \u001b[1;33m=\u001b[0m \u001b[1;34m'hello'\u001b[0m\u001b[1;33m\u001b[0m\u001b[1;33m\u001b[0m\u001b[0m\n\u001b[1;32m----> 2\u001b[1;33m \u001b[0mprint\u001b[0m\u001b[1;33m(\u001b[0m\u001b[0mmessage\u001b[0m \u001b[1;33m*\u001b[0m \u001b[1;34m'3'\u001b[0m\u001b[1;33m)\u001b[0m\u001b[1;33m\u001b[0m\u001b[1;33m\u001b[0m\u001b[0m\n\u001b[0m",
      "\u001b[1;31mTypeError\u001b[0m: can't multiply sequence by non-int of type 'str'"
     ]
    }
   ],
   "source": [
    "message = 'hello'\n",
    "print(message * '3')"
   ]
  },
  {
   "cell_type": "code",
   "execution_count": 23,
   "id": "14aa721d",
   "metadata": {},
   "outputs": [
    {
     "name": "stdout",
     "output_type": "stream",
     "text": [
      "hellohellohello\n"
     ]
    }
   ],
   "source": [
    "print(message * int('3'))"
   ]
  },
  {
   "cell_type": "code",
   "execution_count": null,
   "id": "0b46df3d",
   "metadata": {},
   "outputs": [],
   "source": []
  }
 ],
 "metadata": {
  "kernelspec": {
   "display_name": "Python 3 (ipykernel)",
   "language": "python",
   "name": "python3"
  },
  "language_info": {
   "codemirror_mode": {
    "name": "ipython",
    "version": 3
   },
   "file_extension": ".py",
   "mimetype": "text/x-python",
   "name": "python",
   "nbconvert_exporter": "python",
   "pygments_lexer": "ipython3",
   "version": "3.9.7"
  }
 },
 "nbformat": 4,
 "nbformat_minor": 5
}
