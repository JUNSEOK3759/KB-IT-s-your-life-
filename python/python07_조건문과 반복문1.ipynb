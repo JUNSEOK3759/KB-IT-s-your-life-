{
 "cells": [
  {
   "cell_type": "markdown",
   "metadata": {},
   "source": [
    "\n",
    "### 조건문, 제어문(if, elif, else)"
   ]
  },
  {
   "cell_type": "code",
   "execution_count": 1,
   "metadata": {},
   "outputs": [
    {
     "name": "stdout",
     "output_type": "stream",
     "text": [
      "y\n"
     ]
    }
   ],
   "source": [
    "i = 1\n",
    "if i == 0:\n",
    "    print('x')\n",
    "else :  \n",
    "    print('y')"
   ]
  },
  {
   "cell_type": "code",
   "execution_count": null,
   "metadata": {},
   "outputs": [],
   "source": []
  },
  {
   "cell_type": "markdown",
   "metadata": {},
   "source": [
    "#### 1이나 0은 True, False를 표현할 수 있다"
   ]
  },
  {
   "cell_type": "code",
   "execution_count": 2,
   "metadata": {},
   "outputs": [
    {
     "name": "stdout",
     "output_type": "stream",
     "text": [
      "참입니다..수행\n"
     ]
    }
   ],
   "source": [
    "if 1: #True\n",
    "    print(\"참입니다..수행\")\n",
    "else :\n",
    "    print(\"거짓 수행...\")"
   ]
  },
  {
   "cell_type": "code",
   "execution_count": 3,
   "metadata": {},
   "outputs": [
    {
     "name": "stdout",
     "output_type": "stream",
     "text": [
      "성별을 입력하세요 M or F\n",
      "M\n",
      "당신은 남성이군요!\n"
     ]
    }
   ],
   "source": [
    "gender = input(\"성별을 입력하세요 M or F\\n\")\n",
    "if gender == 'F':\n",
    "    print(\"당신은 여성이군요!!\")\n",
    "elif gender == 'M':\n",
    "    print(\"당신은 남성이군요!\")\n",
    "else :\n",
    "    print(\"Try Again~~!!\")"
   ]
  },
  {
   "cell_type": "markdown",
   "metadata": {},
   "source": [
    "### Self"
   ]
  },
  {
   "cell_type": "code",
   "execution_count": null,
   "metadata": {},
   "outputs": [],
   "source": []
  },
  {
   "cell_type": "code",
   "execution_count": 4,
   "metadata": {},
   "outputs": [
    {
     "name": "stdout",
     "output_type": "stream",
     "text": [
      "ODD...\n",
      "a is 3....\n"
     ]
    }
   ],
   "source": [
    "a = 3\n",
    "\n",
    "if a % 2 == 0:\n",
    "    print('EVEN....')\n",
    "else:\n",
    "    print('ODD...')\n",
    "    if a == 1:\n",
    "        print('a is 1....')\n",
    "    elif a == 3:\n",
    "        print('a is 3....')"
   ]
  },
  {
   "cell_type": "code",
   "execution_count": null,
   "metadata": {},
   "outputs": [],
   "source": []
  },
  {
   "cell_type": "markdown",
   "metadata": {},
   "source": [
    "### 연습문제 1\n",
    "\n",
    "(몸무게 + 100 -키)를 비만수치 공식이라고 할때,  \n",
    "input함수 사용해서 키와 몸무게를 입력받습니다.\n",
    "\n",
    "첫번째 줄에 비만 수치를 입력하고,  \n",
    "비만 수치가 0보가 크면  \n",
    "비만이라는 메세지를 출력하세요\n",
    "\n",
    "- 입력 예)  \n",
    "  info = [155, 60]\n",
    "\n",
    "- 출력 예)\n",
    "   비만 수치는 5입니다.  \n",
    "   당신은 비만입니다."
   ]
  },
  {
   "cell_type": "code",
   "execution_count": 5,
   "metadata": {},
   "outputs": [
    {
     "name": "stdout",
     "output_type": "stream",
     "text": [
      "키와 몸무게를 입력하세요: 100 50\n",
      "비만수치는 50 입니다. 당신은 비만입니다.\n"
     ]
    }
   ],
   "source": [
    "a, b = map(int, input('키와 몸무게를 입력하세요: ').split(' '))\n",
    "c = (b + 100 - a)\n",
    "if c > 0:\n",
    "    print(\"비만수치는\", c, \"입니다. 당신은 비만입니다.\")\n",
    "else :\n",
    "    print(\"당신은 정상입니다.\")"
   ]
  },
  {
   "cell_type": "markdown",
   "metadata": {},
   "source": [
    "### 반복문(while, for in)\n",
    "\n",
    "특정 조건을 만족하는 동안 반복하는 문장  \n",
    "반복문에서는 중요한 키워드가 2개 있다.  \n",
    "\n",
    "* break\n",
    "* continue\n",
    "\n"
   ]
  },
  {
   "cell_type": "markdown",
   "metadata": {},
   "source": [
    "### while문\n",
    "    1부터 100까지의 합을 구하자\n",
    "    조건을 2가지 방식으로 지정\n",
    "    1) while i <101:    2) while True: 무한루핑"
   ]
  },
  {
   "cell_type": "code",
   "execution_count": 6,
   "metadata": {},
   "outputs": [
    {
     "name": "stdout",
     "output_type": "stream",
     "text": [
      "100까지의 총 합은 5050\n"
     ]
    }
   ],
   "source": [
    "i = 1\n",
    "total = 0\n",
    "\n",
    "while i < 101:\n",
    "    total += i\n",
    "    i += 1\n",
    "print('100까지의 총 합은', total)"
   ]
  },
  {
   "cell_type": "code",
   "execution_count": null,
   "metadata": {},
   "outputs": [],
   "source": []
  },
  {
   "cell_type": "markdown",
   "metadata": {},
   "source": [
    "`break 키워드 사용`"
   ]
  },
  {
   "cell_type": "code",
   "execution_count": 7,
   "metadata": {},
   "outputs": [
    {
     "name": "stdout",
     "output_type": "stream",
     "text": [
      "맥주 1 잔 마셨음\n",
      "맥주 2 잔 마셨음\n",
      "맥주 3 잔 마셨음\n",
      "맥주 4 잔 마셨음\n",
      "맥주 5 잔 마셨음\n",
      "준석님의 치사량입니다 ~~\n",
      "지금까지 마신 맥주는 5 잔~~~\n"
     ]
    }
   ],
   "source": [
    "# break는 멈추는 연산\n",
    "beer = 1\n",
    "\n",
    "while True:\n",
    "    print(\"맥주\", beer, \"잔 마셨음\")\n",
    "        \n",
    "    if beer == 5:\n",
    "        print(\"준석님의 치사량입니다 ~~\")\n",
    "        break\n",
    "    beer += 1\n",
    "    \n",
    "print('지금까지 마신 맥주는', beer, '잔~~~')\n",
    "\n"
   ]
  },
  {
   "cell_type": "markdown",
   "metadata": {},
   "source": [
    "`continue 키워드 사용`"
   ]
  },
  {
   "cell_type": "code",
   "execution_count": 8,
   "metadata": {},
   "outputs": [
    {
     "name": "stdout",
     "output_type": "stream",
     "text": [
      "1부터 100까지 짝수의 합은 :  2550\n"
     ]
    }
   ],
   "source": [
    "#continue는 건너뛰는 것\n",
    "i = 0\n",
    "total = 0\n",
    "\n",
    "while i < 101:\n",
    "    i += 1\n",
    "    \n",
    "    if i % 2 != 0:\n",
    "        continue\n",
    "    total += i\n",
    "print('1부터 100까지 짝수의 합은 : ', total)"
   ]
  },
  {
   "cell_type": "code",
   "execution_count": 9,
   "metadata": {},
   "outputs": [
    {
     "name": "stdout",
     "output_type": "stream",
     "text": [
      "성별을 입력하세요.. (M or F)\n",
      "M\n",
      "Male...\n",
      "종료합니다.\n"
     ]
    }
   ],
   "source": [
    "gender = ''\n",
    "\n",
    "while gender != 'M' and gender != 'F':\n",
    "    gender = input('성별을 입력하세요.. (M or F)\\n')\n",
    "    \n",
    "    if gender == 'M':\n",
    "        print('Male...')\n",
    "    elif gender == 'F':\n",
    "        print('FeMale...')\n",
    "    else :\n",
    "        print('Try Again')\n",
    "print('종료합니다.')"
   ]
  },
  {
   "cell_type": "markdown",
   "metadata": {},
   "source": [
    "### for in 구문\n",
    "\n",
    "for  <변수> in  <iterable(리스트, 튜플, 문자열..)>   \n",
    "\n",
    "for v in collection:"
   ]
  },
  {
   "cell_type": "code",
   "execution_count": 10,
   "metadata": {},
   "outputs": [
    {
     "name": "stdout",
     "output_type": "stream",
     "text": [
      "red\n",
      "blue\n",
      "green\n"
     ]
    }
   ],
   "source": [
    "colors = ['red', 'blue', 'green']\n",
    "\n",
    "for color in colors:\n",
    "    print(color)"
   ]
  },
  {
   "cell_type": "markdown",
   "metadata": {},
   "source": [
    "### range 구문\n",
    "\n",
    "특정 숫자만큼 반복할 때 사용  \n",
    "반드시 list, dict, set, tuple등 집합에 대한 순외를 돌며 일을 처리할 때 많이 사용됨  \n",
    "\n",
    "\n",
    "range(num)\n",
    "* for i in range(10) : 10번 반복한다.\n",
    "* i에 0부터 10 미만까지 할당된다.\n",
    "    \n",
    "range(start, end)  \n",
    "* for i in range(start, end)  \n",
    "* for i in range(3, 10) : 3부터 9까지 i에 할당된다  \n",
    "\n",
    "ragnge(start, end, step)  \n",
    "* for i in range(1, 10, 2) : 1부터 9까지 도는데 2칸씩 건너뛴다."
   ]
  },
  {
   "cell_type": "code",
   "execution_count": 11,
   "metadata": {},
   "outputs": [
    {
     "name": "stdout",
     "output_type": "stream",
     "text": [
      "미나리\n",
      "스타워즈\n",
      "조커\n",
      "지옥\n",
      "학교\n",
      "========================================\n",
      "미나리\n",
      "스타워즈\n",
      "조커\n",
      "지옥\n",
      "학교\n",
      "========================================\n",
      "미나리\n",
      "스타워즈\n",
      "조커\n",
      "지옥\n",
      "학교\n",
      "========================================\n",
      "미나리\n",
      "조커\n",
      "학교\n",
      "========================================\n"
     ]
    }
   ],
   "source": [
    "movie_list = ['미나리', '스타워즈', '조커', '지옥', '학교']\n",
    "\n",
    "# for in\n",
    "for i in movie_list:\n",
    "    print(i)\n",
    "    \n",
    "print('==' * 20)\n",
    "\n",
    "#range\n",
    "for i in range(len(movie_list)):\n",
    "    print(movie_list[i])\n",
    "print('==' * 20)\n",
    "\n",
    "for i in range(0, len(movie_list)):\n",
    "    print(movie_list[i])\n",
    "print('==' * 20)\n",
    "\n",
    "for i in range(0, len(movie_list), 2):\n",
    "    print(movie_list[i])\n",
    "print('==' * 20)"
   ]
  },
  {
   "cell_type": "code",
   "execution_count": null,
   "metadata": {},
   "outputs": [],
   "source": []
  },
  {
   "cell_type": "markdown",
   "metadata": {},
   "source": [
    "### 연습문제 2. \n",
    "    키보드로 값들을 입력받습니다.\n",
    "    입력받은 값들의 전체 합을 구하는 로직을 작성\n",
    "    ex) 3,4,5,6 입력받은 값 세팅"
   ]
  },
  {
   "cell_type": "code",
   "execution_count": 12,
   "metadata": {},
   "outputs": [
    {
     "name": "stdout",
     "output_type": "stream",
     "text": [
      "3 4 5 6\n",
      "18\n"
     ]
    }
   ],
   "source": [
    "num = list(map(int, input(). split(' ')))\n",
    "sum1 = 0\n",
    "for i in num:\n",
    "    sum1 += i\n",
    "\n",
    "print(sum1)"
   ]
  },
  {
   "cell_type": "code",
   "execution_count": 13,
   "metadata": {},
   "outputs": [
    {
     "name": "stdout",
     "output_type": "stream",
     "text": [
      "3 4 5 6\n",
      "[3, 4, 5, 6]\n"
     ]
    },
    {
     "data": {
      "text/plain": [
       "18"
      ]
     },
     "execution_count": 13,
     "metadata": {},
     "output_type": "execute_result"
    }
   ],
   "source": [
    "i = list(map(int, input(). split()))\n",
    "print(i)\n",
    "\n",
    "res = sum(i)\n",
    "res"
   ]
  },
  {
   "cell_type": "markdown",
   "metadata": {},
   "source": [
    "### 연습문제 3\n",
    "    numList = [5,10,11,3,2,100] 으로 주어집니다.\n",
    "    \n",
    "    numList 리스트 자료형을 이용해서 아래와 같은 결과가 출력되도록 코드를 작성하세요\n",
    "    ['홀','짝','홀','홀','짝','짝']"
   ]
  },
  {
   "cell_type": "code",
   "execution_count": 14,
   "metadata": {},
   "outputs": [
    {
     "name": "stdout",
     "output_type": "stream",
     "text": [
      "['홀', '짝', '홀', '홀', '짝', '짝']\n"
     ]
    }
   ],
   "source": [
    "numList = [5,10,11,3,2,100]\n",
    "list1 = []\n",
    "for i in numList:\n",
    "    if i % 2 == 0:\n",
    "        list1.append('짝')\n",
    "    else:\n",
    "        list1.append('홀')\n",
    "print(list1)    "
   ]
  },
  {
   "cell_type": "code",
   "execution_count": null,
   "metadata": {},
   "outputs": [],
   "source": []
  },
  {
   "cell_type": "markdown",
   "metadata": {},
   "source": [
    "#### List Comprehensions (내포)\n",
    "파이썬 고유의 아름다운 문법  \n",
    "* 처음 접하는 사람은 매우 생소한 문법\n",
    "* 하지만 조금만 접하다 보면 매우 편리한 문법\n",
    "* for in 구조를 기본적으로 가지고 있음\n",
    "* List Comprehension 이니깐 당연히 List에서 사용됨"
   ]
  },
  {
   "cell_type": "code",
   "execution_count": 15,
   "metadata": {},
   "outputs": [
    {
     "name": "stdout",
     "output_type": "stream",
     "text": [
      "2 4 6 8 10 \n",
      "========================================\n",
      "[2, 4, 6, 8, 10]\n",
      "\n",
      "========================================\n"
     ]
    },
    {
     "data": {
      "text/plain": [
       "[2, 4, 6, 8, 10]"
      ]
     },
     "execution_count": 15,
     "metadata": {},
     "output_type": "execute_result"
    }
   ],
   "source": [
    "mylist = [1 ,2 ,3 ,4 ,5 ,6 ,7, 8, 9, 10]\n",
    "\n",
    "# 짝수만 출력 for in\n",
    "for i in mylist:\n",
    "    if i % 2 == 0:\n",
    "        print(i, end = ' ')\n",
    "print()\n",
    "print('==' * 20)\n",
    "\n",
    "# \n",
    "even = []\n",
    "for i in mylist:\n",
    "    if i % 2 == 0:\n",
    "        even.append(i)\n",
    "print(even)\n",
    "\n",
    "print()\n",
    "print('==' * 20)\n",
    "\n",
    "# comprehension\n",
    "even = [ i for i in mylist if i % 2 == 0 ]\n",
    "even"
   ]
  },
  {
   "cell_type": "code",
   "execution_count": null,
   "metadata": {},
   "outputs": [],
   "source": []
  },
  {
   "cell_type": "markdown",
   "metadata": {},
   "source": [
    "#### step1. 리스트 안에 반복문을 먼저 작성한다"
   ]
  },
  {
   "cell_type": "code",
   "execution_count": 16,
   "metadata": {},
   "outputs": [
    {
     "ename": "SyntaxError",
     "evalue": "invalid syntax (Temp/ipykernel_2648/3211547184.py, line 1)",
     "output_type": "error",
     "traceback": [
      "\u001b[1;36m  File \u001b[1;32m\"C:\\Users\\user\\AppData\\Local\\Temp/ipykernel_2648/3211547184.py\"\u001b[1;36m, line \u001b[1;32m1\u001b[0m\n\u001b[1;33m    even = [for i in mylist]\u001b[0m\n\u001b[1;37m            ^\u001b[0m\n\u001b[1;31mSyntaxError\u001b[0m\u001b[1;31m:\u001b[0m invalid syntax\n"
     ]
    }
   ],
   "source": [
    "even = [for i in mylist]"
   ]
  },
  {
   "cell_type": "markdown",
   "metadata": {},
   "source": [
    "#### step2. for앞에 변수를 한번 더 입력"
   ]
  },
  {
   "cell_type": "code",
   "execution_count": null,
   "metadata": {},
   "outputs": [],
   "source": [
    "even = [i for i in mylist]"
   ]
  },
  {
   "cell_type": "markdown",
   "metadata": {},
   "source": [
    "#### step3. 조건 필터를 걸어준다"
   ]
  },
  {
   "cell_type": "code",
   "execution_count": null,
   "metadata": {},
   "outputs": [],
   "source": [
    "even = [i for i in mylist if i % 2 == 0]\n",
    "even"
   ]
  },
  {
   "cell_type": "markdown",
   "metadata": {},
   "source": [
    "#### step4. 출력되는 변수값을 가공할 수 있다"
   ]
  },
  {
   "cell_type": "code",
   "execution_count": null,
   "metadata": {},
   "outputs": [],
   "source": [
    "even = [i**2 for i in mylist if i % 2 == 1]\n",
    "even = [i+100 for i in mylist if i % 2 == 1]\n",
    "even"
   ]
  },
  {
   "cell_type": "code",
   "execution_count": null,
   "metadata": {},
   "outputs": [],
   "source": []
  },
  {
   "cell_type": "markdown",
   "metadata": {},
   "source": [
    "#### 연습문제 2번의 코드를 Comprehenseion을 이용해서 작성해 보세요"
   ]
  },
  {
   "cell_type": "code",
   "execution_count": 20,
   "metadata": {},
   "outputs": [
    {
     "name": "stdout",
     "output_type": "stream",
     "text": [
      "3 4 5 6\n",
      "18\n"
     ]
    }
   ],
   "source": [
    "num1 = list(map(int, input(). split(' '))) \n",
    "sum1 = 0\n",
    "sum2= [i for i in num1]\n",
    "result = sum(sum2)\n",
    "\n",
    "print(result)\n"
   ]
  },
  {
   "cell_type": "markdown",
   "metadata": {},
   "source": [
    "### 딕셔너리에서의 반복문\n",
    "\n",
    "**for in**"
   ]
  },
  {
   "cell_type": "code",
   "execution_count": null,
   "metadata": {},
   "outputs": [],
   "source": []
  },
  {
   "cell_type": "code",
   "execution_count": null,
   "metadata": {},
   "outputs": [],
   "source": []
  },
  {
   "cell_type": "code",
   "execution_count": null,
   "metadata": {},
   "outputs": [],
   "source": []
  },
  {
   "cell_type": "markdown",
   "metadata": {},
   "source": [
    "### 이차원 배열에 for 사용하기, 이중 for문"
   ]
  },
  {
   "cell_type": "code",
   "execution_count": null,
   "metadata": {},
   "outputs": [],
   "source": []
  },
  {
   "cell_type": "code",
   "execution_count": null,
   "metadata": {},
   "outputs": [],
   "source": []
  },
  {
   "cell_type": "markdown",
   "metadata": {},
   "source": [
    "### 연습문제 4.\n",
    "    [1,2,3]\n",
    "    [4,5,6]\n",
    "    [7,8,9,10]\n",
    "    위와 같은 패턴으로 출력되도록 for문을 사용한다\n",
    "    \n",
    "    matrix = [[1,2,3],[4,5,6],[7,8,9,10]]"
   ]
  },
  {
   "cell_type": "code",
   "execution_count": 45,
   "metadata": {},
   "outputs": [
    {
     "name": "stdout",
     "output_type": "stream",
     "text": [
      "[1, 2, 3]\n",
      "[4, 5, 6]\n",
      "[7, 8, 9, 10]\n"
     ]
    }
   ],
   "source": [
    "matrix = [[1,2,3],[4,5,6],[7,8,9,10]]\n",
    "\n",
    "for i in matrix:\n",
    "    print(i)"
   ]
  },
  {
   "cell_type": "code",
   "execution_count": 24,
   "metadata": {},
   "outputs": [
    {
     "name": "stdout",
     "output_type": "stream",
     "text": [
      "1 2 3 4 5 6 7 8 9 10\n",
      "matrix =  [1, 2, 3, 4, 5, 6, 7, 8, 9, 10]\n"
     ]
    }
   ],
   "source": [
    "num1 = list(map(int, input(). split(' ')))\n",
    "matrix = []\n",
    "for i in num1:\n",
    "    if i % 10 == 1 or i % 10 == 2 % i % 10 == 3:\n",
    "        matrix.append(i)\n",
    "    elif i % 10 == 4 or i % 10 == 5 % i % 10 == 6:\n",
    "        matrix.append(i)\n",
    "    else : \n",
    "        matrix.append(i)\n",
    "print(\"matrix = \", matrix)"
   ]
  },
  {
   "cell_type": "code",
   "execution_count": null,
   "metadata": {},
   "outputs": [],
   "source": []
  },
  {
   "cell_type": "markdown",
   "metadata": {},
   "source": [
    "### break, continue, pass 키워드"
   ]
  },
  {
   "cell_type": "code",
   "execution_count": null,
   "metadata": {},
   "outputs": [],
   "source": []
  },
  {
   "cell_type": "code",
   "execution_count": null,
   "metadata": {},
   "outputs": [],
   "source": []
  },
  {
   "cell_type": "code",
   "execution_count": null,
   "metadata": {},
   "outputs": [],
   "source": []
  }
 ],
 "metadata": {
  "kernelspec": {
   "display_name": "Python 3 (ipykernel)",
   "language": "python",
   "name": "python3"
  },
  "language_info": {
   "codemirror_mode": {
    "name": "ipython",
    "version": 3
   },
   "file_extension": ".py",
   "mimetype": "text/x-python",
   "name": "python",
   "nbconvert_exporter": "python",
   "pygments_lexer": "ipython3",
   "version": "3.9.7"
  }
 },
 "nbformat": 4,
 "nbformat_minor": 4
}
