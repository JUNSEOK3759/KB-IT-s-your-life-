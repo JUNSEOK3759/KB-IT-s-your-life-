{
 "cells": [
  {
   "cell_type": "markdown",
   "id": "fb2cf9aa",
   "metadata": {},
   "source": [
    "### 문자열\n",
    "\" \" 혹은 ' ' 을 사용해서 문자열을 만들어 낸다.\n"
   ]
  },
  {
   "cell_type": "markdown",
   "id": "2dd4ca7e",
   "metadata": {},
   "source": [
    "### 1. 출력 포멧팅\n",
    "1. end 옵션값을 이용한 출력\n",
    "2. %를 사용한 출력 \n",
    "3. { }를 사용한 출력\n",
    "4. f 문자열 포맷팅(python 3.6이상만 지원)"
   ]
  },
  {
   "cell_type": "markdown",
   "id": "b27d03fb",
   "metadata": {},
   "source": [
    "#### end 옵션 이용"
   ]
  },
  {
   "cell_type": "code",
   "execution_count": 1,
   "id": "524d73d0",
   "metadata": {},
   "outputs": [
    {
     "name": "stdout",
     "output_type": "stream",
     "text": [
      "Hello Python\n"
     ]
    }
   ],
   "source": [
    "print('Hello Python')"
   ]
  },
  {
   "cell_type": "markdown",
   "id": "ca64900b",
   "metadata": {},
   "source": [
    "`print함수는 기본적으로 개행을 전제로 한다.\n",
    "end = '\\n' 옵션이 기본으로 들어가 있다.\n",
    "`"
   ]
  },
  {
   "cell_type": "code",
   "execution_count": 3,
   "id": "08ab60f8",
   "metadata": {},
   "outputs": [
    {
     "name": "stdout",
     "output_type": "stream",
     "text": [
      "Hello Python\n",
      "Hello PythonHello Python\n"
     ]
    }
   ],
   "source": [
    "print('Hello Python', end = '\\n')\n",
    "print('Hello Python', end = '')\n",
    "print('Hello Python')"
   ]
  },
  {
   "cell_type": "markdown",
   "id": "95f26a5e",
   "metadata": {},
   "source": [
    "`end옵션을 활용하면 출력되는 양상을 변화시킬 수 있다.`"
   ]
  },
  {
   "cell_type": "code",
   "execution_count": 4,
   "id": "4074be0d",
   "metadata": {},
   "outputs": [
    {
     "name": "stdout",
     "output_type": "stream",
     "text": [
      "Hello PythonHello PythonHello Python\n"
     ]
    }
   ],
   "source": [
    "print('Hello Python', end = '')\n",
    "print('Hello Python', end = '')\n",
    "print('Hello Python')"
   ]
  },
  {
   "cell_type": "markdown",
   "id": "8aedb60e",
   "metadata": {},
   "source": [
    "#### % 포멧팅 사용"
   ]
  },
  {
   "cell_type": "code",
   "execution_count": 5,
   "id": "15091a81",
   "metadata": {},
   "outputs": [
    {
     "data": {
      "text/plain": [
       "'Hello!! james'"
      ]
     },
     "execution_count": 5,
     "metadata": {},
     "output_type": "execute_result"
    }
   ],
   "source": [
    "\"Hello!! %s\" %('James')"
   ]
  },
  {
   "cell_type": "code",
   "execution_count": 12,
   "id": "1f171c50",
   "metadata": {},
   "outputs": [
    {
     "name": "stdout",
     "output_type": "stream",
     "text": [
      "Hello! 3.120000\n",
      "Hello! 3.120\n"
     ]
    }
   ],
   "source": [
    "print(\"Hello! %f\" %(3.12))\n",
    "print(\"Hello! %.3f\" %(3.12))"
   ]
  },
  {
   "cell_type": "code",
   "execution_count": 14,
   "id": "b9ba6c7e",
   "metadata": {},
   "outputs": [
    {
     "name": "stdout",
     "output_type": "stream",
     "text": [
      "Hello! 3\n"
     ]
    }
   ],
   "source": [
    "print(\"Hello! %d\" %(3.12))"
   ]
  },
  {
   "cell_type": "code",
   "execution_count": 19,
   "id": "dc76ee47",
   "metadata": {},
   "outputs": [
    {
     "name": "stdout",
     "output_type": "stream",
     "text": [
      "Hello! \u0005\n"
     ]
    }
   ],
   "source": [
    "print(\"Hello! %c\" %(5))"
   ]
  },
  {
   "cell_type": "code",
   "execution_count": null,
   "id": "aaec4c86",
   "metadata": {},
   "outputs": [],
   "source": []
  },
  {
   "cell_type": "markdown",
   "id": "ebecb9ff",
   "metadata": {},
   "source": [
    "#### { }를 사용한 출력\n",
    "많이 사용함  \n",
    "어떤 타입이든 다 관용적으로 받아들임"
   ]
  },
  {
   "cell_type": "code",
   "execution_count": 21,
   "id": "833f68f0",
   "metadata": {},
   "outputs": [
    {
     "data": {
      "text/plain": [
       "'Welcome to 파이썬,234,좋아요'"
      ]
     },
     "execution_count": 21,
     "metadata": {},
     "output_type": "execute_result"
    }
   ],
   "source": [
    "'Welcome to {}'.format('파이썬')\n",
    "'Welcome to {}'.format(234)\n",
    "'Welcome to {}'.format(3.123)\n",
    "'Welcome to {}'.format('하')\n",
    "'Welcome to {}'.format('파이썬')\n",
    "\n",
    "'Welcome to {},{},{}'.format('파이썬', 234, \"좋아요\")"
   ]
  },
  {
   "cell_type": "code",
   "execution_count": 26,
   "id": "1f385d55",
   "metadata": {},
   "outputs": [
    {
     "data": {
      "text/plain": [
       "'원주율? 3.14'"
      ]
     },
     "execution_count": 26,
     "metadata": {},
     "output_type": "execute_result"
    }
   ],
   "source": [
    "## {}.format()에서 알아두어야 할 팁\n",
    "'내가 좋아하는 영화는 {:03d}'. format(7)\n",
    "#03d란 숫자 세자리를 맞추라는 뜻임 \n",
    "'내가 좋아하는 영화는 {:03d}'. format(70)\n",
    "'내가 좋아하는 영화는 {:03d}'. format(707)\n",
    "'내가 좋아하는 영화는 {:03d}'. format(7078)\n",
    "#세자리를 넘으면 상관 없는데, 세자리가 안된다면 0으로 채우라는것임\n",
    "\n",
    "'원주율? {:.2f}'.format(3.141592)"
   ]
  },
  {
   "cell_type": "code",
   "execution_count": null,
   "id": "1fbc5936",
   "metadata": {},
   "outputs": [],
   "source": []
  },
  {
   "cell_type": "markdown",
   "id": "5930e085",
   "metadata": {},
   "source": [
    "#### f 문자열 포멧팅  \n",
    "직관적이라서 많이 사용함"
   ]
  },
  {
   "cell_type": "code",
   "execution_count": 30,
   "id": "6ac38ccf",
   "metadata": {},
   "outputs": [
    {
     "name": "stdout",
     "output_type": "stream",
     "text": [
      "나의 이름은 펭수이고, 나이는 10살입니다.\n",
      "나의 이름은 펭수이고, 나이는 11살입니다.\n"
     ]
    }
   ],
   "source": [
    "#초기화란 새로운 값을 할당한다는 것을 의미한다.\n",
    "#name이라는 변수 안에 펭수가 들어갔을 때도, 그 이후에 값이 바뀔 때도\n",
    "#초기화라고 한다.\n",
    "name = '펭수'\n",
    "age = 10\n",
    "print(f'나의 이름은 {name}이고, 나이는 {age}살입니다.')\n",
    "print(f'나의 이름은 {name}이고, 나이는 {age+1}살입니다.')"
   ]
  },
  {
   "cell_type": "markdown",
   "id": "d4d8e0ce",
   "metadata": {},
   "source": [
    "### 2. 문자열 인덱싱, 슬라이싱으로 값 변경 안됨"
   ]
  },
  {
   "cell_type": "code",
   "execution_count": 32,
   "id": "1a90cb1f",
   "metadata": {},
   "outputs": [],
   "source": [
    "my_str = 'IT is My Life'"
   ]
  },
  {
   "cell_type": "code",
   "execution_count": 38,
   "id": "9adb5376",
   "metadata": {},
   "outputs": [
    {
     "name": "stdout",
     "output_type": "stream",
     "text": [
      "IT is My Life!!!\n"
     ]
    }
   ],
   "source": [
    "# my_str[1] = 'h'\n",
    "my_str[1] # 조회만 가능\n",
    "\n",
    "my_str1 = my_str + '!!!'\n",
    "print(my_str1)"
   ]
  },
  {
   "cell_type": "code",
   "execution_count": null,
   "id": "c1505e08",
   "metadata": {},
   "outputs": [],
   "source": []
  },
  {
   "cell_type": "code",
   "execution_count": null,
   "id": "78d09abb",
   "metadata": {},
   "outputs": [],
   "source": []
  },
  {
   "cell_type": "markdown",
   "id": "873d6312",
   "metadata": {},
   "source": [
    "### 3. 문자열 집합 다루기"
   ]
  },
  {
   "cell_type": "markdown",
   "id": "424606e8",
   "metadata": {},
   "source": [
    "#### list"
   ]
  },
  {
   "cell_type": "code",
   "execution_count": null,
   "id": "796f47d1",
   "metadata": {},
   "outputs": [],
   "source": []
  },
  {
   "cell_type": "code",
   "execution_count": null,
   "id": "afc92e97",
   "metadata": {},
   "outputs": [],
   "source": []
  },
  {
   "cell_type": "code",
   "execution_count": null,
   "id": "f095a41a",
   "metadata": {},
   "outputs": [],
   "source": []
  },
  {
   "cell_type": "markdown",
   "id": "7bf6ed6c",
   "metadata": {},
   "source": [
    "### 4. 문자열 함수 다루기\n",
    "1. split()\n",
    "2. join()\n",
    "3. replace()"
   ]
  },
  {
   "cell_type": "markdown",
   "id": "257d036a",
   "metadata": {},
   "source": [
    "#### split()\n",
    "문자열만이 가지고 있는 고유한 기능중의 하나  \n",
    "지금 언급하는 함수는 반드시 잘 정리해둬야 하는 함수  \n",
    "가장 많이 사용하는 기능들  \n",
    "\n",
    "**split은 문장을 특정 규칙에 의해 쪼개주는 기능** 을 한다"
   ]
  },
  {
   "cell_type": "code",
   "execution_count": 47,
   "id": "c013394e",
   "metadata": {},
   "outputs": [
    {
     "data": {
      "text/plain": [
       "['This', 'is', 'an', 'Apple']"
      ]
     },
     "execution_count": 47,
     "metadata": {},
     "output_type": "execute_result"
    }
   ],
   "source": [
    "a = 'This is an Apple'\n",
    "a.split()"
   ]
  },
  {
   "cell_type": "code",
   "execution_count": null,
   "id": "714c4adb",
   "metadata": {},
   "outputs": [],
   "source": [
    "a1 = list(a)\n",
    "print(a1)"
   ]
  },
  {
   "cell_type": "code",
   "execution_count": null,
   "id": "fb40b687",
   "metadata": {},
   "outputs": [],
   "source": []
  },
  {
   "cell_type": "code",
   "execution_count": null,
   "id": "f38bd20e",
   "metadata": {},
   "outputs": [],
   "source": []
  },
  {
   "cell_type": "code",
   "execution_count": null,
   "id": "bca9d47a",
   "metadata": {},
   "outputs": [],
   "source": []
  },
  {
   "cell_type": "markdown",
   "id": "ae4babd2",
   "metadata": {},
   "source": [
    "#### join(합치기)\n",
    "고객의 전화번호나 주민번호를 합칠때,  \n",
    "즉 정보를 합칠때 많이 사용\n",
    "\n",
    "우리 회원가입 할때 전화번호 입력을  \n",
    "010   1234   1234 이렇게 값만 입력하도록 유도받는다  \n",
    "이런 정보를 디비에 저장하고 다시 화면에 출력할때는  \n",
    "010-1234-1234 이렇게 화면에 보여질 것이다"
   ]
  },
  {
   "cell_type": "code",
   "execution_count": 52,
   "id": "20486869",
   "metadata": {},
   "outputs": [
    {
     "data": {
      "text/plain": [
       "'010*1234*5678'"
      ]
     },
     "execution_count": 52,
     "metadata": {},
     "output_type": "execute_result"
    }
   ],
   "source": [
    "# '-'.join(['010', '1234', '5678'])\n",
    "#' '.join(['010', '1234', '5678'])\n",
    "'*'.join(['010', '1234', '5678'])"
   ]
  },
  {
   "cell_type": "code",
   "execution_count": null,
   "id": "aa00915f",
   "metadata": {},
   "outputs": [],
   "source": []
  },
  {
   "cell_type": "code",
   "execution_count": null,
   "id": "c4e3c750",
   "metadata": {},
   "outputs": [],
   "source": []
  },
  {
   "cell_type": "markdown",
   "id": "5bf895e7",
   "metadata": {},
   "source": [
    "#### 대문자, 소문자 만들기"
   ]
  },
  {
   "cell_type": "code",
   "execution_count": 54,
   "id": "fbe15d0b",
   "metadata": {},
   "outputs": [
    {
     "name": "stdout",
     "output_type": "stream",
     "text": [
      "this is an apple\n",
      "THIS IS AN APPLE\n"
     ]
    }
   ],
   "source": [
    "a = 'This is an Apple'\n",
    "print(a.lower())\n",
    "print(a.upper())"
   ]
  },
  {
   "cell_type": "markdown",
   "id": "448657dc",
   "metadata": {},
   "source": [
    "#### startswith, endswith\n",
    "\n",
    "startswith : 특정한 문자로 시작할 때\n",
    "endswith : 특정한 문자로 끝날 때"
   ]
  },
  {
   "cell_type": "code",
   "execution_count": 55,
   "id": "951e3038",
   "metadata": {},
   "outputs": [
    {
     "data": {
      "text/plain": [
       "True"
      ]
     },
     "execution_count": 55,
     "metadata": {},
     "output_type": "execute_result"
    }
   ],
   "source": [
    "a = '01_star.png'\n",
    "a.startswith('01')\n",
    "a.endswith('png')"
   ]
  },
  {
   "cell_type": "code",
   "execution_count": null,
   "id": "99cb5605",
   "metadata": {},
   "outputs": [],
   "source": []
  },
  {
   "cell_type": "code",
   "execution_count": null,
   "id": "962115c9",
   "metadata": {},
   "outputs": [],
   "source": []
  },
  {
   "cell_type": "markdown",
   "id": "90ec35b4",
   "metadata": {},
   "source": [
    "#### replace(바꾸기)\n",
    "많이 사용한다"
   ]
  },
  {
   "cell_type": "code",
   "execution_count": null,
   "id": "5994c6f8",
   "metadata": {},
   "outputs": [],
   "source": [
    "a = '01_sample.png'.replace('old', 'new')"
   ]
  },
  {
   "cell_type": "code",
   "execution_count": 57,
   "id": "a827abee",
   "metadata": {},
   "outputs": [
    {
     "data": {
      "text/plain": [
       "'01_sample.mp3'"
      ]
     },
     "execution_count": 57,
     "metadata": {},
     "output_type": "execute_result"
    }
   ],
   "source": [
    "#a = '01_sample.png'.replace('png', 'mp3')\n"
   ]
  },
  {
   "cell_type": "code",
   "execution_count": 63,
   "id": "a75a47e8",
   "metadata": {},
   "outputs": [
    {
     "name": "stdout",
     "output_type": "stream",
     "text": [
      "01_sample.png\n",
      "=================================\n",
      "01_sample.mp3\n"
     ]
    }
   ],
   "source": [
    "a = '01_sample.png'\n",
    "a.replace('png', 'mp3')\n",
    "print(a)\n",
    "print('=================================')\n",
    "#replace는 값 자체가 바뀐것이 아니라 단순히 바뀐 것만 보여주는 것이다.\n",
    "a =a.replace('png', 'mp3')\n",
    "print(a)\n",
    "#진짜 값을 바꾸려면 위와 같이 '재할당'을 해주어야 한다."
   ]
  },
  {
   "cell_type": "markdown",
   "id": "365c29a7",
   "metadata": {},
   "source": [
    "#### 불필요한 공백 제거하기\n",
    "특히, 공공데이타 사용하다 보면  \n",
    "공백을 제거해주는 작업은 너무나도 중요하다"
   ]
  },
  {
   "cell_type": "code",
   "execution_count": 64,
   "id": "5cfcab8b",
   "metadata": {},
   "outputs": [
    {
     "name": "stdout",
     "output_type": "stream",
     "text": [
      "      \n",
      "\n",
      "False\n"
     ]
    }
   ],
   "source": [
    "a = '      '\n",
    "b = ''\n",
    "print(a)\n",
    "print(b)\n",
    "\n",
    "print(a == b)"
   ]
  },
  {
   "cell_type": "code",
   "execution_count": null,
   "id": "5ba8d5b9",
   "metadata": {},
   "outputs": [],
   "source": []
  },
  {
   "cell_type": "code",
   "execution_count": null,
   "id": "656f0f69",
   "metadata": {},
   "outputs": [],
   "source": []
  },
  {
   "cell_type": "markdown",
   "id": "eac67cc0",
   "metadata": {},
   "source": [
    "#### lstrip\n",
    "왼쪽 공백 제거하기"
   ]
  },
  {
   "cell_type": "code",
   "execution_count": null,
   "id": "5e43dd56",
   "metadata": {},
   "outputs": [],
   "source": []
  },
  {
   "cell_type": "markdown",
   "id": "f7f9ce5e",
   "metadata": {},
   "source": [
    "#### rstrip\n",
    "오른쪽 공백 제거"
   ]
  },
  {
   "cell_type": "code",
   "execution_count": null,
   "id": "c37e84d9",
   "metadata": {},
   "outputs": [],
   "source": []
  },
  {
   "cell_type": "markdown",
   "id": "6d7032db",
   "metadata": {},
   "source": [
    "#### strip\n",
    "양쪽 공백 모두 제거"
   ]
  },
  {
   "cell_type": "code",
   "execution_count": 67,
   "id": "c0961028",
   "metadata": {},
   "outputs": [
    {
     "name": "stdout",
     "output_type": "stream",
     "text": [
      "01_sample.png\n",
      "01_sample.png\n"
     ]
    }
   ],
   "source": [
    "a = '            01_sample.png'\n",
    "b = '01_sample.png            '\n",
    "a = a.strip()\n",
    "b= b.strip()\n",
    "print(a)\n",
    "print(b)"
   ]
  },
  {
   "cell_type": "code",
   "execution_count": null,
   "id": "65b734a8",
   "metadata": {},
   "outputs": [],
   "source": []
  },
  {
   "cell_type": "code",
   "execution_count": null,
   "id": "c87f962c",
   "metadata": {},
   "outputs": [],
   "source": []
  },
  {
   "cell_type": "code",
   "execution_count": null,
   "id": "f665ca93",
   "metadata": {},
   "outputs": [],
   "source": []
  }
 ],
 "metadata": {
  "kernelspec": {
   "display_name": "Python 3 (ipykernel)",
   "language": "python",
   "name": "python3"
  },
  "language_info": {
   "codemirror_mode": {
    "name": "ipython",
    "version": 3
   },
   "file_extension": ".py",
   "mimetype": "text/x-python",
   "name": "python",
   "nbconvert_exporter": "python",
   "pygments_lexer": "ipython3",
   "version": "3.9.7"
  }
 },
 "nbformat": 4,
 "nbformat_minor": 5
}
