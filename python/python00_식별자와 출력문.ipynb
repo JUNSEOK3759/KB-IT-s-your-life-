{
 "cells": [
  {
   "cell_type": "markdown",
   "id": "3d10c331",
   "metadata": {},
   "source": [
    "### 식별자[identifier]\n",
    "\n",
    "클래스, 함스, 변수를 구분, 지칭하기 위해서 이름을 지정하는 것"
   ]
  },
  {
   "cell_type": "markdown",
   "id": "6a457bee",
   "metadata": {},
   "source": [
    "### identifier Rule\n",
    "\n",
    "1. 키워드를 사용 못 함.\n",
    "2. 특수문자는 _만 허용함.\n",
    "3. 숫자는 2번째 문자부터 허용함.  \n",
    "4. 공백을 허용할 수 없음."
   ]
  },
  {
   "cell_type": "code",
   "execution_count": 2,
   "id": "525c7cd6",
   "metadata": {},
   "outputs": [
    {
     "name": "stdout",
     "output_type": "stream",
     "text": [
      "['False', 'None', 'True', '__peg_parser__', 'and', 'as', 'assert', 'async', 'await', 'break', 'class', 'continue', 'def', 'del', 'elif', 'else', 'except', 'finally', 'for', 'from', 'global', 'if', 'import', 'in', 'is', 'lambda', 'nonlocal', 'not', 'or', 'pass', 'raise', 'return', 'try', 'while', 'with', 'yield']\n"
     ]
    }
   ],
   "source": [
    "import keyword\n",
    "print(keyword.kwlist)"
   ]
  },
  {
   "cell_type": "markdown",
   "id": "27c1251e",
   "metadata": {},
   "source": [
    "### identifier Convention(관례)\n",
    "\n",
    "1. Camel Case\n",
    "   문자와 문자가 조합될 때 시작되는 문자가 무조건 대문자가 되는 경우  \n",
    "   ex) personInfo(파이썬에서는 첫 번째 문자가 대문자일 때만 카멜 케이스를 사용함  \n",
    "   따라서 사용 X), PersonInfo(파이썬에서 사용).\n",
    "   Camel Case는 '클래스'에서만 사용함.\n",
    "                \n",
    "2. snake_case  \n",
    "   변수명과 함수명은 무조건 소문자로 시작  \n",
    "   소문자로 시작하는 모든 이름은 snake_case 기법을 따른다.  \n",
    "   ex)get_info(), house_name"
   ]
  },
  {
   "cell_type": "markdown",
   "id": "84893db7",
   "metadata": {},
   "source": [
    "### 출력문"
   ]
  },
  {
   "cell_type": "markdown",
   "id": "0fa17b25",
   "metadata": {},
   "source": [
    "#### 하나만 출력, 여러개 출력"
   ]
  },
  {
   "cell_type": "code",
   "execution_count": 8,
   "id": "26c9b926",
   "metadata": {},
   "outputs": [
    {
     "name": "stdout",
     "output_type": "stream",
     "text": [
      "하나만 출력합니다\n",
      "10 20 30 40\n",
      "Hello 여러분\n"
     ]
    }
   ],
   "source": [
    "print(\"하나만 출력합니다\")\n",
    "print(10, 20, 30, 40)\n",
    "print('Hello', '여러분')"
   ]
  },
  {
   "cell_type": "markdown",
   "id": "cbd95f80",
   "metadata": {},
   "source": [
    "#### 여러줄로 걸쳐서 출력하기\n",
    "\n",
    "쌍따옴표 3개, \n",
    "홑따옴표 3개를 겹쳐서 사용한다."
   ]
  },
  {
   "cell_type": "code",
   "execution_count": 12,
   "id": "e890914b",
   "metadata": {},
   "outputs": [
    {
     "name": "stdout",
     "output_type": "stream",
     "text": [
      "\n",
      "안녕하세요\n",
      "반\n",
      "갑\n",
      "습\n",
      "니\n",
      "다...\n",
      "\n",
      "\n"
     ]
    }
   ],
   "source": [
    "word = \"\"\"\n",
    "안녕하세요\n",
    "반\n",
    "갑\n",
    "습\n",
    "니\n",
    "다...\n",
    "\n",
    "\"\"\"\n",
    "\n",
    "print(word)"
   ]
  },
  {
   "cell_type": "code",
   "execution_count": 16,
   "id": "8f42a512",
   "metadata": {},
   "outputs": [
    {
     "name": "stdout",
     "output_type": "stream",
     "text": [
      "안녕하세요 \"임민정\" 입니다.\n"
     ]
    }
   ],
   "source": [
    "greet = \"안녕하세요 \\\"임민정\\\" 입니다.\"\n",
    "print(greet)\n",
    "\n",
    "#이외에도 다른 따옴표를 쓰는 방법이 있다."
   ]
  },
  {
   "cell_type": "markdown",
   "id": "b1732e6b",
   "metadata": {},
   "source": [
    "#### 이스케이프 문자열 사용하기\n",
    "\n",
    "\\\"    \\\" : 문자열이 아니라 단순한 큰 따옴표로 인식됨  \n",
    "\\'    \\' : 문자열이 아니라 단순한 큰 따옴표로 인식됨"
   ]
  },
  {
   "cell_type": "code",
   "execution_count": 18,
   "id": "f6c36684",
   "metadata": {},
   "outputs": [
    {
     "name": "stdout",
     "output_type": "stream",
     "text": [
      " \"나이스~~!!\" 라고 말했습니다. \n"
     ]
    }
   ],
   "source": [
    "print(\" \\\"나이스~~!!\\\" 라고 말했습니다. \")"
   ]
  },
  {
   "cell_type": "code",
   "execution_count": 22,
   "id": "5f02ea52",
   "metadata": {},
   "outputs": [
    {
     "name": "stdout",
     "output_type": "stream",
     "text": [
      "안녕하세요. \n",
      "멤버들을 소개합니다.\n",
      "==============================\n",
      "이름\t나이\t주소\n",
      "준석\t25\t군산\n",
      "ㅇㅇ\t정은\t상하\n",
      "준석\t정은\t상하\n"
     ]
    }
   ],
   "source": [
    "print(\"안녕하세요. \\n멤버들을 소개합니다.\")\n",
    "print('=' * 30)\n",
    "print(\"이름\\t나이\\t주소\")\n",
    "print(\"준석\\t25\\t군산\")\n",
    "print(\"ㅇㅇ\\t정은\\t상하\")\n",
    "print(\"준석\\t정은\\t상하\")\n",
    "# \\t <-- tab을 의미함"
   ]
  },
  {
   "cell_type": "markdown",
   "id": "5ae946ce",
   "metadata": {},
   "source": [
    "### 문자열 결합(+), 반복(*)"
   ]
  },
  {
   "cell_type": "code",
   "execution_count": 28,
   "id": "73e5dd1d",
   "metadata": {},
   "outputs": [
    {
     "name": "stdout",
     "output_type": "stream",
     "text": [
      "********************\n",
      "========================================\n",
      "python\n",
      "pypypy\n"
     ]
    }
   ],
   "source": [
    "print('*' * 20)\n",
    "print('==' * 20)\n",
    "print('py' + 'thon')\n",
    "print('py' * 3)"
   ]
  }
 ],
 "metadata": {
  "kernelspec": {
   "display_name": "Python 3 (ipykernel)",
   "language": "python",
   "name": "python3"
  },
  "language_info": {
   "codemirror_mode": {
    "name": "ipython",
    "version": 3
   },
   "file_extension": ".py",
   "mimetype": "text/x-python",
   "name": "python",
   "nbconvert_exporter": "python",
   "pygments_lexer": "ipython3",
   "version": "3.9.7"
  }
 },
 "nbformat": 4,
 "nbformat_minor": 5
}
