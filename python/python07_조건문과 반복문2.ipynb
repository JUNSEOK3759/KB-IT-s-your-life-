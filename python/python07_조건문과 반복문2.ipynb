{
 "cells": [
  {
   "cell_type": "markdown",
   "id": "db1ad26e",
   "metadata": {},
   "source": [
    "### 문제 1.\n",
    "\n",
    "사용자에게 태어난 연도를 입력받아 띠를 출력하는 프로그램을 작성합니다.  \n",
    "실행시 입력받은 연도를 12로 나는 나머지를 사용합니다.  \n",
    "나머지가 0,1,2,3,4,5,6,7,8,9,10,11 일때   \n",
    "각각 원숭이, 닭, 개, 돼지, 쥐, 소, 범, 토끼, 용, 뱀, 말, 양띠입니다.  "
   ]
  },
  {
   "cell_type": "code",
   "execution_count": 1,
   "id": "802e8122",
   "metadata": {},
   "outputs": [
    {
     "name": "stdout",
     "output_type": "stream",
     "text": [
      "년도를 입력하세요 : \n",
      "1998\n",
      "당신은 호랑이띠입니다.\n"
     ]
    }
   ],
   "source": [
    "year = int(input(\"년도를 입력하세요 : \\n\"))\n",
    "if year % 12 == 0:\n",
    "    print(\"당신은 원숭이띠입니다.\")\n",
    "elif year % 12 == 1:\n",
    "    print(\"당신은 개띠입니다.\")\n",
    "elif year % 12 == 2:\n",
    "    print(\"당신은 개띠입니다.\")\n",
    "elif year % 12 == 3:\n",
    "    print(\"당신은 돼지띠입니다.\")\n",
    "elif year % 12 == 4:\n",
    "    print(\"당신은 쥐띠입니다.\")\n",
    "elif year % 12 == 5:\n",
    "    print(\"당신은 소띠입니다.\")\n",
    "elif year % 12 == 6:\n",
    "    print(\"당신은 호랑이띠입니다.\")\n",
    "elif year % 12 == 7:\n",
    "    print(\"당신은 토끼띠입니다.\")\n",
    "elif year % 12 == 8:\n",
    "    print(\"당신은 용띠입니다.\")\n",
    "elif year % 12 == 9:\n",
    "    print(\"당신은 뱀띠입니다.\")\n",
    "elif year % 12 == 10:\n",
    "    print(\"당신은 말띠입니다.\")\n",
    "else:\n",
    "    print(\"당신은 양띠입니다.\")"
   ]
  },
  {
   "cell_type": "markdown",
   "id": "9af473af",
   "metadata": {},
   "source": [
    "### 문제 2. \n",
    "\n",
    "A 학급에 총 10명의 학생이 있다.  \n",
    "이 학생들의 중간고사 점수는 다음과 같다.  \n",
    "\n",
    "[70, 60, 55, 75, 95, 90, 80, 80, 85, 100]  \n",
    "\n",
    "for문을 사용하여 A 학급의 평균 점수를 구해 보자."
   ]
  },
  {
   "cell_type": "code",
   "execution_count": 3,
   "id": "432f4116",
   "metadata": {},
   "outputs": [
    {
     "name": "stdout",
     "output_type": "stream",
     "text": [
      "79.0\n"
     ]
    }
   ],
   "source": [
    "a = [70, 60, 55, 75, 95, 90, 80, 80, 85, 100]\n",
    "sum = 0\n",
    "for i in a:\n",
    "    sum += i\n",
    "    result = sum / len(a)\n",
    "print(result)"
   ]
  },
  {
   "cell_type": "markdown",
   "id": "a89e026f",
   "metadata": {},
   "source": [
    "### 문제 3.\n",
    "\n",
    "리스트 중에서 홀수에만 2를 곱하여 저장하는 다음과 같은 코드가 있다.  \n",
    "\n",
    "numbers = [1, 2, 3, 4, 5]  \n",
    "\n",
    "result = []  \n",
    "\n",
    "for n in numbers:  \n",
    ">if n % 2 == 1:  \n",
    ">>result.append(n*2)  \n",
    "\n",
    "**위 코드를 리스트 내포(list comprehension)를 사용하여 표현해 보자.**\n",
    "\n"
   ]
  },
  {
   "cell_type": "code",
   "execution_count": 8,
   "id": "9b2209de",
   "metadata": {},
   "outputs": [
    {
     "name": "stdout",
     "output_type": "stream",
     "text": [
      "[[2, 6, 10]]\n"
     ]
    }
   ],
   "source": [
    "numbers = [1, 2, 3, 4, 5]\n",
    "\n",
    "result = []\n",
    "\n",
    "s = [ n * 2 for n in numbers if n % 2 == 1]\n",
    "result.append(s)\n",
    "print(result)"
   ]
  },
  {
   "cell_type": "code",
   "execution_count": null,
   "id": "a8a2160b",
   "metadata": {},
   "outputs": [],
   "source": []
  }
 ],
 "metadata": {
  "kernelspec": {
   "display_name": "Python 3 (ipykernel)",
   "language": "python",
   "name": "python3"
  },
  "language_info": {
   "codemirror_mode": {
    "name": "ipython",
    "version": 3
   },
   "file_extension": ".py",
   "mimetype": "text/x-python",
   "name": "python",
   "nbconvert_exporter": "python",
   "pygments_lexer": "ipython3",
   "version": "3.9.7"
  }
 },
 "nbformat": 4,
 "nbformat_minor": 5
}
