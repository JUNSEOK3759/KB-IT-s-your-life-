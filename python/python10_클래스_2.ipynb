{
 "cells": [
  {
   "cell_type": "markdown",
   "id": "407309d6",
   "metadata": {},
   "source": [
    "### 1. 객체 생성과 소멸"
   ]
  },
  {
   "cell_type": "code",
   "execution_count": 1,
   "id": "7d98680f",
   "metadata": {},
   "outputs": [],
   "source": [
    "class Birthdate:\n",
    "    ## __init__ 초기화 함수 \n",
    "    def __init__(self, year, month, day):\n",
    "        #인스턴스 변수는 앞에 self를 붙인다.\n",
    "        self.year = year\n",
    "        self.month = month\n",
    "        self.day = day\n",
    "        \n",
    "    def get_date(self):\n",
    "        return self.year,self.month, self.day"
   ]
  },
  {
   "cell_type": "code",
   "execution_count": 2,
   "id": "dcce314f",
   "metadata": {},
   "outputs": [],
   "source": [
    "class Programmer:\n",
    "    def __init__(self, name, birthdate, salary, tech, bonus):\n",
    "        self.name = name\n",
    "        self.birthdate = birthdate\n",
    "        self.salary= salary\n",
    "        self.tech = tech\n",
    "        self.bonus = bonus\n",
    "        \n",
    "    def __del__(self):\n",
    "        print('인스턴스가 소멸됩니다.')\n",
    "        \n",
    "    def annual_salary(self):\n",
    "        print('일년 연봉은 총 {} 입니다.'.format(self.salary * 12 + self.bonus))\n",
    "        \n",
    "    def show_programmer(self):\n",
    "        print('''Programmer의 정보는 \n",
    "                이름 {},\n",
    "                생년월일 {},\n",
    "                급여{},\n",
    "                사용기술 {},\n",
    "                보너스 {} 입니다.'''\\\n",
    "              .format(self.name, self.birthdate.get_date(),self.salary,self.tech,self.bonus)       \n",
    "        \n",
    "        )\n",
    "        \n",
    "    def __str__(self):\n",
    "        return '''Programmer의 정보는 \n",
    "                이름 {},\n",
    "                생년월일 {},\n",
    "                급여{},\n",
    "                사용기술 {},\n",
    "                보너스 {} 입니다.'''\\\n",
    "              .format(self.name, self.birthdate.get_date(),self.salary,self.tech,self.bonus)       \n",
    "        "
   ]
  },
  {
   "cell_type": "code",
   "execution_count": 3,
   "id": "ae8c3693",
   "metadata": {},
   "outputs": [
    {
     "name": "stdout",
     "output_type": "stream",
     "text": [
      "Programmer의 정보는 \n",
      "                이름 James,\n",
      "                생년월일 (1999, 1, 1),\n",
      "                급여400000.0,\n",
      "                사용기술 Python,\n",
      "                보너스 10000 입니다.\n",
      "******************************\n",
      "Programmer의 정보는 \n",
      "                이름 James,\n",
      "                생년월일 (1999, 1, 1),\n",
      "                급여400000.0,\n",
      "                사용기술 Python,\n",
      "                보너스 10000 입니다.\n"
     ]
    }
   ],
   "source": [
    "pro = Programmer('James',Birthdate(1999,1,1), 400000.0, 'Python',10000)\n",
    "pro.show_programmer()\n",
    "print('*'*30)\n",
    "print(pro)"
   ]
  },
  {
   "cell_type": "markdown",
   "id": "1d76698f",
   "metadata": {},
   "source": [
    "소멸자는 생성자와는 반대로 메모리 할당을 해제할 때 실행되는 함수  \n",
    "메모리에서 객체할당을 해제 시키고 다시 이전에 호출했던 함수를 호출하면  \n",
    "해당 겍체가 정의되어 있지 않다는 메세지가 나온다."
   ]
  },
  {
   "cell_type": "code",
   "execution_count": 4,
   "id": "c18a5ead",
   "metadata": {},
   "outputs": [
    {
     "name": "stdout",
     "output_type": "stream",
     "text": [
      "인스턴스가 소멸됩니다.\n"
     ]
    }
   ],
   "source": [
    "# 소멸자 사용\n",
    "del pro"
   ]
  },
  {
   "cell_type": "code",
   "execution_count": 5,
   "id": "c6cabdcc",
   "metadata": {},
   "outputs": [],
   "source": [
    "# pro.show_programmer() # name 'pro' is not defined에러 발생"
   ]
  },
  {
   "cell_type": "markdown",
   "id": "ad3fc259",
   "metadata": {},
   "source": [
    "### 2. 상속\n",
    "\n",
    "상속은 확장성 있는 프로그램을 작성하는 일반적인 도구다.  \n",
    "\n",
    "상속을 통해 기존 클래스를 취하여 다음과 같은 일을 할 수 있다.  \n",
    "\n",
    "* 새로운 메서드를 추가  \n",
    "* 인스턴스에 새로운 속성 추가  \n",
    "* 기존 메서드 일부를 재정의(redefine,overriding)  \n",
    "\n",
    "\n",
    "**위 모든 작업은 기존 클래스를 확장(상속)함으로써 손쉽게 얻어질 수 있다.**\n",
    "\n"
   ]
  },
  {
   "cell_type": "markdown",
   "id": "d5cf1278",
   "metadata": {},
   "source": [
    "**Parent, Super, Base 클래스**"
   ]
  },
  {
   "cell_type": "code",
   "execution_count": 24,
   "id": "13b91f11",
   "metadata": {},
   "outputs": [],
   "source": [
    "# 클래스변수 = 전역변수\n",
    "class Employee:\n",
    "    total_count = 0\n",
    "    \n",
    "    def __init__(self, name, birthdate, salary):\n",
    "        self.name = name\n",
    "        self.birthdate = birthdate\n",
    "        self.salary = salary\n",
    "        \n",
    "        Employee.total_count += 1\n",
    "    \n",
    "    def show_info(self):\n",
    "        print(f\"이름 : {self.name}, 생년월일 : {self.birthdate.get_date()}, 급여 : {self.salary} \", end = '')\n",
    "        \n",
    "    \n",
    "    "
   ]
  },
  {
   "cell_type": "markdown",
   "id": "464debd2",
   "metadata": {},
   "source": [
    "**Child, Sub, Drived 클래스**"
   ]
  },
  {
   "cell_type": "code",
   "execution_count": 25,
   "id": "79a3d7fd",
   "metadata": {},
   "outputs": [],
   "source": [
    "#부모 자식 상속하려면 자식 클래스 안에 부모 클래스의 이름을 넣는다.\n",
    "class Manager(Employee):\n",
    "    ## __init__ <== 초기화 함수\n",
    "    def __init__(self, name, birthdate, salary, dept):\n",
    "        # 부모 것을 재사용 하는 것\n",
    "        super().__init__(name, birthdate, salary)\n",
    "        \n",
    "        self.dept = dept\n",
    "        \n",
    "    def show_info(self):\n",
    "        super().show_info()\n",
    "        print(f\", 부서 : {self.dept}입니다\")"
   ]
  },
  {
   "cell_type": "code",
   "execution_count": 26,
   "id": "9640672d",
   "metadata": {},
   "outputs": [
    {
     "name": "stdout",
     "output_type": "stream",
     "text": [
      "이름 : 김연아, 생년월일 : (1988, 1, 1), 급여 : 300000 , 부서 : IT입니다\n"
     ]
    }
   ],
   "source": [
    "m = Manager('김연아', Birthdate(1988, 1, 1), 300000, 'IT')\n",
    "m.show_info()"
   ]
  },
  {
   "cell_type": "markdown",
   "id": "5056bae9",
   "metadata": {},
   "source": [
    "### MRO"
   ]
  },
  {
   "cell_type": "code",
   "execution_count": 30,
   "id": "224e18c1",
   "metadata": {},
   "outputs": [
    {
     "name": "stdout",
     "output_type": "stream",
     "text": [
      "[<class '__main__.Employee'>, <class 'object'>]\n",
      "[<class '__main__.Manager'>, <class '__main__.Employee'>, <class 'object'>]\n"
     ]
    }
   ],
   "source": [
    "print(Employee.mro())\n",
    "print(Manager.mro())"
   ]
  },
  {
   "cell_type": "markdown",
   "id": "b381ef3d",
   "metadata": {},
   "source": [
    "### 3.다중상속"
   ]
  },
  {
   "cell_type": "code",
   "execution_count": 28,
   "id": "36aaf275",
   "metadata": {},
   "outputs": [],
   "source": [
    "class Mother:\n",
    "    def work(self, info):\n",
    "        print(f\"{info}... work...\")\n",
    "\n",
    "class Father:\n",
    "    def work(self, info):\n",
    "        print(f\"{info}... work...\")\n",
    "\n",
    "class Me(Mother, Father):\n",
    "    def work(self, info):\n",
    "        super().work(info)\n",
    "        print(Me.mro())\n"
   ]
  },
  {
   "cell_type": "code",
   "execution_count": 29,
   "id": "572a178f",
   "metadata": {},
   "outputs": [
    {
     "name": "stdout",
     "output_type": "stream",
     "text": [
      "Me!!!!!... work...\n",
      "[<class '__main__.Me'>, <class '__main__.Mother'>, <class '__main__.Father'>, <class 'object'>]\n"
     ]
    }
   ],
   "source": [
    "me = Me()\n",
    "me.work(\"Me!!!!!\")"
   ]
  },
  {
   "cell_type": "code",
   "execution_count": null,
   "id": "61d5442b",
   "metadata": {},
   "outputs": [],
   "source": []
  }
 ],
 "metadata": {
  "kernelspec": {
   "display_name": "Python 3 (ipykernel)",
   "language": "python",
   "name": "python3"
  },
  "language_info": {
   "codemirror_mode": {
    "name": "ipython",
    "version": 3
   },
   "file_extension": ".py",
   "mimetype": "text/x-python",
   "name": "python",
   "nbconvert_exporter": "python",
   "pygments_lexer": "ipython3",
   "version": "3.9.7"
  }
 },
 "nbformat": 4,
 "nbformat_minor": 5
}
