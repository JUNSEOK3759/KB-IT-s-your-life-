{
 "cells": [
  {
   "cell_type": "markdown",
   "metadata": {},
   "source": [
    "### 변수(Variable)\n",
    "\n",
    "* 값을 저장하는 공간\n",
    "* 데이타 타입을 함께 지정할 필요가 없다\n",
    "* 값이 먼저 동적으로 할당되고나서 거기에 해당하는 데이타 타입을 알아냄\n"
   ]
  },
  {
   "cell_type": "code",
   "execution_count": 17,
   "metadata": {},
   "outputs": [
    {
     "data": {
      "text/plain": [
       "1"
      ]
     },
     "execution_count": 17,
     "metadata": {},
     "output_type": "execute_result"
    }
   ],
   "source": [
    "a = 1\n",
    "a1 = 1234\n",
    "a2 = True\n",
    "a3 = 1, 2, 'hello'\n",
    "b, b1, b2 = 1, 2, 'hello'\n",
    "a\n",
    "a1\n",
    "a2\n",
    "a3\n",
    "b\n",
    "\n",
    "# a3와 같은 경우는 값을 하나 집어넣었다고 생각해야 한다. 하나의 공간에는 \n",
    "# 하나의 값만 들어간다.\n",
    "# b, b1, b2는 하나의 공간에 값을 하나씩 넣었다고 할 수 있다."
   ]
  },
  {
   "cell_type": "markdown",
   "metadata": {},
   "source": [
    "## 변수와 데이타 타입\n",
    "    파이썬에서의 데이타 타입들\n",
    "    \n",
    "    기본형(여러 개의 값을 묶어서 넣을 수 없음) \n",
    "    \n",
    "    int - 정수\n",
    "    float - 실수\n",
    "    bool - False, True\n",
    "    str - 문자열\n",
    "    \n",
    "    자료형(여러 개의 값을 묶어서 넣을 수 있음) \n",
    "    \n",
    "    list - 리스트, 순서가 있는 값들의 집합 [ ], 값은 변경 가능\n",
    "    tuple - 튜플, 순서가 있는 값들의 집합 ( ), 값은 변경 불가\n",
    "    set - 순서없고 중복 안되는 값들의 집합, { }\n",
    "    dic - 키와 값이 쌍으로 저장되는 값들의 집합 {'key':value}\n",
    "    \n",
    "    List는 인덱스로 관리가 되고, set과 dic은 인덱스로 관리가 안된다.\n",
    "    튜플은 읽기전용이다. 조회만 할 수 있도록. 값 변동 불가능\n",
    "    "
   ]
  },
  {
   "cell_type": "code",
   "execution_count": 23,
   "metadata": {},
   "outputs": [
    {
     "name": "stdout",
     "output_type": "stream",
     "text": [
      "3\n",
      "3.5\n",
      "True\n",
      "Hello\n",
      "<class 'int'>\n",
      "<class 'float'>\n",
      "<class 'bool'>\n",
      "<class 'str'>\n"
     ]
    }
   ],
   "source": [
    "a = 3\n",
    "b = 3.5\n",
    "c = True\n",
    "d = 'Hello'\n",
    "\n",
    "print(a)\n",
    "print(b)\n",
    "print(c)\n",
    "print(d)\n",
    "\n",
    "#변수 안에 저장된 값의 타입을 출력... type()함수를 사용\n",
    "\n",
    "print(type(a))\n",
    "print(type(b))\n",
    "print(type(c))\n",
    "print(type(d))"
   ]
  },
  {
   "cell_type": "markdown",
   "metadata": {},
   "source": [
    "### 아무것도 아닌 None 타입\n",
    "다른 프로그램 에서는 Null 값과 같은 것  \n",
    "사전상 의미는  \n",
    "*  **Null : Nullify(무효화하다)**라는 뜻을 가지고 있답니다~~  \n",
    "\n",
    "python에서는 None 입니다."
   ]
  },
  {
   "cell_type": "code",
   "execution_count": 25,
   "metadata": {},
   "outputs": [
    {
     "name": "stdout",
     "output_type": "stream",
     "text": [
      "None\n",
      "<class 'NoneType'>\n"
     ]
    }
   ],
   "source": [
    "a = None\n",
    "print(a)\n",
    "print(type(a))"
   ]
  },
  {
   "cell_type": "markdown",
   "metadata": {},
   "source": [
    "### Type 변경하기\n",
    "\n",
    "**Type Casting**  \n",
    "\n",
    "문자를 숫자로 변경 : int()  \n",
    "숫자를 문자로 변경 : str()"
   ]
  },
  {
   "cell_type": "code",
   "execution_count": 35,
   "metadata": {},
   "outputs": [
    {
     "name": "stdout",
     "output_type": "stream",
     "text": [
      "1\n",
      "0\n",
      "312\n",
      "True\n",
      "False\n",
      "77.0\n",
      "312\n"
     ]
    }
   ],
   "source": [
    "print(int(True))\n",
    "print(int(False))\n",
    "#print(int('Hello')) ValueError (변환할 수 없는 값을 변환하려할 때 발생)\n",
    "print(int('312'))\n",
    "\n",
    "print(bool(1))\n",
    "print(bool(0))\n",
    "\n",
    "print(float(77))\n",
    "\n",
    "print(str(312))"
   ]
  },
  {
   "cell_type": "code",
   "execution_count": 1,
   "metadata": {},
   "outputs": [
    {
     "name": "stdout",
     "output_type": "stream",
     "text": [
      "python 사전평가 점수를 입력하세요.>>123\n",
      "ML 점수를 입력하세요.>>123\n",
      "총점 246\n"
     ]
    }
   ],
   "source": [
    "score1 = int(input('python 사전평가 점수를 입력하세요.>>'))\n",
    "score2 = int(input('ML 점수를 입력하세요.>>'))\n",
    "print('총점', score1 + score2)"
   ]
  },
  {
   "cell_type": "markdown",
   "metadata": {},
   "source": [
    "`질문 1`"
   ]
  },
  {
   "cell_type": "markdown",
   "metadata": {},
   "source": [
    "`질문 2.\n",
    "a = \"3.140\"\n",
    "float(a)\n",
    "`"
   ]
  },
  {
   "cell_type": "markdown",
   "metadata": {},
   "source": [
    "a = \"3.14\"\n",
    "float(a)\n"
   ]
  },
  {
   "cell_type": "code",
   "execution_count": 9,
   "metadata": {},
   "outputs": [
    {
     "data": {
      "text/plain": [
       "3.14"
      ]
     },
     "execution_count": 9,
     "metadata": {},
     "output_type": "execute_result"
    }
   ],
   "source": [
    "a = \"3.140\"\n",
    "float(a)"
   ]
  },
  {
   "cell_type": "markdown",
   "metadata": {},
   "source": [
    "### 문자열\n",
    "\n",
    "인덱싱  \n",
    "슬라이싱  \n",
    "인덱스로 관리가 되면 순서가 있는 것이다. ex) List"
   ]
  },
  {
   "cell_type": "code",
   "execution_count": 19,
   "metadata": {},
   "outputs": [
    {
     "name": "stdout",
     "output_type": "stream",
     "text": [
      "나다라\n",
      "나다라\n",
      "가나\n",
      "다라마\n",
      "가나다라마\n"
     ]
    }
   ],
   "source": [
    "a = '가나다라마'\n",
    "print(a[1 : 4])\n",
    "print(a[-4 : -1])\n",
    "print(a[: 2])\n",
    "print(a[2 : ])\n",
    "print(a[:])\n",
    "\n",
    "# a[x : y] x번째부터 y-1번째 까지 출력"
   ]
  },
  {
   "cell_type": "code",
   "execution_count": 48,
   "metadata": {},
   "outputs": [
    {
     "name": "stdout",
     "output_type": "stream",
     "text": [
      "p\n",
      "n\n",
      "n\n",
      "yth\n",
      "python\n",
      "thon\n",
      "pyth\n",
      "on\n",
      "tho\n",
      "pto\n",
      "pto\n",
      "pto\n",
      "nohtyp\n"
     ]
    }
   ],
   "source": [
    "my_str = 'python'\n",
    "print(my_str[0])\n",
    "print(my_str[5])\n",
    "print(my_str[-1])\n",
    "print(my_str[1 : 4])\n",
    "print(my_str[:])\n",
    "print(my_str[2 :])\n",
    "print(my_str[:4])\n",
    "print(my_str[-2:])\n",
    "print(my_str[-4 : -1])\n",
    "print(my_str[0:6:2])\n",
    "print(my_str[-7:-1:2])\n",
    "print(my_str[::2])\n",
    "print(my_str[::-1])"
   ]
  },
  {
   "cell_type": "markdown",
   "metadata": {},
   "source": [
    "### 문자열 주요함수\n",
    "\n",
    "split() : 문자열을 쪼갤 때 사용  \n",
    "join()"
   ]
  },
  {
   "cell_type": "code",
   "execution_count": 61,
   "metadata": {},
   "outputs": [
    {
     "name": "stdout",
     "output_type": "stream",
     "text": [
      "미나리, 경계선, 기생충, 학교\n",
      "17\n",
      "['미나리', ' 경계선', ' 기생충', ' 학교']\n",
      "미나리, 경계선, 기생충, 학교\n"
     ]
    }
   ],
   "source": [
    "movies = '미나리, 경계선, 기생충, 학교'\n",
    "print(movies)\n",
    "print(len(movies))\n",
    "\n",
    "moviesL = movies.split(\",\")\n",
    "print(moviesL)\n",
    "\n",
    "#join은 str에 적용되는 함수\n",
    "movie = ','.join(moviesL)\n",
    "print(movie)"
   ]
  },
  {
   "cell_type": "markdown",
   "metadata": {},
   "source": [
    "### 연산자\n",
    "\n",
    "* ==   같다\n",
    "* =  뒤의 값을 앞의 것에 대입한다.\n",
    "* // 나눴을 때의 몫\n",
    "* % 나눴을 때의 나머지\n",
    "* ** 제곱을 뜻함 ex) 3 ** 3 == 27\n"
   ]
  },
  {
   "cell_type": "code",
   "execution_count": 71,
   "metadata": {},
   "outputs": [
    {
     "name": "stdout",
     "output_type": "stream",
     "text": [
      "True\n",
      "False\n",
      "2\n",
      "3\n",
      "5\n",
      "1024\n",
      "4096\n"
     ]
    }
   ],
   "source": [
    "e = 3\n",
    "f = 3.0\n",
    "\n",
    "print(e == f)\n",
    "print(type(e) == type(f))\n",
    "\n",
    "a , b, c = 13, 5, -5\n",
    "\n",
    "print(a//b)\n",
    "print(a%b)\n",
    "print(abs(c))\n",
    "print(2**10)\n",
    "print(4**6)"
   ]
  },
  {
   "cell_type": "markdown",
   "metadata": {},
   "source": [
    "### 파이썬은 모든 변수를 객체 취급한다."
   ]
  },
  {
   "cell_type": "code",
   "execution_count": 74,
   "metadata": {
    "collapsed": true
   },
   "outputs": [
    {
     "data": {
      "text/plain": [
       "['__abs__',\n",
       " '__add__',\n",
       " '__and__',\n",
       " '__bool__',\n",
       " '__ceil__',\n",
       " '__class__',\n",
       " '__delattr__',\n",
       " '__dir__',\n",
       " '__divmod__',\n",
       " '__doc__',\n",
       " '__eq__',\n",
       " '__float__',\n",
       " '__floor__',\n",
       " '__floordiv__',\n",
       " '__format__',\n",
       " '__ge__',\n",
       " '__getattribute__',\n",
       " '__getnewargs__',\n",
       " '__gt__',\n",
       " '__hash__',\n",
       " '__index__',\n",
       " '__init__',\n",
       " '__init_subclass__',\n",
       " '__int__',\n",
       " '__invert__',\n",
       " '__le__',\n",
       " '__lshift__',\n",
       " '__lt__',\n",
       " '__mod__',\n",
       " '__mul__',\n",
       " '__ne__',\n",
       " '__neg__',\n",
       " '__new__',\n",
       " '__or__',\n",
       " '__pos__',\n",
       " '__pow__',\n",
       " '__radd__',\n",
       " '__rand__',\n",
       " '__rdivmod__',\n",
       " '__reduce__',\n",
       " '__reduce_ex__',\n",
       " '__repr__',\n",
       " '__rfloordiv__',\n",
       " '__rlshift__',\n",
       " '__rmod__',\n",
       " '__rmul__',\n",
       " '__ror__',\n",
       " '__round__',\n",
       " '__rpow__',\n",
       " '__rrshift__',\n",
       " '__rshift__',\n",
       " '__rsub__',\n",
       " '__rtruediv__',\n",
       " '__rxor__',\n",
       " '__setattr__',\n",
       " '__sizeof__',\n",
       " '__str__',\n",
       " '__sub__',\n",
       " '__subclasshook__',\n",
       " '__truediv__',\n",
       " '__trunc__',\n",
       " '__xor__',\n",
       " 'as_integer_ratio',\n",
       " 'bit_length',\n",
       " 'conjugate',\n",
       " 'denominator',\n",
       " 'from_bytes',\n",
       " 'imag',\n",
       " 'numerator',\n",
       " 'real',\n",
       " 'to_bytes']"
      ]
     },
     "execution_count": 74,
     "metadata": {},
     "output_type": "execute_result"
    }
   ],
   "source": [
    "dir(__builtin__)\n",
    "dir(1)"
   ]
  },
  {
   "cell_type": "code",
   "execution_count": 79,
   "metadata": {},
   "outputs": [
    {
     "name": "stdout",
     "output_type": "stream",
     "text": [
      "True\n",
      "2183187807376\n",
      "2183187808208\n",
      "False\n"
     ]
    }
   ],
   "source": [
    "\n",
    "a = 257\n",
    "b = 257\n",
    "print(a == b)\n",
    "\n",
    "print(id(a))\n",
    "print(id(b))\n",
    "\n",
    "print(a is b)\n",
    "# is = 주소값 비교"
   ]
  },
  {
   "cell_type": "code",
   "execution_count": 82,
   "metadata": {},
   "outputs": [
    {
     "name": "stdout",
     "output_type": "stream",
     "text": [
      "True\n",
      "True\n"
     ]
    }
   ],
   "source": [
    "'''\n",
    " -5에서 256 사이에 있는 값들은  \n",
    " 메모리를 효율적으로 사용하기 위해서  \n",
    " 이 범위에 있는 값들은 한 번만 객체를 만들고 다시 만들지 않는다.\n",
    " 위의 257은 -5와 256 사이의 값이 아니기 때문에 주소값이 다르고  \n",
    " 200은 주소값이 같다.\n",
    "'''\n",
    "a = 200\n",
    "b = 200\n",
    "\n",
    "#값비교\n",
    "print(a == b)\n",
    "print(a is b)"
   ]
  },
  {
   "cell_type": "code",
   "execution_count": null,
   "metadata": {},
   "outputs": [],
   "source": []
  },
  {
   "cell_type": "code",
   "execution_count": null,
   "metadata": {},
   "outputs": [],
   "source": []
  },
  {
   "cell_type": "code",
   "execution_count": null,
   "metadata": {},
   "outputs": [],
   "source": []
  },
  {
   "cell_type": "code",
   "execution_count": null,
   "metadata": {},
   "outputs": [],
   "source": []
  },
  {
   "cell_type": "code",
   "execution_count": null,
   "metadata": {},
   "outputs": [],
   "source": []
  },
  {
   "cell_type": "code",
   "execution_count": null,
   "metadata": {},
   "outputs": [],
   "source": []
  },
  {
   "cell_type": "code",
   "execution_count": null,
   "metadata": {},
   "outputs": [],
   "source": []
  },
  {
   "cell_type": "code",
   "execution_count": null,
   "metadata": {},
   "outputs": [],
   "source": []
  },
  {
   "cell_type": "code",
   "execution_count": null,
   "metadata": {},
   "outputs": [],
   "source": []
  },
  {
   "cell_type": "markdown",
   "metadata": {},
   "source": [
    "### 문제1\n",
    "    키보드로 초를 입력받아서 다음과 같이 출력합니다.\n",
    "    \n",
    "    입력받는 초 ---  ex 3700\n",
    "    출력양식 --- 3700초는 1시간 1분 40초 입니다.\n",
    "    \n",
    "    사용되는 연산자는? //, %\n",
    "    출력 포멧팅 사용해서 출력하기"
   ]
  },
  {
   "cell_type": "markdown",
   "metadata": {},
   "source": [
    "### 문제 2.\n",
    "문자열 '210101-1234567' 을 인덱싱하여 성별을 나타내는 숫자를 출력하세요"
   ]
  },
  {
   "cell_type": "code",
   "execution_count": null,
   "metadata": {},
   "outputs": [],
   "source": []
  },
  {
   "cell_type": "markdown",
   "metadata": {},
   "source": [
    "### 문제 3.\n",
    "문자열 '20210101Sunny' 을 슬라이싱하여 날짜는 date 변수에 날씨는 weather 변수에 저장 후 출력하세요."
   ]
  },
  {
   "cell_type": "code",
   "execution_count": null,
   "metadata": {},
   "outputs": [],
   "source": []
  },
  {
   "cell_type": "markdown",
   "metadata": {},
   "source": [
    "### 문제 4. \n",
    "\n",
    "myStr 문자열이 다음과 같을 때, \"y\" 가 포함되어있지 않은 슬라이싱을 고르세요  \n",
    "myStr = \"IT's your life\"\n"
   ]
  },
  {
   "cell_type": "code",
   "execution_count": null,
   "metadata": {},
   "outputs": [],
   "source": []
  },
  {
   "cell_type": "markdown",
   "metadata": {},
   "source": [
    "### 문제 5.  \n",
    "\n",
    "다음 코드의 실행 결과로 알맞은 것을 고르세요  \n",
    "\n",
    "myStr = 'Python'  \n",
    "num = '3'  \n",
    "print(myStr * num)\n"
   ]
  },
  {
   "cell_type": "code",
   "execution_count": null,
   "metadata": {},
   "outputs": [],
   "source": []
  },
  {
   "cell_type": "markdown",
   "metadata": {},
   "source": [
    "### 문제 6.\n",
    "\n",
    "myStr 문자열이 다음과 같을 때, myStr의 역순으로 코드를 작성하세요  \n",
    "myStr = '0123456789'  \n",
    "\n",
    "실행 결과  \n",
    "**9876543210**\n"
   ]
  },
  {
   "cell_type": "code",
   "execution_count": null,
   "metadata": {},
   "outputs": [],
   "source": []
  }
 ],
 "metadata": {
  "kernelspec": {
   "display_name": "Python 3 (ipykernel)",
   "language": "python",
   "name": "python3"
  },
  "language_info": {
   "codemirror_mode": {
    "name": "ipython",
    "version": 3
   },
   "file_extension": ".py",
   "mimetype": "text/x-python",
   "name": "python",
   "nbconvert_exporter": "python",
   "pygments_lexer": "ipython3",
   "version": "3.9.7"
  }
 },
 "nbformat": 4,
 "nbformat_minor": 4
}
