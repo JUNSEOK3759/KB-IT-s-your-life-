{
 "cells": [
  {
   "cell_type": "markdown",
   "metadata": {},
   "source": [
    "### 자료구조\n",
    "* Sequence Type\n",
    "  - 문자열\n",
    "  - 리스트\n",
    "  - 튜플\n",
    "\n",
    "* 딕셔너리\n",
    "\n",
    "* SET"
   ]
  },
  {
   "cell_type": "markdown",
   "metadata": {},
   "source": [
    "### SET\n",
    "\n",
    "    중복을 허용하지 않는다.\n",
    "    순서가 없다\n",
    "    \n",
    "    순서가 없기 때문에 인덱싱을 통해서 자료를 조회할 수 없다.\n",
    "    인덱싱을 사용하려면 리스트, 튜플 자료형으로 변환한 수 사용할 수 있다.\n",
    "    list(), tuple() 변환함수 사용\n",
    "    \n",
    "    중복을 허용하지 않는 SET 특징은 자료형의 중복을 제거하기 위한 필터 역할로 종종 사용된다.\n",
    "    [1,1,2,22,3,4,5,5,5,6,6]\n",
    "    set([1,1,2,22,3,4,5,5,5,6,6])\n",
    "\n",
    "    "
   ]
  },
  {
   "cell_type": "markdown",
   "metadata": {},
   "source": [
    "### 1. 생성하기"
   ]
  },
  {
   "cell_type": "code",
   "execution_count": 6,
   "metadata": {},
   "outputs": [
    {
     "data": {
      "text/plain": [
       "{1, 2, 3, 6, 7, 8, 9, 10}"
      ]
     },
     "execution_count": 6,
     "metadata": {},
     "output_type": "execute_result"
    }
   ],
   "source": [
    "my_set = set()\n",
    "## my_set = {} type이 dict이다.\n",
    "my_set = set([1, 1, 2, 3, 6, 7, 8, 8, 8, 9, 10]) # 중복제거, 순서상관X\n",
    "my_set = set((1, 1, 2, 3, 6, 7, 8, 8, 8, 9, 10)) # 튜플도 가능하긴함\n",
    "my_set"
   ]
  },
  {
   "cell_type": "code",
   "execution_count": 16,
   "metadata": {},
   "outputs": [
    {
     "name": "stdout",
     "output_type": "stream",
     "text": [
      "=========== list a ====================\n",
      "[78, 2, 7, 12, 4, 4, 7, 78, 2, 1]\n",
      "[78, 12, 7, 4, 2, 1]\n"
     ]
    }
   ],
   "source": [
    "print('=========== list a ====================')\n",
    "a = [78, 2,7,12,4,4, 7,78,2,1]\n",
    "print(a)\n",
    "\n",
    "print('=========== set set_a ====================')\n",
    "\n",
    "set_a = set(a)\n",
    "set_a\n",
    "\n",
    "#set_a.sort() set는 인덱스 개념이 없기에 정렬 안됨.\n",
    "\n",
    "list_a = list(set_a)\n",
    "list_a.sort(reverse = True)\n",
    "print(list_a)\n"
   ]
  },
  {
   "cell_type": "markdown",
   "metadata": {},
   "source": [
    "### 2. 값 추가하기\n",
    "\n",
    "* add() -- 하나의 값을 추가하는 기능\n",
    "* update() -- 여러 개의 값을 추가하는 기능 | 하나는 안 됨."
   ]
  },
  {
   "cell_type": "markdown",
   "metadata": {},
   "source": [
    "*add*"
   ]
  },
  {
   "cell_type": "code",
   "execution_count": 25,
   "metadata": {},
   "outputs": [
    {
     "data": {
      "text/plain": [
       "{1, 2, 3}"
      ]
     },
     "execution_count": 25,
     "metadata": {},
     "output_type": "execute_result"
    }
   ],
   "source": [
    "my_set2 = set()\n",
    "my_set2.add(1)\n",
    "my_set2.add(2)\n",
    "my_set2.add(3)\n",
    "\n",
    "my_set2.add(1)\n",
    "my_set2.add(2)\n",
    "my_set2.add(3)\n",
    "\n",
    "my_set2"
   ]
  },
  {
   "cell_type": "markdown",
   "metadata": {},
   "source": [
    "*update*"
   ]
  },
  {
   "cell_type": "code",
   "execution_count": 27,
   "metadata": {},
   "outputs": [
    {
     "data": {
      "text/plain": [
       "{1, 2, 3, 4, 5, 6, 7}"
      ]
     },
     "execution_count": 27,
     "metadata": {},
     "output_type": "execute_result"
    }
   ],
   "source": [
    "datas = {4, 5, 6, 7}\n",
    "my_set2.update(datas)\n",
    "\n",
    "my_set2\n",
    "\n",
    "# my_set3.update(9) 단일값 추가는 업데이트에서는 안 됨.\n",
    "\n",
    "# my_set3 = set()\n",
    "# my_set3.add(8)\n",
    "# my_set2.update(myset3) 이것은 가능\n",
    "\n"
   ]
  },
  {
   "cell_type": "markdown",
   "metadata": {},
   "source": [
    "### 3. 값 삭제하기\n",
    "\n",
    "del과 pop은 index기반이기 때문에 set에서는 사용 불가하다.\n",
    "remove만 사용 가능하다.\n",
    "\n",
    "remove() : 제거하고자 하는 값을 입력"
   ]
  },
  {
   "cell_type": "code",
   "execution_count": 28,
   "metadata": {},
   "outputs": [
    {
     "data": {
      "text/plain": [
       "{1, 2, 3, 4, 5, 6}"
      ]
     },
     "execution_count": 28,
     "metadata": {},
     "output_type": "execute_result"
    }
   ],
   "source": [
    "my_set2.remove(7)\n",
    "my_set2"
   ]
  },
  {
   "cell_type": "markdown",
   "metadata": {},
   "source": [
    "### 4. 집합함수\n",
    "\n",
    "* 교집합 : & .intersection()\n",
    "* 합집합 : | .union()\n",
    "* 차집합 : - .difference()"
   ]
  },
  {
   "cell_type": "code",
   "execution_count": 29,
   "metadata": {},
   "outputs": [],
   "source": [
    "a = {1, 2, 3, 4, 5}\n",
    "b = {3, 4, 5, 6, 7}"
   ]
  },
  {
   "cell_type": "code",
   "execution_count": 31,
   "metadata": {},
   "outputs": [
    {
     "data": {
      "text/plain": [
       "{3, 4, 5}"
      ]
     },
     "execution_count": 31,
     "metadata": {},
     "output_type": "execute_result"
    }
   ],
   "source": [
    "a & b\n",
    "a.intersection(b)"
   ]
  },
  {
   "cell_type": "code",
   "execution_count": 32,
   "metadata": {},
   "outputs": [
    {
     "data": {
      "text/plain": [
       "{1, 2, 3, 4, 5, 6, 7}"
      ]
     },
     "execution_count": 32,
     "metadata": {},
     "output_type": "execute_result"
    }
   ],
   "source": [
    "a | b\n",
    "a.union(b)"
   ]
  },
  {
   "cell_type": "code",
   "execution_count": 33,
   "metadata": {},
   "outputs": [
    {
     "data": {
      "text/plain": [
       "{1, 2}"
      ]
     },
     "execution_count": 33,
     "metadata": {},
     "output_type": "execute_result"
    }
   ],
   "source": [
    "a - b\n",
    "a.difference(b)"
   ]
  },
  {
   "cell_type": "markdown",
   "metadata": {},
   "source": [
    "### 문제 1\n",
    "\n",
    "다음 리스트에서 중복된 항목을 제거하세요  \n",
    "\n",
    "num_list = [1,3,2,3,4,6,8,4,10,5,3,8,9]"
   ]
  },
  {
   "cell_type": "code",
   "execution_count": 7,
   "metadata": {},
   "outputs": [
    {
     "data": {
      "text/plain": [
       "{1, 2, 3, 4, 5, 6, 8, 9, 10}"
      ]
     },
     "execution_count": 7,
     "metadata": {},
     "output_type": "execute_result"
    }
   ],
   "source": [
    "num_list = [1,3,2,3,4,6,8,4,10,5,3,8,9]\n",
    "\n",
    "k = set(num_list)\n",
    "k"
   ]
  },
  {
   "cell_type": "markdown",
   "metadata": {},
   "source": [
    "### 문제 2\n",
    "\n",
    "다음 중, a,b,c에서 공통으로 사용된 알파벳을 찾고(공백 허용)  \n",
    "리스트 형식으로 출력하세요  \n",
    "\n",
    "a = 'Hello, World'  \n",
    "b = 'World To World'  \n",
    "c = 'world to world'  \n"
   ]
  },
  {
   "cell_type": "code",
   "execution_count": 43,
   "metadata": {},
   "outputs": [
    {
     "name": "stdout",
     "output_type": "stream",
     "text": [
      "['r', 'o', 'd', ' ', 'l']\n"
     ]
    }
   ],
   "source": [
    "a = 'Hello, World'\n",
    "b = 'World To World'\n",
    "c = 'world to world'\n",
    "\n",
    "a1 = set(a)\n",
    "b1 = set(b)\n",
    "c1 = set(c)\n",
    "\n",
    "x = a1 & b1 & c1\n",
    "y = list(x)\n",
    "print(y)"
   ]
  },
  {
   "cell_type": "markdown",
   "metadata": {},
   "source": [
    "### 문제 3. \n",
    "\n",
    "두 리스트 book1과 book2의 공통 값을 찾는 방법으로 알맞은 것을 고르세요.  \n",
    "\n",
    "book1 = ['파이썬', '데이터분석', '머신러닝', '딥러닝']  \n",
    "book2 = ['파이썬', 'HTML', 'CSS', '자바스크립트', '장고']  \n",
    "\n",
    "print( )  \n",
    "\n",
    "**실행 결과**  \n",
    "\n",
    "['파이썬']\n",
    "\n"
   ]
  },
  {
   "cell_type": "code",
   "execution_count": 46,
   "metadata": {},
   "outputs": [
    {
     "data": {
      "text/plain": [
       "['파이썬']"
      ]
     },
     "execution_count": 46,
     "metadata": {},
     "output_type": "execute_result"
    }
   ],
   "source": [
    "book1 = ['파이썬', '데이터분석', '머신러닝', '딥러닝']\n",
    "book2 = ['파이썬', 'HTML', 'CSS', '자바스크립트', '장고']\n",
    "\n",
    "b1 = set(book1)\n",
    "b2 = set(book2)\n",
    "\n",
    "y = list(b1 & b2)\n",
    "y"
   ]
  },
  {
   "cell_type": "code",
   "execution_count": null,
   "metadata": {},
   "outputs": [],
   "source": []
  }
 ],
 "metadata": {
  "kernelspec": {
   "display_name": "Python 3 (ipykernel)",
   "language": "python",
   "name": "python3"
  },
  "language_info": {
   "codemirror_mode": {
    "name": "ipython",
    "version": 3
   },
   "file_extension": ".py",
   "mimetype": "text/x-python",
   "name": "python",
   "nbconvert_exporter": "python",
   "pygments_lexer": "ipython3",
   "version": "3.9.7"
  }
 },
 "nbformat": 4,
 "nbformat_minor": 4
}
