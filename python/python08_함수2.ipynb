{
 "cells": [
  {
   "cell_type": "markdown",
   "metadata": {},
   "source": [
    "## 함수 활용"
   ]
  },
  {
   "cell_type": "markdown",
   "metadata": {},
   "source": [
    "## 람다함수 lambda\n",
    "\n",
    "**최신 프로그램 언어는 '함수'라는 기능을 '매개변수'처럼  전달하는 코드를 많이 사용한다.**  \n",
    "파이썬에서는 이런 기법을 **람다** 기능으로 제공한다.  \n",
    "\n",
    "함수 정의에서 발생할 수 밖에 없는 코드 블락 작성과 코드 작성을 위한 공간이 낭비된다는 생각을  \n",
    "개발자들이 하게 되었고 그래서 람다라는 개념이 생겨났다.  \n",
    "\n",
    "람다는 **함수를 보다 쉽게 선언하고 정의하는 방법** 이다.  \n",
    "\n",
    "**Syntax**  \n",
    "> lambda 매개변수 : 리턴값(코드구현)\n",
    "\n",
    "* 이름없는 익명함수  \n",
    "* 함수 정의에서 def 대신에 lambda 키워드를 사용\n",
    "* 한줄로 작성한다"
   ]
  },
  {
   "cell_type": "code",
   "execution_count": 5,
   "metadata": {
    "scrolled": true
   },
   "outputs": [
    {
     "name": "stdout",
     "output_type": "stream",
     "text": [
      "9\n",
      "False\n",
      "True\n",
      "[1, 2, 3, 4, 5]\n"
     ]
    }
   ],
   "source": [
    "#람다함수 선언\n",
    "power = lambda x : x * x\n",
    "under_3 = lambda x : x <3 # boolean 값 출력 \n",
    "print(power(3))\n",
    "print(under_3(3))\n",
    "print(under_3(2))\n",
    "\n",
    "#변수 선언\n",
    "list_input = [1, 2, 3, 4, 5]\n",
    "print(list_input)"
   ]
  },
  {
   "cell_type": "code",
   "execution_count": 10,
   "metadata": {},
   "outputs": [
    {
     "name": "stdout",
     "output_type": "stream",
     "text": [
      "6\n"
     ]
    }
   ],
   "source": [
    "def double2(x):\n",
    "    print(x*2)\n",
    "double2(3)"
   ]
  },
  {
   "cell_type": "code",
   "execution_count": 11,
   "metadata": {},
   "outputs": [
    {
     "name": "stdout",
     "output_type": "stream",
     "text": [
      "6\n"
     ]
    }
   ],
   "source": [
    "double2 = lambda x : x * 2\n",
    "\n",
    "print(double2(3))"
   ]
  },
  {
   "cell_type": "markdown",
   "metadata": {},
   "source": [
    "`위 double2 함수를 정의하고 코드를 작성하는 일은 다소 번거롭다  \n",
    "  람다함수를 사용하면 한줄로 출력결과값을 바로 도출해서 편리하다`"
   ]
  },
  {
   "cell_type": "code",
   "execution_count": null,
   "metadata": {},
   "outputs": [],
   "source": []
  },
  {
   "cell_type": "markdown",
   "metadata": {},
   "source": [
    "`람다 함수도 인자값을 하나 이상 가질수 있다.\n",
    " 이때 호출시 전달되는 인자값 숫자에 주의하자`"
   ]
  },
  {
   "cell_type": "code",
   "execution_count": 12,
   "metadata": {},
   "outputs": [
    {
     "data": {
      "text/plain": [
       "42"
      ]
     },
     "execution_count": 12,
     "metadata": {},
     "output_type": "execute_result"
    }
   ],
   "source": [
    "a = lambda x, y : x * y\n",
    "a(7, 6)"
   ]
  },
  {
   "cell_type": "code",
   "execution_count": 14,
   "metadata": {},
   "outputs": [
    {
     "data": {
      "text/plain": [
       "15"
      ]
     },
     "execution_count": 14,
     "metadata": {},
     "output_type": "execute_result"
    }
   ],
   "source": [
    "a = lambda x, y, z : x + y - z\n",
    "a(10, 2, 7)\n",
    "a(y = 10, z = 2, x = 7)"
   ]
  },
  {
   "cell_type": "code",
   "execution_count": null,
   "metadata": {},
   "outputs": [],
   "source": []
  },
  {
   "cell_type": "code",
   "execution_count": null,
   "metadata": {},
   "outputs": [],
   "source": []
  },
  {
   "cell_type": "code",
   "execution_count": null,
   "metadata": {},
   "outputs": [],
   "source": []
  },
  {
   "cell_type": "markdown",
   "metadata": {},
   "source": [
    "`람다함수 안에서 조건문을 걸어줄 수 있다`"
   ]
  },
  {
   "cell_type": "code",
   "execution_count": 16,
   "metadata": {},
   "outputs": [
    {
     "data": {
      "text/plain": [
       "4"
      ]
     },
     "execution_count": 16,
     "metadata": {},
     "output_type": "execute_result"
    }
   ],
   "source": [
    "a = lambda x, y : x * y if x > 0 else y\n",
    "a(-1, 4)"
   ]
  },
  {
   "cell_type": "code",
   "execution_count": null,
   "metadata": {},
   "outputs": [],
   "source": []
  },
  {
   "cell_type": "code",
   "execution_count": null,
   "metadata": {},
   "outputs": [],
   "source": []
  },
  {
   "cell_type": "code",
   "execution_count": null,
   "metadata": {},
   "outputs": [],
   "source": []
  },
  {
   "cell_type": "markdown",
   "metadata": {},
   "source": [
    "`람다함수는 elif를 사용할 수 없다\n",
    " 단 elif 비슷하게 코드를 구성해 볼 수는 있다\n",
    "`"
   ]
  },
  {
   "cell_type": "code",
   "execution_count": 17,
   "metadata": {},
   "outputs": [
    {
     "data": {
      "text/plain": [
       "9"
      ]
     },
     "execution_count": 17,
     "metadata": {},
     "output_type": "execute_result"
    }
   ],
   "source": [
    "a = lambda x : x * 10 if x < 2 else (x**2 if x < 4 else x + 10 )\n",
    "a(3)\n",
    "\n",
    "#별로 추천하지 않는 방식"
   ]
  },
  {
   "cell_type": "code",
   "execution_count": null,
   "metadata": {},
   "outputs": [],
   "source": []
  },
  {
   "cell_type": "code",
   "execution_count": null,
   "metadata": {},
   "outputs": [],
   "source": []
  },
  {
   "cell_type": "code",
   "execution_count": null,
   "metadata": {},
   "outputs": [],
   "source": []
  },
  {
   "cell_type": "markdown",
   "metadata": {},
   "source": [
    "### map, filter, zip 함수\n",
    "### map\n",
    "\n",
    "map() 함수는 리스트 요소를 넣고 리턴되는 값으로 새로운 리스트를 구성해주는 함수기능  \n",
    "\n",
    "* map(함수, 리스트)\n",
    "* map(a,b) - b 리스트 값을  a 함수패턴으로 매핑시키는 기능\n",
    "\n",
    "### filter\n",
    "\n",
    "리스트의 요소를 함수에 넣고  \n",
    "해당 조건을 만족하는 데이타만 필터링 해서 가져온다  \n",
    "\n",
    "* filter(함수, 리스트)\n",
    "* filter(a,b) - b 리스트 값을  a 함수 조건을 만족하는 요소만 리턴함"
   ]
  },
  {
   "cell_type": "markdown",
   "metadata": {},
   "source": [
    "`map 사용`"
   ]
  },
  {
   "cell_type": "code",
   "execution_count": 20,
   "metadata": {},
   "outputs": [
    {
     "data": {
      "text/plain": [
       "[1, 2, 3, 4, 5, 6, 7, 8, 9, 10]"
      ]
     },
     "execution_count": 20,
     "metadata": {},
     "output_type": "execute_result"
    }
   ],
   "source": [
    "sample = list(range(1, 11))\n",
    "sample"
   ]
  },
  {
   "cell_type": "code",
   "execution_count": 23,
   "metadata": {},
   "outputs": [
    {
     "data": {
      "text/plain": [
       "<map at 0x1b757de1550>"
      ]
     },
     "execution_count": 23,
     "metadata": {},
     "output_type": "execute_result"
    }
   ],
   "source": [
    "map(str, sample)"
   ]
  },
  {
   "cell_type": "code",
   "execution_count": 24,
   "metadata": {},
   "outputs": [
    {
     "data": {
      "text/plain": [
       "['1', '2', '3', '4', '5', '6', '7', '8', '9', '10']"
      ]
     },
     "execution_count": 24,
     "metadata": {},
     "output_type": "execute_result"
    }
   ],
   "source": [
    "list(map(str, sample))"
   ]
  },
  {
   "cell_type": "code",
   "execution_count": 26,
   "metadata": {},
   "outputs": [
    {
     "data": {
      "text/plain": [
       "[1, 2, 3, 4, 5, 6, 7, 8, 9, 10]"
      ]
     },
     "execution_count": 26,
     "metadata": {},
     "output_type": "execute_result"
    }
   ],
   "source": [
    "list(map(int, sample))\n"
   ]
  },
  {
   "cell_type": "code",
   "execution_count": 28,
   "metadata": {},
   "outputs": [
    {
     "data": {
      "text/plain": [
       "[1.0, 2.0, 3.0, 4.0, 5.0, 6.0, 7.0, 8.0, 9.0, 10.0]"
      ]
     },
     "execution_count": 28,
     "metadata": {},
     "output_type": "execute_result"
    }
   ],
   "source": [
    "list(map(float, sample))"
   ]
  },
  {
   "cell_type": "code",
   "execution_count": 29,
   "metadata": {},
   "outputs": [
    {
     "data": {
      "text/plain": [
       "[True, True, True, True, True, True, True, True, True, True]"
      ]
     },
     "execution_count": 29,
     "metadata": {},
     "output_type": "execute_result"
    }
   ],
   "source": [
    "list(map(bool, sample))"
   ]
  },
  {
   "cell_type": "code",
   "execution_count": 30,
   "metadata": {},
   "outputs": [
    {
     "ename": "TypeError",
     "evalue": "unsupported operand type(s) for +: 'type' and 'int'",
     "output_type": "error",
     "traceback": [
      "\u001b[1;31m---------------------------------------------------------------------------\u001b[0m",
      "\u001b[1;31mTypeError\u001b[0m                                 Traceback (most recent call last)",
      "\u001b[1;32m~\\AppData\\Local\\Temp/ipykernel_11052/3868886775.py\u001b[0m in \u001b[0;36m<module>\u001b[1;34m\u001b[0m\n\u001b[1;32m----> 1\u001b[1;33m \u001b[0mlist\u001b[0m\u001b[1;33m(\u001b[0m\u001b[0mmap\u001b[0m\u001b[1;33m(\u001b[0m\u001b[0mfloat\u001b[0m \u001b[1;33m+\u001b[0m \u001b[1;36m1\u001b[0m\u001b[1;33m,\u001b[0m \u001b[0msample\u001b[0m\u001b[1;33m)\u001b[0m\u001b[1;33m)\u001b[0m\u001b[1;33m\u001b[0m\u001b[1;33m\u001b[0m\u001b[0m\n\u001b[0m",
      "\u001b[1;31mTypeError\u001b[0m: unsupported operand type(s) for +: 'type' and 'int'"
     ]
    }
   ],
   "source": [
    "list(map(float, sample))"
   ]
  },
  {
   "cell_type": "code",
   "execution_count": null,
   "metadata": {},
   "outputs": [],
   "source": []
  },
  {
   "cell_type": "markdown",
   "metadata": {},
   "source": [
    "#### map(), filter() 함수"
   ]
  },
  {
   "cell_type": "code",
   "execution_count": 35,
   "metadata": {},
   "outputs": [
    {
     "name": "stdout",
     "output_type": "stream",
     "text": [
      "======================================\n",
      "[1, 4, 9, 16, 25]\n",
      "======================================\n",
      "[True, True, False, False, False]\n",
      "======================================\n",
      "[1, 2]\n"
     ]
    }
   ],
   "source": [
    "def power(value):\n",
    "    return value * value\n",
    "\n",
    "def under_3(value):\n",
    "    return value < 3\n",
    "\n",
    "#변수\n",
    "list_input = [1, 2, 3, 4, 5]\n",
    "\n",
    "#map() 사용\n",
    "print('======================================')\n",
    "result_map = map(power,list_input)\n",
    "print(list(result_map))\n",
    "print('======================================')\n",
    "result_map2 = map(under_3, list_input)\n",
    "print(list(result_map2))\n",
    "print('======================================')\n",
    "result_map3 = filter(under_3, list_input)\n",
    "print(list(result_map3))"
   ]
  },
  {
   "cell_type": "code",
   "execution_count": null,
   "metadata": {},
   "outputs": [],
   "source": []
  },
  {
   "cell_type": "code",
   "execution_count": null,
   "metadata": {},
   "outputs": [],
   "source": []
  },
  {
   "cell_type": "markdown",
   "metadata": {},
   "source": [
    "* map에 람다함수를 매핑"
   ]
  },
  {
   "cell_type": "code",
   "execution_count": 39,
   "metadata": {},
   "outputs": [
    {
     "data": {
      "text/plain": [
       "[2, 4, 6, 8, 10, 12, 14, 16, 18, 20]"
      ]
     },
     "execution_count": 39,
     "metadata": {},
     "output_type": "execute_result"
    }
   ],
   "source": [
    "a = lambda x : x * 2\n",
    "\n",
    "x = map(a, sample)\n",
    "list(x)"
   ]
  },
  {
   "cell_type": "code",
   "execution_count": 40,
   "metadata": {},
   "outputs": [
    {
     "data": {
      "text/plain": [
       "[2, 4, 6, 8, 10, 12, 14, 16, 18, 20]"
      ]
     },
     "execution_count": 40,
     "metadata": {},
     "output_type": "execute_result"
    }
   ],
   "source": [
    "list(map(lambda x : x * 2, sample))"
   ]
  },
  {
   "cell_type": "markdown",
   "metadata": {},
   "source": [
    "* map에 multi parameter를 넘겨줄 수 있다"
   ]
  },
  {
   "cell_type": "code",
   "execution_count": 42,
   "metadata": {},
   "outputs": [
    {
     "data": {
      "text/plain": [
       "[3, 15, 7, 60, 12]"
      ]
     },
     "execution_count": 42,
     "metadata": {},
     "output_type": "execute_result"
    }
   ],
   "source": [
    "sample = list(range(1, 11))\n",
    "sample2 = [2, 13, 4, 56, 7]\n",
    "\n",
    "list(map(lambda x, y : x + y, sample, sample2))"
   ]
  },
  {
   "cell_type": "markdown",
   "metadata": {},
   "source": [
    "* 아름다운 파이썬 문법은 넘겨주는 list의 사이즈가 달라도 되며, 사이즈가 작은 리스트에 자동으로 맞춥니다\n",
    "* 사이즈가 더 작은 것에 자동으로 맞추고 스톱한다"
   ]
  },
  {
   "cell_type": "markdown",
   "metadata": {},
   "source": [
    "* filter에 람다함수를 매핑"
   ]
  },
  {
   "cell_type": "code",
   "execution_count": 44,
   "metadata": {},
   "outputs": [
    {
     "data": {
      "text/plain": [
       "[6, 7, 8, 9, 10]"
      ]
     },
     "execution_count": 44,
     "metadata": {},
     "output_type": "execute_result"
    }
   ],
   "source": [
    "list(filter(lambda x : True if (x > 5) else False, sample)) "
   ]
  },
  {
   "cell_type": "markdown",
   "metadata": {},
   "source": [
    "### zip\n",
    "\n",
    "* zip은 원래 압축파일로 익숙한데 그 개념과는 다르다.\n",
    "* map이나 filter보다는 더 중요하게 사용되는 기능\n",
    "* 여러 샘플 데이타들 중에서 같은 인덱스끼리 그룹을 만들어 주는 기능"
   ]
  },
  {
   "cell_type": "code",
   "execution_count": 45,
   "metadata": {},
   "outputs": [],
   "source": [
    "pro_number = [111, 222, 333]\n",
    "pro_maker = ['notebook', 'Denim Jacket', 'Leather Jacket']\n",
    "pro_price = [200, 50, 50, 220, 3124]"
   ]
  },
  {
   "cell_type": "code",
   "execution_count": 48,
   "metadata": {},
   "outputs": [
    {
     "data": {
      "text/plain": [
       "<zip at 0x1b757b98d80>"
      ]
     },
     "execution_count": 48,
     "metadata": {},
     "output_type": "execute_result"
    }
   ],
   "source": [
    "zip(pro_number, pro_maker)"
   ]
  },
  {
   "cell_type": "code",
   "execution_count": 49,
   "metadata": {},
   "outputs": [
    {
     "data": {
      "text/plain": [
       "[(111, 'notebook'), (222, 'Denim Jacket'), (333, 'Leather Jacket')]"
      ]
     },
     "execution_count": 49,
     "metadata": {},
     "output_type": "execute_result"
    }
   ],
   "source": [
    "list(zip(pro_number, pro_maker))"
   ]
  },
  {
   "cell_type": "code",
   "execution_count": 53,
   "metadata": {},
   "outputs": [
    {
     "data": {
      "text/plain": [
       "[(111, 'notebook', 200),\n",
       " (222, 'Denim Jacket', 50),\n",
       " (333, 'Leather Jacket', 50)]"
      ]
     },
     "execution_count": 53,
     "metadata": {},
     "output_type": "execute_result"
    }
   ],
   "source": [
    "list(zip(pro_number, pro_maker, pro_price))"
   ]
  },
  {
   "cell_type": "markdown",
   "metadata": {},
   "source": [
    "### zip을 활용한 딕셔너리 만들기\n",
    "\n",
    "* 많이 사용한다"
   ]
  },
  {
   "cell_type": "code",
   "execution_count": 66,
   "metadata": {},
   "outputs": [
    {
     "data": {
      "text/plain": [
       "{7788: '강호동', 1234: '민경훈', 6790: '이상민'}"
      ]
     },
     "execution_count": 66,
     "metadata": {},
     "output_type": "execute_result"
    }
   ],
   "source": [
    "ssn = [7788, 1234, 6790]\n",
    "name = ['강호동', '민경훈', '이상민']\n",
    "\n",
    "my_dic = {}\n",
    "for s, n in zip(ssn, name):\n",
    "    my_dic[s] = n\n",
    "\n",
    "my_dic"
   ]
  },
  {
   "cell_type": "code",
   "execution_count": 67,
   "metadata": {},
   "outputs": [
    {
     "name": "stdout",
     "output_type": "stream",
     "text": [
      "7788 \t 강호동\n",
      "1234 \t 민경훈\n",
      "6790 \t 이상민\n"
     ]
    }
   ],
   "source": [
    "list(zip(ssn, name))\n",
    "for i in range(len(ssn)):\n",
    "    print(ssn[i], '\\t', name[i])"
   ]
  },
  {
   "cell_type": "code",
   "execution_count": 69,
   "metadata": {},
   "outputs": [
    {
     "name": "stdout",
     "output_type": "stream",
     "text": [
      "0번 째 요소는 1입니다.\n",
      "1번 째 요소는 2입니다.\n",
      "2번 째 요소는 3입니다.\n",
      "3번 째 요소는 4입니다.\n",
      "4번 째 요소는 5입니다.\n"
     ]
    }
   ],
   "source": [
    "#enumerate 리스트의 각각 요소마다 인덱스도 같이 뽑아주는 것\n",
    "for i, v in enumerate([1, 2, 3, 4 ,5]):\n",
    "    print(\"{}번 째 요소는 {}입니다.\".format(i, v))"
   ]
  },
  {
   "cell_type": "code",
   "execution_count": null,
   "metadata": {},
   "outputs": [],
   "source": []
  },
  {
   "cell_type": "markdown",
   "metadata": {},
   "source": [
    "### 내장함수"
   ]
  },
  {
   "cell_type": "code",
   "execution_count": 74,
   "metadata": {},
   "outputs": [
    {
     "name": "stdout",
     "output_type": "stream",
     "text": [
      "3.141592653589793\n"
     ]
    }
   ],
   "source": [
    "import math\n",
    "\n",
    "print(math. pi)"
   ]
  },
  {
   "cell_type": "code",
   "execution_count": null,
   "metadata": {},
   "outputs": [],
   "source": []
  },
  {
   "cell_type": "markdown",
   "metadata": {},
   "source": [
    "### 문제 1.\n",
    "\n",
    "다음은 많은 사람들이 파이썬 프로그램을 개발하다가 막히는 대표적인 코드입니다.  \n",
    "numbers 리스트 데이타가 주어졌습니다. \n",
    "\n",
    "numbers가 아래 실행결과로 출력되도록 코드를 작성하세요  \n",
    "\n",
    "\n",
    "numbers = [1, 2, 3, 4, 5, 6]\n",
    "\n",
    "실행결과 >> 1::2::3::4::5::6"
   ]
  },
  {
   "cell_type": "code",
   "execution_count": 5,
   "metadata": {},
   "outputs": [
    {
     "name": "stdout",
     "output_type": "stream",
     "text": [
      "1::2::3::4::5::6\n"
     ]
    }
   ],
   "source": [
    "numbers = [1, 2, 3, 4, 5, 6]\n",
    "a = list(map(str, numbers))\n",
    "result = '::'.join(a)\n",
    "print(result)"
   ]
  },
  {
   "cell_type": "markdown",
   "metadata": {},
   "source": [
    "### 문제 2.\n",
    "\n",
    "numbers = list(range(1, 10 + 1))  \n",
    "\n",
    "number는 위와 같이 지정되어 있습니다.  \n",
    "람다와 필터를 함께 사용해서 아래와 같은 결과를 각각 구하세요  \n",
    "\n",
    "1) 홀수만 추출하기  \n",
    "2) 3 이상, 7 미만 추출하기  \n",
    "3) 제곱해서 50 미만 추출하기  \n"
   ]
  },
  {
   "cell_type": "code",
   "execution_count": 86,
   "metadata": {},
   "outputs": [
    {
     "name": "stdout",
     "output_type": "stream",
     "text": [
      "[1, 3, 5, 7, 9]\n",
      "[3, 4, 5, 6]\n",
      "[1, 2, 3, 4, 5, 6, 7]\n"
     ]
    }
   ],
   "source": [
    "numbers = list(range(1, 10 + 1))\n",
    "a = lambda x : True if x % 2 == 1 else False\n",
    "b = lambda x : True if x >= 3 and x < 7 else False\n",
    "c = lambda x : True if x ** 2 < 50 else False\n",
    "print(list(filter(a, numbers)))\n",
    "print(list(filter(b, numbers)))\n",
    "print(list(filter(c, numbers)))"
   ]
  },
  {
   "cell_type": "code",
   "execution_count": null,
   "metadata": {},
   "outputs": [],
   "source": []
  },
  {
   "cell_type": "code",
   "execution_count": null,
   "metadata": {},
   "outputs": [],
   "source": []
  }
 ],
 "metadata": {
  "kernelspec": {
   "display_name": "Python 3 (ipykernel)",
   "language": "python",
   "name": "python3"
  },
  "language_info": {
   "codemirror_mode": {
    "name": "ipython",
    "version": 3
   },
   "file_extension": ".py",
   "mimetype": "text/x-python",
   "name": "python",
   "nbconvert_exporter": "python",
   "pygments_lexer": "ipython3",
   "version": "3.9.7"
  }
 },
 "nbformat": 4,
 "nbformat_minor": 4
}
