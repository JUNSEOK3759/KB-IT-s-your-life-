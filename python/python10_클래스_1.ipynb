{
 "cells": [
  {
   "cell_type": "markdown",
   "id": "72ca3654",
   "metadata": {},
   "source": [
    "### 1. 클래스 정의\n",
    "\n",
    "클래스는 객체를 만들어 내기위한 **Type**이다.  \n",
    "\n",
    "* 클래스를 정의하기 위해서는 class 키워드 사용하여 새로운 클래스를 작성한다\n",
    "* Python의 대부분 네이밍컨벤션이 단어와 단어사이에 _ 를 넣는 다면  \n",
    "  클래스의 네이밍컨벤션은 CamelCase 를 사용한다.\n",
    "* 파이썬 메서드의 첫번째 파라미터명은 관례적으로 self라는 이름을 사용한다.  \n",
    "  호출시 호출한 객체 자신이 전달되기 때문에 self라는 이름을 사용하게 된다"
   ]
  },
  {
   "cell_type": "code",
   "execution_count": 1,
   "id": "6d4bf446",
   "metadata": {},
   "outputs": [],
   "source": [
    "class PythonTest:\n",
    "    \n",
    "    pass"
   ]
  },
  {
   "cell_type": "code",
   "execution_count": 2,
   "id": "621fd7ac",
   "metadata": {},
   "outputs": [
    {
     "name": "stdout",
     "output_type": "stream",
     "text": [
      "<__main__.PythonTest object at 0x00000225AA3B73D0>\n",
      "<method-wrapper '__str__' of PythonTest object at 0x00000225AA3B73D0>\n"
     ]
    }
   ],
   "source": [
    "p = PythonTest()\n",
    "\n",
    "print(p) ## __str__가 생략되어 있는 것임. \n",
    "print(p.__str__) ##객체의 저장된 위치값을 '문자열(str)'로 리턴하는 것"
   ]
  },
  {
   "cell_type": "markdown",
   "id": "95da6ee1",
   "metadata": {},
   "source": [
    "### 2. 객체 생성\n",
    "\n",
    "**생성자 호출과 초기화 함수가 자동으로 호출된다**  \n",
    "\n",
    "객체를 생성하기 위해서 java나 C# 등의 언어가 new 키워드를 사용하는 것과는 다르게  \n",
    "new 키워드를 사용하지 않는다.  \n",
    "\n",
    "대신에 내부적으로 __new__() 호출과 --> __init__() 호출이 순차적으로 일어난다  \n",
    "init은 멤버변수 초기화 작업을 위해서 필요하지만  \n",
    "new 생성자는 굳이 작성하지 않고 생략한다  \n",
    "<pre>\n",
    "- 생성자 호출로 객체생성을 하면\n",
    "    1)__new__ 를 호출하여 객체 생성을 할당하고,      \n",
    "    2)__new___ 메소드가 __init__메소드를 호출하여 \n",
    "      객체에서 사용할 값들을 초기화하게 된다.  \n",
    "  \n",
    "\n",
    "- 생성자는__new__함수,  \n",
    "  멤버변수 초기화는 __init__함수가 내부적으로 사용된다\n",
    " </pre> \n"
   ]
  },
  {
   "cell_type": "code",
   "execution_count": 3,
   "id": "3ddf6e60",
   "metadata": {},
   "outputs": [],
   "source": [
    "class Shirt:\n",
    "    def __init__(self):\n",
    "        print('2. init....호출됨')\n",
    "    \n",
    "    def __new__(cls):\n",
    "        print('1. new .... Instance Creating...')\n",
    "        return super().__new__(cls)\n",
    "     "
   ]
  },
  {
   "cell_type": "code",
   "execution_count": 4,
   "id": "f61639e9",
   "metadata": {},
   "outputs": [
    {
     "name": "stdout",
     "output_type": "stream",
     "text": [
      "1. new .... Instance Creating...\n",
      "2. init....호출됨\n",
      "============================\n",
      "1. new .... Instance Creating...\n",
      "2. init....호출됨\n"
     ]
    }
   ],
   "source": [
    "shirt1 = Shirt()\n",
    "print('============================')\n",
    "shirt2 = Shirt()"
   ]
  },
  {
   "cell_type": "code",
   "execution_count": 5,
   "id": "273ebc6e",
   "metadata": {},
   "outputs": [],
   "source": [
    "#잘 못 만든 클래스의 예\n",
    "#다양한 person들이 생성되기 위한 타입으로서의 클래스... 아래처럼 작성하자\n",
    "# class Person: ## age와 name은 class의 속성(Attribute)이다. \n",
    "#     age = 22 \n",
    "#     name = '송강'\n",
    "    \n",
    "#     #밑의 def는 속성을 이용해서 기능을 만드는 function이다.\n",
    "#     def info(self): ## class 안의 함수안에는 무조건 self가 들어가야 한다.\n",
    "#         print(f\"당신의 이름은 {self.name}이구요, 나이는 {self.age}입니다.\")\n",
    "\n"
   ]
  },
  {
   "cell_type": "code",
   "execution_count": 6,
   "id": "1b91c113",
   "metadata": {},
   "outputs": [
    {
     "ename": "NameError",
     "evalue": "name 'Person' is not defined",
     "output_type": "error",
     "traceback": [
      "\u001b[1;31m---------------------------------------------------------------------------\u001b[0m",
      "\u001b[1;31mNameError\u001b[0m                                 Traceback (most recent call last)",
      "\u001b[1;32m~\\AppData\\Local\\Temp/ipykernel_22796/3053122642.py\u001b[0m in \u001b[0;36m<module>\u001b[1;34m\u001b[0m\n\u001b[1;32m----> 1\u001b[1;33m \u001b[0mp\u001b[0m \u001b[1;33m=\u001b[0m \u001b[0mPerson\u001b[0m\u001b[1;33m(\u001b[0m\u001b[1;33m)\u001b[0m\u001b[1;33m\u001b[0m\u001b[1;33m\u001b[0m\u001b[0m\n\u001b[0m\u001b[0;32m      2\u001b[0m \u001b[0mp\u001b[0m\u001b[1;33m.\u001b[0m\u001b[0minfo\u001b[0m\u001b[1;33m(\u001b[0m\u001b[1;33m)\u001b[0m\u001b[1;33m\u001b[0m\u001b[1;33m\u001b[0m\u001b[0m\n",
      "\u001b[1;31mNameError\u001b[0m: name 'Person' is not defined"
     ]
    }
   ],
   "source": [
    "p = Person()\n",
    "p.info()"
   ]
  },
  {
   "cell_type": "code",
   "execution_count": null,
   "id": "d1b503d5",
   "metadata": {},
   "outputs": [],
   "source": [
    "class Person: ## 클래스는 값을 받을 수 있는 틀이다.\n",
    "    def __init__(self, name, age): ## __init__ << 속성들의 값을 초기화 하는 것\n",
    "        self.name = name\n",
    "        self.age = age\n",
    "        ## self가 붙은 것은 전부 다 인스턴스 변수\n",
    "        ## 인스턴스변수 = 객체가 생성될 때 함께 올라가는 변수\n",
    "        \n",
    "        \n",
    "# 변수 초기화는 무조건 하나만 줘야 한다. overloading이 안된다.\n",
    "#         def __init__(self, name, age, address): ## __init__ << 속성들의 값을 초기화 하는 것\n",
    "#         self.name = name\n",
    "#         self.age = age\n",
    "#         self.address = address\n",
    "    #address속성을 동적으로 초기화하는 함수를 정의\n",
    "    def set_address(self, address):\n",
    "        self.self.address = address\n",
    "\n",
    "    def info(self):\n",
    "        print(f\"당신의 이름은 {self.name}이구요, 나이는 {self.age}입니다.\")\n",
    "        \n",
    "p1 = Person('송강', 22)\n",
    "print(p1.info())\n",
    "print('============================')\n",
    "p2 = Person('김연아', 31)\n",
    "p2.info()\n",
    "\n",
    "print('============================')\n",
    "p3 = Person('백정은', 24)\n",
    "p3.info()"
   ]
  },
  {
   "cell_type": "markdown",
   "id": "44fb7528",
   "metadata": {},
   "source": [
    "### 3. 객체(인스턴스) 멤버 추가"
   ]
  },
  {
   "cell_type": "code",
   "execution_count": null,
   "id": "8b577045",
   "metadata": {},
   "outputs": [],
   "source": [
    "class Tshirt:\n",
    "    #인스턴스 속성 초기화\n",
    "    def __init__ (self, long_sleeved, brand, price):\n",
    "        self.long_sleeved = long_sleeved #값 초기화 하는 것\n",
    "        self.brand = brand #값 초기화 하는 것\n",
    "        self.price = price #값 초기화 하는 것\n",
    "        \n",
    "    def get_info(self):\n",
    "        return self.long_sleeved, self.brand, self.price\n",
    "    #기능 추가1 : price 바꾸기\n",
    "    def change_price(self, price):\n",
    "        self.price = price\n",
    "    #기능 추가2 : get_info 오버로딩\n",
    "    #함수를 오버로딩하면 첫 번째 것은 무시된다.(인자값이 많은 것만 살린다.)\n",
    "    def get_info(self, info):\n",
    "        print(info, end = '')\n",
    "        return self.long_sleeved, self.brand, self.price\n",
    "    "
   ]
  },
  {
   "cell_type": "code",
   "execution_count": null,
   "id": "f2c7a299",
   "metadata": {},
   "outputs": [],
   "source": [
    "longT = Tshirt(True, \"발렌시아가\", 1000000)\n",
    "shortT = Tshirt(False, \"아워레가시\", 300000)\n"
   ]
  },
  {
   "cell_type": "code",
   "execution_count": null,
   "id": "98560e24",
   "metadata": {},
   "outputs": [],
   "source": [
    "# print(longT.get_info())\n",
    "# print(shortT.get_info())\n",
    "\n",
    "# print('============== 가격 수정 ==============')\n",
    "# longT.change_price(750000)\n",
    "# print(longT.get_info())\n",
    "\n",
    "print('=====================get_info 오버로딩==============')\n",
    "print(longT.get_info('tShirt 정보를 출력'))"
   ]
  },
  {
   "cell_type": "markdown",
   "id": "fb10c361",
   "metadata": {},
   "source": [
    "#### 파이썬은 오버로딩을 지원하지 않는다  \n",
    "메소드 오버로딩에서는 첫번째 것(인자값이 작은것)은 무시되어진다."
   ]
  },
  {
   "cell_type": "code",
   "execution_count": null,
   "id": "696c517a",
   "metadata": {},
   "outputs": [],
   "source": []
  },
  {
   "cell_type": "code",
   "execution_count": null,
   "id": "7cb7e97f",
   "metadata": {},
   "outputs": [],
   "source": []
  },
  {
   "cell_type": "markdown",
   "id": "badfa497",
   "metadata": {},
   "source": [
    "### 4. __str__ 함수 사용하기\n",
    "<pre>\n",
    "__str__ 함수 사용하기\n",
    "</pre>"
   ]
  },
  {
   "cell_type": "code",
   "execution_count": null,
   "id": "b35caf94",
   "metadata": {},
   "outputs": [],
   "source": [
    "## 앞에서 설명.... 나중에 다시 Try "
   ]
  },
  {
   "cell_type": "code",
   "execution_count": null,
   "id": "8c975239",
   "metadata": {},
   "outputs": [],
   "source": [
    "class Student:\n",
    "    def __init__(self, name, python, django, deep):\n",
    "        self.name = name\n",
    "        self.python = python\n",
    "        self.django = django\n",
    "        self.deep = deep\n",
    "        \n",
    "    def get_sum(self):\n",
    "        return self.python + self.django + self.deep\n",
    "    \n",
    "    def get_avg(self):\n",
    "        return round(self.get_sum() / 3, 2)\n",
    "    \n",
    "    #정보를 리턴하거나 정보를 출력하는 기능.... 별도로 작성 / ___str__\n",
    "    #오버라이딩 : 부모가 물려준 기능을 받아서 그걸 자식에게 맞게 고쳐쓰는 것\n",
    "    #오버라이딩의 핵심은 함수 구현부가 변한다는 것이다.\n",
    "    def __str__(self):\n",
    "        return \"{}\\t{}\\t{}\\t\".format(self.name, self.get_sum(), self.get_avg())"
   ]
  },
  {
   "cell_type": "code",
   "execution_count": null,
   "id": "02e7958b",
   "metadata": {},
   "outputs": [],
   "source": [
    "students = [\n",
    "    \n",
    "    Student('강호동', 87, 90, 68),\n",
    "    Student('민경훈', 90, 90, 60),\n",
    "    Student('이수근', 98, 79, 80),\n",
    "    Student('서장훈', 80, 80, 90)\n",
    "]\n",
    "\n",
    "# 정보출력\n",
    "print(\"이름\", \"총점\", \"평균\")\n",
    "for student in students:\n",
    "    print(student)"
   ]
  },
  {
   "cell_type": "code",
   "execution_count": null,
   "id": "62196ff6",
   "metadata": {},
   "outputs": [],
   "source": []
  },
  {
   "cell_type": "code",
   "execution_count": null,
   "id": "5c8ee35c",
   "metadata": {},
   "outputs": [],
   "source": []
  },
  {
   "cell_type": "code",
   "execution_count": null,
   "id": "1c914dec",
   "metadata": {},
   "outputs": [],
   "source": []
  },
  {
   "cell_type": "markdown",
   "id": "d8300a13",
   "metadata": {},
   "source": [
    "### 5. 클래스변수, 전역변수 사용하기\n",
    "\n",
    "* 클래스 변수는 클래스 선언 바로 아래에 변수를 선언하기만 하면 됨\n",
    "* 클래스변수.변수이름  으로 접근해서 사용함\n",
    "\n",
    "class  클래스이름:  \n",
    ">클래스변수 = 값  \n",
    "    \n",
    "      "
   ]
  },
  {
   "cell_type": "code",
   "execution_count": 9,
   "id": "284b6620",
   "metadata": {},
   "outputs": [],
   "source": [
    "class KBStudent:\n",
    "    \n",
    "    count = 0 #클래스 변수\n",
    "    \n",
    "    def __init__(self, name, python, django, deep):\n",
    "        self.name = name\n",
    "        self.python = python\n",
    "        self.django = django\n",
    "        self.deep = deep\n",
    "        \n",
    "        KBStudent.count += 1\n",
    "        print('{}번째 학생이 가입되었습니다.'.format(KBStudent.count))\n",
    "        \n",
    "    def get_sum(self):\n",
    "        return self.python + self.django + self.deep\n",
    "    \n",
    "    def get_avg(self):\n",
    "        return round(self.get_sum() / 3, 2)\n",
    "    \n",
    "    #정보를 리턴하거나 정보를 출력하는 기능.... 별도로 작성 / ___str__\n",
    "    #오버라이딩 : 부모가 물려준 기능을 받아서 그걸 자식에게 맞게 고쳐쓰는 것\n",
    "    #오버라이딩의 핵심은 함수 구현부가 변한다는 것이다.\n",
    "    def __str__(self):\n",
    "        return \"{}\\t{}\\t{}\\t\".format(self.name, self.get_sum(), self.get_avg())\n",
    "    \n",
    "    "
   ]
  },
  {
   "cell_type": "code",
   "execution_count": 12,
   "id": "0b0d8d52",
   "metadata": {},
   "outputs": [
    {
     "name": "stdout",
     "output_type": "stream",
     "text": [
      "5번째 학생이 가입되었습니다.\n",
      "6번째 학생이 가입되었습니다.\n",
      "7번째 학생이 가입되었습니다.\n",
      "8번째 학생이 가입되었습니다.\n",
      "이름 총점 평균\n",
      "강호동\t245\t81.67\t\n",
      "민경훈\t240\t80.0\t\n",
      "이수근\t257\t85.67\t\n",
      "서장훈\t250\t83.33\t\n",
      "현재까지 가입한 총 학생수는 8명입니다.\n"
     ]
    }
   ],
   "source": [
    "students = [\n",
    "    \n",
    "    KBStudent('강호동', 87, 90, 68),\n",
    "    KBStudent('민경훈', 90, 90, 60),\n",
    "    KBStudent('이수근', 98, 79, 80),\n",
    "    KBStudent('서장훈', 80, 80, 90)\n",
    "]\n",
    "\n",
    "# 정보출력\n",
    "print(\"이름\", \"총점\", \"평균\")\n",
    "for student in students:\n",
    "    print(student)\n",
    "    \n",
    "print(f\"현재까지 가입한 총 학생수는 {KBStudent.count}명입니다.\")"
   ]
  },
  {
   "cell_type": "code",
   "execution_count": null,
   "id": "4029abcb",
   "metadata": {},
   "outputs": [],
   "source": []
  }
 ],
 "metadata": {
  "kernelspec": {
   "display_name": "Python 3 (ipykernel)",
   "language": "python",
   "name": "python3"
  },
  "language_info": {
   "codemirror_mode": {
    "name": "ipython",
    "version": 3
   },
   "file_extension": ".py",
   "mimetype": "text/x-python",
   "name": "python",
   "nbconvert_exporter": "python",
   "pygments_lexer": "ipython3",
   "version": "3.9.7"
  }
 },
 "nbformat": 4,
 "nbformat_minor": 5
}
