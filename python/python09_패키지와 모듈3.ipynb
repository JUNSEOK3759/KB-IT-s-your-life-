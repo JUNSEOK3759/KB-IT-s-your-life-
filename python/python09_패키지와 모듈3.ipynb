{
 "cells": [
  {
   "cell_type": "code",
   "execution_count": 40,
   "id": "52b59f67",
   "metadata": {},
   "outputs": [
    {
     "name": "stdout",
     "output_type": "stream",
     "text": [
      "Overwriting my_score.py\n"
     ]
    }
   ],
   "source": [
    "%%writefile my_score.py\n",
    "\n",
    "def getSum(data):\n",
    "    \n",
    "    total = sum(data)\n",
    "    \n",
    "    return total\n",
    "\n",
    "def getMean(data):\n",
    "    \n",
    "    mean = sum(data) / len(data)\n",
    "    \n",
    "    return mean\n",
    "\n",
    "def getMax(data):\n",
    "    data.sort(reverse = True)\n",
    "    maxV = data[0]\n",
    "    \n",
    "    \n",
    "    return maxV\n",
    "\n",
    "def getMin(data):\n",
    "    \n",
    "    data.sort()\n",
    "    minV = data[0]\n",
    "    \n",
    "    \n",
    "    return minV\n",
    "\n",
    "# num1에 더 큰값이 들어왔을때 고려해서 작성...\n",
    "def getTwoSum(num2, num1=3): # 두 수 사이의 합|을 구하는 함수\n",
    "    result = 0\n",
    "    if num1 > num2:        \n",
    "        for i in range(num2 , num1 + 1):\n",
    "            result += i\n",
    "    elif num2 > num1:\n",
    "        for i in range(num1, num2 + 1):\n",
    "            result += i\n",
    "    else :\n",
    "        result = num2\n",
    "    return result"
   ]
  },
  {
   "cell_type": "code",
   "execution_count": null,
   "id": "4f96bf1d",
   "metadata": {},
   "outputs": [],
   "source": []
  },
  {
   "cell_type": "code",
   "execution_count": null,
   "id": "9aab5f04",
   "metadata": {},
   "outputs": [],
   "source": []
  }
 ],
 "metadata": {
  "kernelspec": {
   "display_name": "Python 3 (ipykernel)",
   "language": "python",
   "name": "python3"
  },
  "language_info": {
   "codemirror_mode": {
    "name": "ipython",
    "version": 3
   },
   "file_extension": ".py",
   "mimetype": "text/x-python",
   "name": "python",
   "nbconvert_exporter": "python",
   "pygments_lexer": "ipython3",
   "version": "3.9.7"
  }
 },
 "nbformat": 4,
 "nbformat_minor": 5
}
