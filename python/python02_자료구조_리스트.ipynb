{
 "cells": [
  {
   "cell_type": "markdown",
   "metadata": {},
   "source": [
    "### 자료구조\n",
    "* Sequence Type\n",
    "  - 문자열\n",
    "  - 리스트\n",
    "  - 튜플\n",
    "* Set\n",
    "* 딕셔너리"
   ]
  },
  {
   "cell_type": "markdown",
   "metadata": {},
   "source": [
    "## 리스트 생성, 추가, 삭제, 수정\n",
    "\n",
    "### 1. 리스트 생성하기"
   ]
  },
  {
   "cell_type": "code",
   "execution_count": 1,
   "metadata": {},
   "outputs": [
    {
     "name": "stdout",
     "output_type": "stream",
     "text": [
      "[2, 5, 3, 10, 2]\n",
      "[]\n",
      "[]\n",
      "[0, 1, 2, 3, 4, 5, 6, 7, 8, 9]\n"
     ]
    },
    {
     "data": {
      "text/plain": [
       "[2, 5, 3, 10, 2, 0, 1, 2, 3, 4, 5, 6, 7, 8, 9]"
      ]
     },
     "execution_count": 1,
     "metadata": {},
     "output_type": "execute_result"
    }
   ],
   "source": [
    "my_list1 = [2, 5, 3, 10, 2]\n",
    "my_list2 = []\n",
    "my_list3 = list()\n",
    "my_list4 = list(range(10)) # range(10) = range(0, 10)\n",
    "\n",
    "print(my_list1)\n",
    "print(my_list2)\n",
    "print(my_list3)\n",
    "print(my_list4)\n",
    "\n",
    "my_list3.extend(my_list1)\n",
    "my_list3\n",
    "\n",
    "my_list1.extend(my_list4)\n",
    "my_list1\n",
    "# 리스트는 순서가 있기 때문에 인덱스로 관리가 된다."
   ]
  },
  {
   "cell_type": "markdown",
   "metadata": {},
   "source": [
    "### 2. 리스트 수정하기\n",
    "리스트는 순서를 가지는 타입이기에 index가 핵심"
   ]
  },
  {
   "cell_type": "code",
   "execution_count": 2,
   "metadata": {},
   "outputs": [
    {
     "name": "stdout",
     "output_type": "stream",
     "text": [
      "[2, 5, -3, 10, 2]\n"
     ]
    }
   ],
   "source": [
    "my_list1 = [2, 5, 3, 10, 2]\n",
    "my_list1[2] = -3\n",
    "\n",
    "print(my_list1)"
   ]
  },
  {
   "cell_type": "markdown",
   "metadata": {},
   "source": [
    "### 3. 리스트 추가하기\n",
    "\n",
    "append()  \n",
    "insert()"
   ]
  },
  {
   "cell_type": "code",
   "execution_count": 3,
   "metadata": {},
   "outputs": [
    {
     "data": {
      "text/plain": [
       "[2, 5, 3, 10, 2, 100]"
      ]
     },
     "execution_count": 3,
     "metadata": {},
     "output_type": "execute_result"
    }
   ],
   "source": [
    "my_list1 = [2, 5, 3, 10, 2]\n",
    "my_list1.append(100)\n",
    "my_list1"
   ]
  },
  {
   "cell_type": "code",
   "execution_count": 4,
   "metadata": {},
   "outputs": [
    {
     "data": {
      "text/plain": [
       "[2, 5, 3, 200, 10, 2, 100]"
      ]
     },
     "execution_count": 4,
     "metadata": {},
     "output_type": "execute_result"
    }
   ],
   "source": [
    "my_list1.insert(3, 200)\n",
    "my_list1"
   ]
  },
  {
   "cell_type": "markdown",
   "metadata": {},
   "source": [
    "`\n",
    "리스트 가장 마지막에 -200을 추가... 이 때 insert()함수를 사용\n",
    "`"
   ]
  },
  {
   "cell_type": "code",
   "execution_count": 5,
   "metadata": {},
   "outputs": [
    {
     "data": {
      "text/plain": [
       "[2, 5, 3, 200, 10, 2, 100, -200]"
      ]
     },
     "execution_count": 5,
     "metadata": {},
     "output_type": "execute_result"
    }
   ],
   "source": [
    "my_list1.insert(len(my_list1),-200)\n",
    "my_list1"
   ]
  },
  {
   "cell_type": "markdown",
   "metadata": {},
   "source": [
    "### 4. 리스트 삭제하기\n",
    "\n",
    "del - 인덱스로 삭제  \n",
    "remove() - 삭제할 값을 직접 입력  \n",
    "\n",
    "pop() - 가장 마지막 값을 삭제, 삭제한 값을 리턴함.  \n",
    "pop(i) - 해당하는 인덱스를 적어줄 수도 있음, 삭제한 값을 리턴함."
   ]
  },
  {
   "cell_type": "code",
   "execution_count": 6,
   "metadata": {},
   "outputs": [
    {
     "data": {
      "text/plain": [
       "[1, 2, 4, 5]"
      ]
     },
     "execution_count": 6,
     "metadata": {},
     "output_type": "execute_result"
    }
   ],
   "source": [
    "my_list = [1, 2, 3, 4, 5]\n",
    "my_list\n",
    "\n",
    "del my_list[2]\n",
    "my_list"
   ]
  },
  {
   "cell_type": "code",
   "execution_count": 7,
   "metadata": {},
   "outputs": [
    {
     "data": {
      "text/plain": [
       "[1, 2, 5]"
      ]
     },
     "execution_count": 7,
     "metadata": {},
     "output_type": "execute_result"
    }
   ],
   "source": [
    "my_list.remove(4)\n",
    "my_list\n",
    "\n",
    "# 만약 리스트에 [1, 4, 5, 4, 6]이 있는데 remove(4)를 한다면 맨 앞 4만 없어진다."
   ]
  },
  {
   "cell_type": "code",
   "execution_count": 8,
   "metadata": {},
   "outputs": [
    {
     "name": "stdout",
     "output_type": "stream",
     "text": [
      "2\n",
      "[1, 1, 3]\n",
      "None\n",
      "[1, 1]\n"
     ]
    }
   ],
   "source": [
    "x = [1, 2, 1, 3]\n",
    "result = x.pop(1)\n",
    "print(result)\n",
    "print(x)\n",
    "result2 = x.remove(3)\n",
    "print(result2)\n",
    "print(x)\n",
    "\n",
    "#pop은 리턴값이 있고, remove는 리턴값이 없다. 따라서, None이 출력된다."
   ]
  },
  {
   "cell_type": "markdown",
   "metadata": {},
   "source": [
    "### 5. 리스트에서 정렬하기 sort()"
   ]
  },
  {
   "cell_type": "code",
   "execution_count": 9,
   "metadata": {},
   "outputs": [
    {
     "name": "stdout",
     "output_type": "stream",
     "text": [
      "[3, 2, 7]\n",
      "[1, 2, 3, 5, 7]\n",
      "[1, 2, 3, 5, 7]\n",
      "[7, 5, 3, 2, 1]\n",
      "None\n",
      "[7, 5, 3, 2, 1]\n"
     ]
    }
   ],
   "source": [
    "myL = [3, 2, 7, 1, 5]\n",
    "print(myL[:3])\n",
    "\n",
    "myL.sort() # 오름차순\n",
    "print(myL)\n",
    "\n",
    "myL.sort(reverse = False) # 오름차순\n",
    "print(myL)\n",
    "\n",
    "myL.sort(reverse = True)\n",
    "print(myL)\n",
    "\n",
    "print(myL.sort(reverse = True)) \n",
    "# sort함수는 pop과는 다르게 리턴값이 없음. sort는 리스트 자체를  \n",
    "# 수정하는 것이기 때문에 리스트 안에서 값이 바뀐다.\n",
    "\n",
    "print(sorted(myL, reverse = True))\n",
    "#sorted는 리턴값이 있음."
   ]
  },
  {
   "cell_type": "code",
   "execution_count": 10,
   "metadata": {},
   "outputs": [
    {
     "name": "stdout",
     "output_type": "stream",
     "text": [
      "[5, 1, 7, 2, 3]\n"
     ]
    }
   ],
   "source": [
    "'''\n",
    "리스트에는 reverse()함수가 제공된다.\n",
    "리스트의 요소들을 거꾸로 뒤집는 기능을 한다.  \n",
    "이는 리스트에 들어온 값을 거꾸로 뒤집어서 출력한다는 것이다.\n",
    "'''\n",
    "myL2 = [3, 2, 7, 1, 5]\n",
    "myL2.reverse()\n",
    "print(myL2)\n",
    "\n",
    "# result = reversed(myL2)\n",
    "# print(result)\n",
    "\n",
    "# reversed는 리스트 함수가 아니다.\n",
    "# reverse는 리턴값이 있도록 할 수 없다."
   ]
  },
  {
   "cell_type": "code",
   "execution_count": 11,
   "metadata": {},
   "outputs": [
    {
     "data": {
      "text/plain": [
       "5"
      ]
     },
     "execution_count": 11,
     "metadata": {},
     "output_type": "execute_result"
    }
   ],
   "source": [
    "myL3 = [1, 2, 1, 1, 5, 6, 7, 1, 1, 4]\n",
    "myL3.count(1)\n",
    "#count 함수는 리스트 안에 해당 값이 몇 개가 들어가있는지 확인하는 것이다."
   ]
  },
  {
   "cell_type": "markdown",
   "metadata": {},
   "source": [
    "### 6. 리스트 연산 : 더하기 / 곱하기 \n"
   ]
  },
  {
   "cell_type": "code",
   "execution_count": 12,
   "metadata": {},
   "outputs": [],
   "source": [
    "a = [1, 2, 3, 4]\n",
    "b = [5, 6, 7, 8]"
   ]
  },
  {
   "cell_type": "code",
   "execution_count": 13,
   "metadata": {},
   "outputs": [
    {
     "data": {
      "text/plain": [
       "[1, 2, 3, 4, 5, 6, 7, 8]"
      ]
     },
     "execution_count": 13,
     "metadata": {},
     "output_type": "execute_result"
    }
   ],
   "source": [
    "'''\n",
    "리스트끼리의 연산은 수학적 연산이 아닌 단순한 연결을 의미한다.\n",
    "extend(확장)개념과 똑같다고 할 수 있다.\n",
    "'''\n",
    "a + b"
   ]
  },
  {
   "cell_type": "code",
   "execution_count": 14,
   "metadata": {},
   "outputs": [
    {
     "data": {
      "text/plain": [
       "[1, 2, 3, 4, 5, 6, 7, 8]"
      ]
     },
     "execution_count": 14,
     "metadata": {},
     "output_type": "execute_result"
    }
   ],
   "source": [
    "a.extend(b)\n",
    "a"
   ]
  },
  {
   "cell_type": "code",
   "execution_count": 15,
   "metadata": {},
   "outputs": [
    {
     "data": {
      "text/plain": [
       "[1, 2, 3, 4, 5, 6, 7, 8, 1, 2, 3, 4, 5, 6, 7, 8]"
      ]
     },
     "execution_count": 15,
     "metadata": {},
     "output_type": "execute_result"
    }
   ],
   "source": [
    "a * 2 "
   ]
  },
  {
   "cell_type": "markdown",
   "metadata": {},
   "source": [
    "### Tips"
   ]
  },
  {
   "cell_type": "code",
   "execution_count": 16,
   "metadata": {},
   "outputs": [
    {
     "name": "stdout",
     "output_type": "stream",
     "text": [
      "a\t b\t myL\t myL2\t myL3\t my_list\t my_list1\t my_list2\t my_list3\t \n",
      "my_list4\t result\t result2\t x\t \n"
     ]
    }
   ],
   "source": [
    "# 해당하는 파일의 모든 변수명을 출력한다.\n",
    "%who"
   ]
  },
  {
   "cell_type": "markdown",
   "metadata": {},
   "source": [
    "### Tips 2."
   ]
  },
  {
   "cell_type": "code",
   "execution_count": 17,
   "metadata": {},
   "outputs": [
    {
     "name": "stdout",
     "output_type": "stream",
     "text": [
      "['a', 'b', 'c', 'd']\n",
      "[3, 4, 5]\n"
     ]
    }
   ],
   "source": [
    "'''\n",
    "에러의 원인은\n",
    "내장함수와 전역변수명이 동일해서이다.\n",
    "\n",
    "이렇게 동일한 이름의 변수를 선언했을 때,\n",
    "메모리 찾는 순서\n",
    "1) 로컬변수는 로컬영역에 저장 --- 여기를 가장 먼저 뒤진다\n",
    "2) 전역변수는 전역변수영역에 저장 --- 여기를 두 번째로 뒤진다.\n",
    "3) 내장변수는 내장변수영역에 저장 --- 여기를 가장 마지막으로 뒤진다.\n",
    "'''\n",
    "aList = list('abcd')\n",
    "print(aList)\n",
    "\n",
    "# list = [3, 4, 5]\n",
    "# print(list)\n",
    "\n",
    "list_data = [3, 4, 5]\n",
    "print(list_data)"
   ]
  },
  {
   "cell_type": "markdown",
   "metadata": {},
   "source": [
    "### 7. 2차원 배열에서 데이터 추출하기\n",
    "\n",
    "2차원은 행렬구조\n",
    "Matrix \n",
    "\n",
    "2차원을 만드는 방법은 먼저,  \n",
    "[[]] 대괄호를 2개 사용"
   ]
  },
  {
   "cell_type": "code",
   "execution_count": 18,
   "metadata": {},
   "outputs": [],
   "source": [
    "list2D = [[1,2,3], [2,3,4], [5,6,7]]"
   ]
  },
  {
   "cell_type": "code",
   "execution_count": 21,
   "metadata": {},
   "outputs": [
    {
     "data": {
      "text/plain": [
       "4"
      ]
     },
     "execution_count": 21,
     "metadata": {},
     "output_type": "execute_result"
    }
   ],
   "source": [
    "list2D[1][2]"
   ]
  },
  {
   "cell_type": "code",
   "execution_count": null,
   "metadata": {},
   "outputs": [],
   "source": []
  },
  {
   "cell_type": "markdown",
   "metadata": {},
   "source": [
    "### 문제 1.\n",
    "    a = [100,200,300,400,500]\n",
    "    b = [10,20,30]\n",
    "    2개의 리스트가 있습니다.\n",
    "    1) 인덱싱 방법\n",
    "    2) 슬라이싱 방법\n",
    "    3) insert() 함수 사용한 방법으로\n",
    "    \n",
    "    a리스트 값이 최종적으로 아래와 같이 되도록 변경하시오    \n",
    "    100,200,[10,20,30],300,400,500"
   ]
  },
  {
   "cell_type": "code",
   "execution_count": 27,
   "metadata": {},
   "outputs": [],
   "source": [
    "a = [100,200,300,400,500]\n",
    "b = [10,20,30]\n",
    "a.insert(2, b)"
   ]
  },
  {
   "cell_type": "code",
   "execution_count": 29,
   "metadata": {},
   "outputs": [
    {
     "name": "stdout",
     "output_type": "stream",
     "text": [
      "[100, 200, [10, 20, 30], 300, 400, 500]\n",
      "[100, 200, [10, 20, 30], [10, 20, 30], 300, 400, 500]\n"
     ]
    }
   ],
   "source": [
    "a[2] = b\n",
    "print(a)\n",
    "a.insert(2, b)\n",
    "print(a)"
   ]
  },
  {
   "cell_type": "markdown",
   "metadata": {},
   "source": [
    "### 문제 2.\n",
    "test2D = [[1,3],[4,6]] 에서 6만 출력할려면?"
   ]
  },
  {
   "cell_type": "code",
   "execution_count": 30,
   "metadata": {},
   "outputs": [
    {
     "name": "stdout",
     "output_type": "stream",
     "text": [
      "6\n"
     ]
    }
   ],
   "source": [
    "test2D = [[1,3],[4,6]]\n",
    "print(test2D[1][1])"
   ]
  },
  {
   "cell_type": "markdown",
   "metadata": {},
   "source": [
    "### 문제 3.\n",
    "myLang = [['hello','python'], ['good-bye','c']] 에서 good만 출력하세요"
   ]
  },
  {
   "cell_type": "code",
   "execution_count": 33,
   "metadata": {
    "scrolled": true
   },
   "outputs": [
    {
     "name": "stdout",
     "output_type": "stream",
     "text": [
      "good\n"
     ]
    }
   ],
   "source": [
    "myLang = [['hello','python'], ['good-bye','c']]\n",
    "print(myLang[1][0].split('-')[0])"
   ]
  },
  {
   "cell_type": "markdown",
   "metadata": {},
   "source": [
    "### 문제 4.\n",
    "\n",
    "[1,3,5,4,2] 이라는 리스트를 슬라이싱을 이용하여 [2,4,5,3,1]로 출력하세요"
   ]
  },
  {
   "cell_type": "code",
   "execution_count": 83,
   "metadata": {},
   "outputs": [
    {
     "data": {
      "text/plain": [
       "[2, 4, 5, 3, 1]"
      ]
     },
     "execution_count": 83,
     "metadata": {},
     "output_type": "execute_result"
    }
   ],
   "source": [
    "k = [1,3,5,4,2]\n",
    "k[:: -1]"
   ]
  },
  {
   "cell_type": "markdown",
   "metadata": {},
   "source": [
    "### 문제 5\n",
    "['Python','is','too','interesting'] 라는 리스트를 Python is too interesting 이라는 문자열로 출력하세요"
   ]
  },
  {
   "cell_type": "code",
   "execution_count": 79,
   "metadata": {},
   "outputs": [
    {
     "ename": "AttributeError",
     "evalue": "'list' object has no attribute 'split'",
     "output_type": "error",
     "traceback": [
      "\u001b[1;31m---------------------------------------------------------------------------\u001b[0m",
      "\u001b[1;31mAttributeError\u001b[0m                            Traceback (most recent call last)",
      "\u001b[1;32m~\\AppData\\Local\\Temp/ipykernel_10108/153257443.py\u001b[0m in \u001b[0;36m<module>\u001b[1;34m\u001b[0m\n\u001b[0;32m      1\u001b[0m \u001b[0mt\u001b[0m \u001b[1;33m=\u001b[0m \u001b[1;33m[\u001b[0m\u001b[1;34m'Python'\u001b[0m\u001b[1;33m,\u001b[0m\u001b[1;34m'is'\u001b[0m\u001b[1;33m,\u001b[0m\u001b[1;34m'too'\u001b[0m\u001b[1;33m,\u001b[0m\u001b[1;34m'interesting'\u001b[0m\u001b[1;33m]\u001b[0m\u001b[1;33m\u001b[0m\u001b[1;33m\u001b[0m\u001b[0m\n\u001b[0;32m      2\u001b[0m \u001b[1;34m' '\u001b[0m\u001b[1;33m.\u001b[0m\u001b[0mjoin\u001b[0m\u001b[1;33m(\u001b[0m\u001b[0mt\u001b[0m\u001b[1;33m)\u001b[0m\u001b[1;33m\u001b[0m\u001b[1;33m\u001b[0m\u001b[0m\n\u001b[1;32m----> 3\u001b[1;33m \u001b[0mt\u001b[0m\u001b[1;33m.\u001b[0m\u001b[0msplit\u001b[0m\u001b[1;33m(\u001b[0m\u001b[1;34m', '\u001b[0m\u001b[1;33m)\u001b[0m\u001b[1;33m\u001b[0m\u001b[1;33m\u001b[0m\u001b[0m\n\u001b[0m\u001b[0;32m      4\u001b[0m \u001b[0mprint\u001b[0m\u001b[1;33m(\u001b[0m\u001b[0mt\u001b[0m\u001b[1;33m)\u001b[0m\u001b[1;33m\u001b[0m\u001b[1;33m\u001b[0m\u001b[0m\n",
      "\u001b[1;31mAttributeError\u001b[0m: 'list' object has no attribute 'split'"
     ]
    }
   ],
   "source": [
    "t = ['Python','is','too','interesting']\n",
    "' '.join(t)\n",
    "t.split(', ')\n",
    "print(t)"
   ]
  },
  {
   "cell_type": "markdown",
   "metadata": {},
   "source": [
    "### 문제 6. \n",
    "1)  \n",
    "movies 라는 리스트에는 다음과 같은 영화들이 담겨 있습니다.  \n",
    "movies 맨뒤에 엑스맨을 추가하세요  \n",
    "가능한 여러가지 방법을 사용하시기 바랍니다."
   ]
  },
  {
   "cell_type": "code",
   "execution_count": 63,
   "metadata": {},
   "outputs": [
    {
     "name": "stdout",
     "output_type": "stream",
     "text": [
      "['미나리', '경계선', '어벤져스', '학교', '엑스맨']\n"
     ]
    }
   ],
   "source": [
    "movies = ['미나리', '경계선', '어벤져스', '학교']\n",
    "#movies.append('엑스맨')\n",
    "#movies.insert(4, '엑스맨')\n",
    "movies.insert(len(movies), '엑스맨')\n",
    "print(movies)"
   ]
  },
  {
   "cell_type": "markdown",
   "metadata": {},
   "source": [
    "### \n",
    "2)  \n",
    "movies에서 어벤져스를 삭제하세요"
   ]
  },
  {
   "cell_type": "code",
   "execution_count": 64,
   "metadata": {},
   "outputs": [
    {
     "name": "stdout",
     "output_type": "stream",
     "text": [
      "['미나리', '경계선', '학교', '엑스맨']\n"
     ]
    }
   ],
   "source": [
    "#del movies[2]\n",
    "#movies.remove('어벤져스')\n",
    "movies.pop(2)\n",
    "print(movies)"
   ]
  },
  {
   "cell_type": "markdown",
   "metadata": {},
   "source": [
    "### 문제 7.\n",
    "\n",
    "fruits=  ['사과', '바나나','파인애플','배','수박','키위','오렌지','망고','딸기']  \n",
    "위와 같은 과일을 상점에서 팔고 있습니다.  \n",
    "- '파인애플','배','수박'\n",
    "- '망고','딸기'  \n",
    "를 각각 가져오는 코드를 인덱싱과 슬라이싱을 사용해서 작성하세요\n",
    "\n"
   ]
  },
  {
   "cell_type": "code",
   "execution_count": 70,
   "metadata": {},
   "outputs": [
    {
     "name": "stdout",
     "output_type": "stream",
     "text": [
      "['파인애플', '배', '수박'] ['망고', '딸기']\n",
      "['파인애플', '배', '수박'] ['망고', '딸기']\n"
     ]
    }
   ],
   "source": [
    "fruits= ['사과', '바나나','파인애플','배','수박','키위','오렌지','망고','딸기']\n",
    "f1 = [fruits[2], fruits[3], fruits[4]]\n",
    "f2 = [fruits[7], fruits[8]]\n",
    "print(f1, f2)\n",
    "\n",
    "f3 = fruits[2 : 5]\n",
    "f4 = fruits[7 : 9]\n",
    "print(f3, f4)"
   ]
  },
  {
   "cell_type": "markdown",
   "metadata": {},
   "source": [
    "### 문제 8.  \n",
    "\n",
    "다음 코드 실행 후 myList의 값으로 알맞은 것을 고르세요.  \n",
    "myList = [1,2,3,4]  \n",
    "myList.append(5)  \n",
    "myList.insert(-1, 6)  \n",
    "myList.remove(1)  \n",
    "myList.pop(2)  \n"
   ]
  },
  {
   "cell_type": "code",
   "execution_count": null,
   "metadata": {},
   "outputs": [],
   "source": [
    "4"
   ]
  },
  {
   "cell_type": "markdown",
   "metadata": {},
   "source": [
    "### 문제 9.\n",
    "\n",
    "다음 코드의 실행 결과가 아래와 같을 때, 빈 칸에 들어갈 코드로 알맞지 않은 것을 고르세요  \n",
    "\n",
    "myList = [[1,2,3],[4,5],[7,8,9]]  \n",
    "(                 )  \n",
    "print(myList)  \n",
    "\n",
    "**실행 결과** \n",
    "\n",
    "[[1, 2, 3], [4, 5, 6], [7, 8, 9]]\n"
   ]
  },
  {
   "cell_type": "code",
   "execution_count": 74,
   "metadata": {},
   "outputs": [
    {
     "name": "stdout",
     "output_type": "stream",
     "text": [
      "[[1, 2, 3], [4, 5, 6], [7, 8, 9]]\n"
     ]
    }
   ],
   "source": [
    "myList = [[1,2,3],[4,5],[7,8,9]]\n",
    "myList[1].insert(2, 6)\n",
    "print(myList)"
   ]
  }
 ],
 "metadata": {
  "kernelspec": {
   "display_name": "Python 3 (ipykernel)",
   "language": "python",
   "name": "python3"
  },
  "language_info": {
   "codemirror_mode": {
    "name": "ipython",
    "version": 3
   },
   "file_extension": ".py",
   "mimetype": "text/x-python",
   "name": "python",
   "nbconvert_exporter": "python",
   "pygments_lexer": "ipython3",
   "version": "3.9.7"
  }
 },
 "nbformat": 4,
 "nbformat_minor": 4
}
