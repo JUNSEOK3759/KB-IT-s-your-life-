{
 "cells": [
  {
   "cell_type": "markdown",
   "metadata": {},
   "source": [
    "### 자료구조\n",
    "* Sequence Type\n",
    "  - 문자열\n",
    "  - 리스트\n",
    "  - 튜플\n",
    "\n",
    "* 딕셔너리\n",
    "\n",
    "* SET"
   ]
  },
  {
   "cell_type": "markdown",
   "metadata": {},
   "source": [
    "### 1. 딕셔너리 생성하기"
   ]
  },
  {
   "cell_type": "code",
   "execution_count": 1,
   "metadata": {},
   "outputs": [
    {
     "data": {
      "text/plain": [
       "{'a': 111, 'b': 222, 'c': 444}"
      ]
     },
     "execution_count": 1,
     "metadata": {},
     "output_type": "execute_result"
    }
   ],
   "source": [
    "my_dic = dict()\n",
    "my_dic = {}\n",
    "\n",
    "my_dic = {'a' : 111, 'b' : 222, 'c' : 333, 'c' : 444}\n",
    "my_dic"
   ]
  },
  {
   "cell_type": "code",
   "execution_count": 2,
   "metadata": {},
   "outputs": [
    {
     "data": {
      "text/plain": [
       "{'name': 'DRAM', 'capa': '32g', 'maker': 'SK', 'price': 320000}"
      ]
     },
     "execution_count": 2,
     "metadata": {},
     "output_type": "execute_result"
    }
   ],
   "source": [
    "pro_dic = {\n",
    "    \n",
    "        'name' : 'DRAM',\n",
    "        'capa' :  '32g',  \n",
    "        'maker' :  'SK',\n",
    "        'price' : 320000 \n",
    "}\n",
    "pro_dic"
   ]
  },
  {
   "cell_type": "markdown",
   "metadata": {},
   "source": [
    "### 2. 데이터 조회하기\n",
    "\n",
    "1) get(key)  <<-- 인덱스로 관리하지 않기에 key값으로 데이터를 조회해야 한다. 따라서, reverse나 sort같은 것들은 사용 불가능하다.\n",
    "\n",
    "2) [key]\n",
    "\n",
    "**두 가지 방식은 존재하지 않는 키를 입력했을 때  \n",
    "서로 다른 결과를 출력한다.**\n",
    "\n",
    "1) get(key)은 존재하지 않는 키를 입력했을 때, None 출력한다.  \n",
    "2) [key]는 존재하지 않는 키를 입력했을 때, Key Error 출력한다."
   ]
  },
  {
   "cell_type": "code",
   "execution_count": 3,
   "metadata": {},
   "outputs": [
    {
     "name": "stdout",
     "output_type": "stream",
     "text": [
      "None\n",
      "DRAM\n"
     ]
    }
   ],
   "source": [
    "print(pro_dic.get('ssn'))\n",
    "#print(pro_dic['ssn'])\n",
    "print(pro_dic.get('name'))"
   ]
  },
  {
   "cell_type": "code",
   "execution_count": 4,
   "metadata": {},
   "outputs": [
    {
     "data": {
      "text/plain": [
       "False"
      ]
     },
     "execution_count": 4,
     "metadata": {},
     "output_type": "execute_result"
    }
   ],
   "source": [
    "## key 값 유무를 확인 .. in\n",
    "'maker' in pro_dic\n",
    "'price' in pro_dic\n",
    "'ssn' in pro_dic"
   ]
  },
  {
   "cell_type": "markdown",
   "metadata": {},
   "source": [
    "### 3. 값 추가하기\n",
    "\n",
    "키값은 숫자, 문자 다 가능"
   ]
  },
  {
   "cell_type": "code",
   "execution_count": 5,
   "metadata": {},
   "outputs": [
    {
     "name": "stdout",
     "output_type": "stream",
     "text": [
      "{'name': 'DRAM', 'capa': '32g', 'maker': 'SK', 'price': 320000, 1: 11}\n"
     ]
    }
   ],
   "source": [
    "#하나의 값을 추가\n",
    "pro_dic[1] = 11   #<<-- insert와 같다. 1이라는 key, 11 value가 추가\n",
    "print(pro_dic)"
   ]
  },
  {
   "cell_type": "code",
   "execution_count": 6,
   "metadata": {},
   "outputs": [
    {
     "name": "stdout",
     "output_type": "stream",
     "text": [
      "{'name': 'DRAM', 'capa': '32g', 'maker': 'SK', 'price': 320000, 1: 11, 'loc': '이천', 'pop': 33}\n"
     ]
    }
   ],
   "source": [
    "# 여러 개의 값을 한 번에 추가하기... update() 사용\n",
    "\n",
    "add_info = {'loc' :'이천', 'pop' : 33}\n",
    "\n",
    "pro_dic.update(add_info)\n",
    "\n",
    "print(pro_dic)\n",
    "\n",
    "#pop이 충돌되지 않는 이유는 문자취급되어서 들어가있기 때문이다."
   ]
  },
  {
   "cell_type": "markdown",
   "metadata": {},
   "source": [
    "###  4. 데이터 수정하기"
   ]
  },
  {
   "cell_type": "code",
   "execution_count": 7,
   "metadata": {},
   "outputs": [
    {
     "data": {
      "text/plain": [
       "{'name': 'DRAM',\n",
       " 'capa': '32g',\n",
       " 'maker': 'SK',\n",
       " 'price': 230000,\n",
       " 1: 11,\n",
       " 'loc': '이천',\n",
       " 'pop': 33}"
      ]
     },
     "execution_count": 7,
     "metadata": {},
     "output_type": "execute_result"
    }
   ],
   "source": [
    "#있는 키를 쓰면 수정이 되고, 없는 키를 넣으면 추가가 된다.\n",
    "pro_dic['price'] = 230000\n",
    "pro_dic"
   ]
  },
  {
   "cell_type": "markdown",
   "metadata": {},
   "source": [
    "###  5. 데이터 삭제하기\n",
    "\n",
    "del     \n",
    "pop()  \n",
    "remove() --- X  \n",
    "\n",
    "del과 pop에 원래 들어가는 인덱스를 키값으로 한다. 그러나 밸류값으로는 컨트롤하지 않기 때문에 인덱스가 아닌 값으로 컨트롤하던 remove는 사용하지 않는다.\n",
    "\n",
    "clear() "
   ]
  },
  {
   "cell_type": "code",
   "execution_count": 8,
   "metadata": {},
   "outputs": [
    {
     "data": {
      "text/plain": [
       "{'name': 'DRAM',\n",
       " 'capa': '32g',\n",
       " 'maker': 'SK',\n",
       " 'price': 230000,\n",
       " 'loc': '이천',\n",
       " 'pop': 33}"
      ]
     },
     "execution_count": 8,
     "metadata": {},
     "output_type": "execute_result"
    }
   ],
   "source": [
    "del pro_dic[1]\n",
    "pro_dic"
   ]
  },
  {
   "cell_type": "code",
   "execution_count": 9,
   "metadata": {},
   "outputs": [
    {
     "data": {
      "text/plain": [
       "{'name': 'DRAM', 'capa': '32g', 'maker': 'SK', 'price': 230000, 'loc': '이천'}"
      ]
     },
     "execution_count": 9,
     "metadata": {},
     "output_type": "execute_result"
    }
   ],
   "source": [
    "pro_dic.pop('pop')\n",
    "pro_dic"
   ]
  },
  {
   "cell_type": "markdown",
   "metadata": {},
   "source": [
    "### 6. 그외 딕셔너리 함수 사용하기\n",
    "\n",
    "*keys()  \n",
    "*values()  \n",
    "*items()"
   ]
  },
  {
   "cell_type": "code",
   "execution_count": 10,
   "metadata": {},
   "outputs": [
    {
     "data": {
      "text/plain": [
       "{'name': 'James', 'age': 34, 'address': 'Texas', 'phone': '123456'}"
      ]
     },
     "execution_count": 10,
     "metadata": {},
     "output_type": "execute_result"
    }
   ],
   "source": [
    "my_dic = {'name' : 'James', 'age' : 34, 'address' : 'Texas',\n",
    "         'phone' : '123456'}\n",
    "\n",
    "my_dic"
   ]
  },
  {
   "cell_type": "code",
   "execution_count": 11,
   "metadata": {},
   "outputs": [
    {
     "name": "stdout",
     "output_type": "stream",
     "text": [
      "<class 'dict_keys'>\n"
     ]
    },
    {
     "data": {
      "text/plain": [
       "['address', 'age', 'name', 'phone']"
      ]
     },
     "execution_count": 11,
     "metadata": {},
     "output_type": "execute_result"
    }
   ],
   "source": [
    "my_keys = my_dic.keys() # dict_keys객체가 리턴된다.\n",
    "print(type(my_keys))\n",
    "\n",
    "#키들의 목록을 리턴받고 싶다.\n",
    "\n",
    "my_list = list(my_keys)\n",
    "my_list\n",
    "\n",
    "# my_keys.sort() 인덱스 메커니즘이 아니기 때문에 사용 불가\n",
    "\n",
    "my_list.sort()\n",
    "my_list\n",
    "\n",
    "#따라서, 리스트로 바꾼 후 sort를 사용한다."
   ]
  },
  {
   "cell_type": "code",
   "execution_count": 12,
   "metadata": {},
   "outputs": [
    {
     "name": "stdout",
     "output_type": "stream",
     "text": [
      "dict_values(['James', 34, 'Texas', '123456'])\n"
     ]
    }
   ],
   "source": [
    "print(my_dic.values())\n"
   ]
  },
  {
   "cell_type": "code",
   "execution_count": 13,
   "metadata": {},
   "outputs": [
    {
     "data": {
      "text/plain": [
       "['James', 34, 'Texas', '123456']"
      ]
     },
     "execution_count": 13,
     "metadata": {},
     "output_type": "execute_result"
    }
   ],
   "source": [
    "my_values = my_dic.values()\n",
    "\n",
    "my_list1 = list(my_values)\n",
    "my_list1"
   ]
  },
  {
   "cell_type": "code",
   "execution_count": 18,
   "metadata": {},
   "outputs": [
    {
     "name": "stdout",
     "output_type": "stream",
     "text": [
      "<class 'dict_items'>\n",
      "dict_items([('name', 'James'), ('age', 34), ('address', 'Texas'), ('phone', '123456')])\n",
      "[('name', 'James'), ('age', 34), ('address', 'Texas'), ('phone', '123456')]\n"
     ]
    }
   ],
   "source": [
    "# items는 dict_items 객체 안에서 튜플형식으로 나온다.\n",
    "my_items = my_dic.items()\n",
    "print(type(my_items))\n",
    "print(my_items)\n",
    "my_list1 = list(my_items) # 리스트 안에 튜플 형식으로 저장되어 있다.\n",
    "print(my_list1)"
   ]
  },
  {
   "cell_type": "markdown",
   "metadata": {},
   "source": [
    "### for in 구문"
   ]
  },
  {
   "cell_type": "code",
   "execution_count": 27,
   "metadata": {},
   "outputs": [
    {
     "name": "stdout",
     "output_type": "stream",
     "text": [
      "name\n",
      "age\n",
      "address\n",
      "phone\n",
      "========================================\n",
      "James\n",
      "34\n",
      "Texas\n",
      "123456\n",
      "========================================\n"
     ]
    },
    {
     "data": {
      "text/plain": [
       "False"
      ]
     },
     "execution_count": 27,
     "metadata": {},
     "output_type": "execute_result"
    }
   ],
   "source": [
    "#key들의 목록만 출력...\n",
    "for k in my_dic.keys():\n",
    "    print(k)\n",
    "    \n",
    "print('==' * 20)\n",
    "\n",
    "for v in my_dic.values():\n",
    "    print(v)\n",
    "print('==' * 20)\n",
    "'name' in my_dic.keys()\n",
    "35 in my_dic.values()"
   ]
  },
  {
   "cell_type": "code",
   "execution_count": 29,
   "metadata": {},
   "outputs": [
    {
     "data": {
      "text/plain": [
       "{'name': 'James', 'age': 34, 'address': 'Texas', 'phone': '123456'}"
      ]
     },
     "execution_count": 29,
     "metadata": {},
     "output_type": "execute_result"
    }
   ],
   "source": [
    "my_dic = { 'name': 'James', 'age':34, 'address':'Texas', 'phone':'123456'}\n",
    "my_dic\n"
   ]
  },
  {
   "cell_type": "code",
   "execution_count": 30,
   "metadata": {},
   "outputs": [],
   "source": [
    "## items()는 위와 같이 사용되지 않는다."
   ]
  },
  {
   "cell_type": "code",
   "execution_count": 35,
   "metadata": {},
   "outputs": [
    {
     "data": {
      "text/plain": [
       "'phone'"
      ]
     },
     "execution_count": 35,
     "metadata": {},
     "output_type": "execute_result"
    }
   ],
   "source": [
    "list(my_dic.items())[3][0]"
   ]
  },
  {
   "cell_type": "markdown",
   "metadata": {},
   "source": [
    "### 딕셔너리에서 주의할 점\n",
    "\n",
    "1) 키값은 변경 불가하다(key값은 수정의 대상이 아니다.).  \n",
    "2) 키값은 중복이 되지 않는다(중복이 일어나면 마지막 값으로 덮어쓰기).  \n",
    "3) 키값은 리스트 사용 못함. 튜플은 사용 가능  \n",
    "4) key-value : get(), [key]"
   ]
  },
  {
   "cell_type": "code",
   "execution_count": 38,
   "metadata": {},
   "outputs": [
    {
     "ename": "TypeError",
     "evalue": "unhashable type: 'list'",
     "output_type": "error",
     "traceback": [
      "\u001b[1;31m---------------------------------------------------------------------------\u001b[0m",
      "\u001b[1;31mTypeError\u001b[0m                                 Traceback (most recent call last)",
      "\u001b[1;32m~\\AppData\\Local\\Temp/ipykernel_11976/1958722035.py\u001b[0m in \u001b[0;36m<module>\u001b[1;34m\u001b[0m\n\u001b[1;32m----> 1\u001b[1;33m \u001b[0ma\u001b[0m \u001b[1;33m=\u001b[0m \u001b[1;33m{\u001b[0m\u001b[1;33m[\u001b[0m\u001b[1;36m1\u001b[0m\u001b[1;33m,\u001b[0m \u001b[1;36m2\u001b[0m\u001b[1;33m,\u001b[0m \u001b[1;36m3\u001b[0m\u001b[1;33m]\u001b[0m \u001b[1;33m:\u001b[0m \u001b[1;34m'hi'\u001b[0m \u001b[1;33m}\u001b[0m\u001b[1;33m\u001b[0m\u001b[1;33m\u001b[0m\u001b[0m\n\u001b[0m\u001b[0;32m      2\u001b[0m \u001b[0ma\u001b[0m\u001b[1;33m\u001b[0m\u001b[1;33m\u001b[0m\u001b[0m\n",
      "\u001b[1;31mTypeError\u001b[0m: unhashable type: 'list'"
     ]
    }
   ],
   "source": [
    "a = {[1, 2, 3] : 'hi' }\n",
    "a"
   ]
  },
  {
   "cell_type": "code",
   "execution_count": 40,
   "metadata": {},
   "outputs": [
    {
     "data": {
      "text/plain": [
       "{(1, 2, 3): 'hi'}"
      ]
     },
     "execution_count": 40,
     "metadata": {},
     "output_type": "execute_result"
    }
   ],
   "source": [
    "# key는 변할 수 없는 존재라는 것을 통해 리스트는 되지 않고,\n",
    "# 튜플은 된다고 알 수 있다.\n",
    "\n",
    "b = {(1, 2, 3) : 'hi' }\n",
    "b"
   ]
  },
  {
   "cell_type": "code",
   "execution_count": 46,
   "metadata": {},
   "outputs": [
    {
     "ename": "NameError",
     "evalue": "name 'name' is not defined",
     "output_type": "error",
     "traceback": [
      "\u001b[1;31m---------------------------------------------------------------------------\u001b[0m",
      "\u001b[1;31mNameError\u001b[0m                                 Traceback (most recent call last)",
      "\u001b[1;32m~\\AppData\\Local\\Temp/ipykernel_11976/232975708.py\u001b[0m in \u001b[0;36m<module>\u001b[1;34m\u001b[0m\n\u001b[0;32m      1\u001b[0m dic_key = {\n\u001b[0;32m      2\u001b[0m \u001b[1;33m\u001b[0m\u001b[0m\n\u001b[1;32m----> 3\u001b[1;33m     \u001b[0mname\u001b[0m \u001b[1;33m:\u001b[0m \u001b[1;34m'건조망고'\u001b[0m\u001b[1;33m,\u001b[0m\u001b[1;33m\u001b[0m\u001b[1;33m\u001b[0m\u001b[0m\n\u001b[0m\u001b[0;32m      4\u001b[0m     \u001b[0mtype\u001b[0m \u001b[1;33m:\u001b[0m \u001b[1;34m'스낵류'\u001b[0m\u001b[1;33m\u001b[0m\u001b[1;33m\u001b[0m\u001b[0m\n\u001b[0;32m      5\u001b[0m \u001b[1;33m\u001b[0m\u001b[0m\n",
      "\u001b[1;31mNameError\u001b[0m: name 'name' is not defined"
     ]
    }
   ],
   "source": [
    "dic_key = {\n",
    "    \n",
    "    name : '건조망고',\n",
    "    type : '스낵류'\n",
    "    \n",
    "}\n",
    "dic_keys"
   ]
  },
  {
   "cell_type": "markdown",
   "metadata": {},
   "source": [
    "**해결책1**"
   ]
  },
  {
   "cell_type": "code",
   "execution_count": 48,
   "metadata": {},
   "outputs": [
    {
     "data": {
      "text/plain": [
       "{'name': '건조망고', 'type': '스낵류'}"
      ]
     },
     "execution_count": 48,
     "metadata": {},
     "output_type": "execute_result"
    }
   ],
   "source": [
    "dic_key1 = {\n",
    "    \n",
    "    'name' : '건조망고',\n",
    "    'type' : '스낵류'   \n",
    "}\n",
    "dic_key1"
   ]
  },
  {
   "cell_type": "markdown",
   "metadata": {},
   "source": [
    "***해결책2***"
   ]
  },
  {
   "cell_type": "code",
   "execution_count": 50,
   "metadata": {},
   "outputs": [
    {
     "data": {
      "text/plain": [
       "{'상품명': '건조망고', '상품타입': '스낵류'}"
      ]
     },
     "execution_count": 50,
     "metadata": {},
     "output_type": "execute_result"
    }
   ],
   "source": [
    "name = '상품명'\n",
    "type = '상품타입'\n",
    "dic_key2 = {\n",
    "    \n",
    "    name : '건조망고',\n",
    "    type : '스낵류'   \n",
    "}\n",
    "dic_key2"
   ]
  },
  {
   "cell_type": "markdown",
   "metadata": {},
   "source": [
    "### 문제 1\n",
    "\n",
    "a = {'python':90, 'Django':80, 'java':85}  \n",
    "딕셔너리 a가 위와 같은 값을 가집니다.\n",
    "\n",
    "하나의 함수 사용으로 아래처럼 결과가 출력되도록 작성하세요  \n",
    "80  \n",
    "{'python' : 90, 'java':85}  "
   ]
  },
  {
   "cell_type": "code",
   "execution_count": 15,
   "metadata": {},
   "outputs": [
    {
     "name": "stdout",
     "output_type": "stream",
     "text": [
      "80\n",
      "{'python': 90, 'java': 85}\n"
     ]
    }
   ],
   "source": [
    "a = {'python':90, 'Django':80, 'java':85}\n",
    "print(a.pop('Django'))\n",
    "print(a)"
   ]
  },
  {
   "cell_type": "markdown",
   "metadata": {},
   "source": [
    "### 문제 2.\n",
    "\n",
    "1)\n",
    "snack_info 라는 딕셔너리를 작성합니다  \n",
    "상품이름, 상품타입, 상품을 구성하고 있는 재료, 원산지에 해당하는  \n",
    "키정보와 값정보를 잘 매핑하여 생성합니다.  \n",
    "\n",
    "2)  \n",
    "원산지 정보를 변경합니다.  \n",
    "\n",
    "3)  \n",
    "상품을 구성하고 있는 재료중 2번째 재료의 정보를 변경합니다.  \n",
    "\n",
    "4)  \n",
    "작성한 딕셔너리의 정보를 출력합니다.  \n",
    "이때 \n",
    "키1 :: 값1  \n",
    "키2 :: 값2\n",
    "키3 :: 값3  \n",
    "형식으로 출력되도록 합니다."
   ]
  },
  {
   "cell_type": "code",
   "execution_count": 53,
   "metadata": {},
   "outputs": [
    {
     "data": {
      "text/plain": [
       "{'상품이름': '썬칩', '상품타입': '칩류', '재료': ['사과', '바나나'], '원산지': '갈라파고스'}"
      ]
     },
     "execution_count": 53,
     "metadata": {},
     "output_type": "execute_result"
    }
   ],
   "source": [
    "snack_info = {\n",
    "    '상품이름' : '썬칩',\n",
    "    '상품타입' : '칩류',\n",
    "    '재료' : ['사과', '딸기'],\n",
    "    '원산지' : '파푸아뉴기니'\n",
    "}\n",
    "\n",
    "snack_info['원산지'] = '갈라파고스'\n",
    "snack_info['재료'][1] = '바나나'\n",
    "snack_info\n"
   ]
  },
  {
   "cell_type": "code",
   "execution_count": 56,
   "metadata": {},
   "outputs": [
    {
     "name": "stdout",
     "output_type": "stream",
     "text": [
      "상품이름 :: 썬칩\n",
      "상품타입 :: 칩류\n",
      "재료 :: ['사과', '바나나']\n",
      "원산지 :: 갈라파고스\n"
     ]
    }
   ],
   "source": [
    "# for in 구조로 출력\n",
    "\n",
    "for k in snack_info.items():\n",
    "    print(k[0], \"::\", k[1])"
   ]
  },
  {
   "cell_type": "code",
   "execution_count": 57,
   "metadata": {},
   "outputs": [
    {
     "name": "stdout",
     "output_type": "stream",
     "text": [
      "상품이름 :: 썬칩\n",
      "상품타입 :: 칩류\n",
      "재료 :: ['사과', '바나나']\n",
      "원산지 :: 갈라파고스\n"
     ]
    }
   ],
   "source": [
    "for k in snack_info.keys():\n",
    "    print(k, \"::\", snack_info[k])"
   ]
  },
  {
   "cell_type": "markdown",
   "metadata": {},
   "source": [
    "### 문제 3. \n",
    "\n",
    "아래와 같은 사전 menu에서 값이 10000 이하인 key 값을 출력할 때,   \n",
    "(가), (나)에 들어갈 알맞은 코드를 직접 작성해서 완성하세요. (들여쓰기는 생략되어져 있습니다.)  \n",
    "\n",
    "\n",
    "menu = {'아메리카노' : 4000, '라떼' : 5000, '스콘' : 3000, '치즈케이크' : 27000}  \n",
    "for item in menu.items() :  \n",
    " if ( (가) ) <= 10000 :   \n",
    " print( (나) )  \n",
    " \n",
    "**실행 결과**  \n",
    "\n",
    "아메리카노  \n",
    "라떼  \n",
    "스콘"
   ]
  },
  {
   "cell_type": "code",
   "execution_count": 22,
   "metadata": {},
   "outputs": [
    {
     "name": "stdout",
     "output_type": "stream",
     "text": [
      "아메리카노\n",
      "라떼\n",
      "스콘\n"
     ]
    }
   ],
   "source": [
    "menu = {'아메리카노' : 4000, '라떼' : 5000, '스콘' : 3000,\n",
    "        '치즈케이크' : 27000}\n",
    "for item in menu.items() :\n",
    "    if (item[1]) <= 10000 :\n",
    "        print(item[0])"
   ]
  },
  {
   "cell_type": "markdown",
   "metadata": {},
   "source": [
    "### 문제 4.\n",
    "\n",
    "각 학생들의 중간, 기말고사 점수가 아래와 같이 scores 리스트에 저장되어 있습니다.  \n",
    "scores 리스트에서 학생의 이름을 key, 두 점수 정보를 value로 하는 사전을 생성할 때,  \n",
    "(가), (나)에 들어갈 알맞은 코드를 직접 작성하세요.  \n",
    "(들여쓰기는 생략했습니다.)  \n",
    "\n",
    "\n",
    "scores = [['Kim', 90, 100], ['Park', 75, 70], ['Choi', 80, 80]]  \n",
    "score_dict = dict()  \n",
    "for score in scores :  \n",
    " score_dict[ (가) ] = ( (나) )   \n",
    " \n",
    "print(score_dict)\n",
    "\n",
    "**실행 결과**  \n",
    "\n",
    "{'Kim': [90, 100], 'Park': [75, 70], 'Choi': [80, 80]}  \n",
    "\n",
    "\n"
   ]
  },
  {
   "cell_type": "code",
   "execution_count": 65,
   "metadata": {},
   "outputs": [
    {
     "name": "stdout",
     "output_type": "stream",
     "text": [
      "{'Kim': [90, 100], 'Park': [75, 70], 'Choi': [80, 80]}\n"
     ]
    }
   ],
   "source": [
    "scores = [['Kim', 90, 100], ['Park', 75, 70], ['Choi', 80, 80]]\n",
    "score_dict = dict()\n",
    "for score in scores :\n",
    "    score_dict[score[0]] = score[1:]\n",
    "\n",
    "print(score_dict)"
   ]
  },
  {
   "cell_type": "code",
   "execution_count": null,
   "metadata": {},
   "outputs": [],
   "source": []
  }
 ],
 "metadata": {
  "kernelspec": {
   "display_name": "Python 3 (ipykernel)",
   "language": "python",
   "name": "python3"
  },
  "language_info": {
   "codemirror_mode": {
    "name": "ipython",
    "version": 3
   },
   "file_extension": ".py",
   "mimetype": "text/x-python",
   "name": "python",
   "nbconvert_exporter": "python",
   "pygments_lexer": "ipython3",
   "version": "3.9.7"
  }
 },
 "nbformat": 4,
 "nbformat_minor": 4
}
