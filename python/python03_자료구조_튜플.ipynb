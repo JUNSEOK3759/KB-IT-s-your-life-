{
 "cells": [
  {
   "cell_type": "markdown",
   "metadata": {},
   "source": [
    "### 자료구조\n",
    "* Sequence Type\n",
    "  - 문자열\n",
    "  - 리스트\n",
    "  - 튜플\n",
    "* Set\n",
    "* 딕셔너리"
   ]
  },
  {
   "cell_type": "markdown",
   "metadata": {},
   "source": [
    "### 튜플(Tuple) \n",
    "**데이타 조작이 불가능  Immutable**  \n",
    "\n",
    "튜플은 몇가지 점을 제외하곤 거의 리스트와 비슷\n",
    "다른점은\n",
    "- 리스트는 [ ] 으로 값을 둘러싸지만 튜플은 ( )를 사용한다.\n",
    "- 리스트는 값을 추가, 삭제, 수정..즉 변경이 가능하지만\n",
    "  튜플은 한번 생성된 값을 수정, 추가, 삭제 같은 변경을 할 수 없다.\n",
    "- 읽기전용 타입이다  \n",
    "- 만약에 튜플로 만들어진 값을 조작하고싶다면\n",
    "  리스트로 형을 변환시킨 다음에 변경할 수 있다. list(tuple)\n"
   ]
  },
  {
   "cell_type": "markdown",
   "metadata": {},
   "source": [
    "### 1. 튜플 생성하기"
   ]
  },
  {
   "cell_type": "code",
   "execution_count": 2,
   "metadata": {},
   "outputs": [
    {
     "data": {
      "text/plain": [
       "(1, 2, 3)"
      ]
     },
     "execution_count": 2,
     "metadata": {},
     "output_type": "execute_result"
    }
   ],
   "source": [
    "tu = ()\n",
    "tu = (1, 2, 3, 4, 5)\n",
    "tu = (1, 2, 'hello', 4, 5)\n",
    "tu\n",
    "\n",
    "#아래 3가지 경우는 많이 사용하는 경우는 아니다.\n",
    "tu1 = tuple()\n",
    "tu1 = tuple([1, 2, 3])\n",
    "tu1 = tuple((1, 2, 3))\n",
    "tu1"
   ]
  },
  {
   "cell_type": "code",
   "execution_count": 5,
   "metadata": {},
   "outputs": [
    {
     "name": "stdout",
     "output_type": "stream",
     "text": [
      "1\n",
      "(1,)\n",
      "<class 'int'>\n",
      "<class 'tuple'>\n"
     ]
    }
   ],
   "source": [
    "'''\n",
    "값이 하나일 때는 뒤에 콤마를 찍어줘야 튜플이 된다.\n",
    "'''\n",
    "t1 = (1)     # 튜플 x\n",
    "t2 = (1,)    # 튜플 o\n",
    "print(t1)\n",
    "print(t2)\n",
    "print(type(t1))\n",
    "print(type(t2))"
   ]
  },
  {
   "cell_type": "code",
   "execution_count": 7,
   "metadata": {},
   "outputs": [
    {
     "name": "stdout",
     "output_type": "stream",
     "text": [
      "<class 'tuple'>\n",
      "<class 'tuple'>\n"
     ]
    }
   ],
   "source": [
    "t3 = 3, 4, 5\n",
    "print(type(t3))\n",
    "\n",
    "t3 = (3, 4, 5)\n",
    "print(type(t3))"
   ]
  },
  {
   "cell_type": "code",
   "execution_count": 10,
   "metadata": {},
   "outputs": [
    {
     "name": "stdout",
     "output_type": "stream",
     "text": [
      "3\n",
      "3\n",
      "******************************\n",
      "튜플 64\n",
      "튜플 120\n"
     ]
    }
   ],
   "source": [
    "my_t = 1, 2, 3\n",
    "my_list = [1, 2, 3]\n",
    "\n",
    "print(len(my_t))\n",
    "print(len(my_list))\n",
    "\n",
    "print(\"*\" * 30)\n",
    "\n",
    "import sys\n",
    "print('튜플', sys.getsizeof(my_t))\n",
    "print('튜플', sys.getsizeof(my_list))"
   ]
  },
  {
   "cell_type": "markdown",
   "metadata": {},
   "source": [
    "### 2. 튜플값 조작 :: 수정, 추가, 삭제 안된다"
   ]
  },
  {
   "cell_type": "code",
   "execution_count": 13,
   "metadata": {},
   "outputs": [
    {
     "ename": "TypeError",
     "evalue": "'tuple' object doesn't support item deletion",
     "output_type": "error",
     "traceback": [
      "\u001b[1;31m---------------------------------------------------------------------------\u001b[0m",
      "\u001b[1;31mTypeError\u001b[0m                                 Traceback (most recent call last)",
      "\u001b[1;32m~\\AppData\\Local\\Temp/ipykernel_10912/1725073745.py\u001b[0m in \u001b[0;36m<module>\u001b[1;34m\u001b[0m\n\u001b[0;32m      1\u001b[0m \u001b[1;31m# my_t[1] = 77 <<-- 수정 안된다.\u001b[0m\u001b[1;33m\u001b[0m\u001b[1;33m\u001b[0m\u001b[0m\n\u001b[1;32m----> 2\u001b[1;33m \u001b[1;32mdel\u001b[0m \u001b[0mmy_t\u001b[0m\u001b[1;33m[\u001b[0m\u001b[1;36m0\u001b[0m\u001b[1;33m]\u001b[0m\u001b[1;33m\u001b[0m\u001b[1;33m\u001b[0m\u001b[0m\n\u001b[0m",
      "\u001b[1;31mTypeError\u001b[0m: 'tuple' object doesn't support item deletion"
     ]
    }
   ],
   "source": [
    "# my_t[1] = 77 <<-- 수정 안된다.\n",
    "# del my_t[0]  <<-- 삭제 안된다."
   ]
  },
  {
   "cell_type": "markdown",
   "metadata": {},
   "source": [
    "## 3. 튜플은 값 조회만 가능하다."
   ]
  },
  {
   "cell_type": "markdown",
   "metadata": {},
   "source": [
    "### 4. 리스트를 튜플로 변경하기\n",
    "\n",
    "**tuple()함수를 사용**"
   ]
  },
  {
   "cell_type": "code",
   "execution_count": 18,
   "metadata": {
    "scrolled": true
   },
   "outputs": [
    {
     "name": "stdout",
     "output_type": "stream",
     "text": [
      "('사과', '바나나', '망고', '포도')\n",
      "******************************\n",
      "['사과', '바나나', '망고', '포도']\n",
      "['포도', '바나나', '망고', '포도']\n"
     ]
    }
   ],
   "source": [
    "fruits = ['사과', '바나나', '망고', '포도']\n",
    "fruits_t = tuple(fruits)\n",
    "print(fruits_t)\n",
    "\n",
    "print(\"*\" * 30)\n",
    "#튜플을 다시 리스트로 변경\n",
    "fruits_l = list(fruits_t)\n",
    "print(fruits_l)\n",
    "\n",
    "fruits_l[0] = '포도'\n",
    "print(fruits_l)"
   ]
  },
  {
   "cell_type": "markdown",
   "metadata": {},
   "source": [
    "### 튜플 연산 : 더하기, 곱하기 "
   ]
  },
  {
   "cell_type": "code",
   "execution_count": 19,
   "metadata": {},
   "outputs": [
    {
     "data": {
      "text/plain": [
       "(1, 2, 3, 4, 5, 6)"
      ]
     },
     "execution_count": 19,
     "metadata": {},
     "output_type": "execute_result"
    }
   ],
   "source": [
    "a = (1, 2, 3)\n",
    "b = (4, 5, 6)\n",
    "\n",
    "a + b"
   ]
  },
  {
   "cell_type": "code",
   "execution_count": 20,
   "metadata": {},
   "outputs": [
    {
     "data": {
      "text/plain": [
       "(1, 2, 3)"
      ]
     },
     "execution_count": 20,
     "metadata": {},
     "output_type": "execute_result"
    }
   ],
   "source": [
    "a"
   ]
  },
  {
   "cell_type": "code",
   "execution_count": null,
   "metadata": {},
   "outputs": [],
   "source": []
  },
  {
   "cell_type": "code",
   "execution_count": null,
   "metadata": {},
   "outputs": [],
   "source": []
  },
  {
   "cell_type": "code",
   "execution_count": null,
   "metadata": {},
   "outputs": [],
   "source": []
  },
  {
   "cell_type": "code",
   "execution_count": null,
   "metadata": {},
   "outputs": [],
   "source": []
  }
 ],
 "metadata": {
  "kernelspec": {
   "display_name": "Python 3 (ipykernel)",
   "language": "python",
   "name": "python3"
  },
  "language_info": {
   "codemirror_mode": {
    "name": "ipython",
    "version": 3
   },
   "file_extension": ".py",
   "mimetype": "text/x-python",
   "name": "python",
   "nbconvert_exporter": "python",
   "pygments_lexer": "ipython3",
   "version": "3.9.7"
  }
 },
 "nbformat": 4,
 "nbformat_minor": 4
}
