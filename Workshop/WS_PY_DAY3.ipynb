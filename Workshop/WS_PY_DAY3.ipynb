{
 "cells": [
  {
   "cell_type": "markdown",
   "metadata": {},
   "source": [
    "### Q1. 넒이 계산기\n",
    "- 도형의 모양과 정보를 입력받아 넓이를 출력하는 함수를 작성하세요.\n",
    "- 매개변수 : width = 0, height = 0, radius = 0, pi = 3.14, shape = '' (모두 디폴트 매개변수로 설정)\n",
    "- shape가 'circle' 이면 원의 넓이, 'triangle' 이면 삼각형의 넓이, 'rectangle' 이면 사각형의 넓이를 출력하세요."
   ]
  },
  {
   "cell_type": "code",
   "execution_count": 1,
   "metadata": {},
   "outputs": [
    {
     "name": "stdout",
     "output_type": "stream",
     "text": [
      "200\n",
      "100.0\n",
      "314.0\n",
      "314.1592\n"
     ]
    }
   ],
   "source": [
    "# width 10, height 20 인 직사각형의 넓이를 구하세요.\n",
    "width = 0\n",
    "height = 0\n",
    "radius = 0 \n",
    "pi = 3.14\n",
    "def rectangle1(width, height):\n",
    "    return width * height\n",
    "\n",
    "print(rectangle1(10, 20))\n",
    "\n",
    "# width 10, height 20 인 삼각형의 넓이를 구하세요.\n",
    "def triangle1(width, height):\n",
    "    return (width * height) / 2\n",
    "print(triangle1(10, 20))\n",
    "# radius 10 인 원의 넓이를 구하세요.\n",
    "def circle1(radius):\n",
    "    return pi * radius * radius\n",
    "print(circle1(10))\n",
    "\n",
    "# radius 10, pi 3.141592 인 원의 넓이를 구하세요.\n",
    "pi = 3.141592\n",
    "print(circle1(10))"
   ]
  },
  {
   "cell_type": "markdown",
   "metadata": {},
   "source": [
    "### Q2. 학점 계산기\n",
    "\n",
    "- 학점을 입력받아서 학점을 평균을 구하는 함수를 구하세요\n",
    "        - 함수 이름은 mean_grade(values)로 합니다.\n",
    "    \n",
    "- 등급에 따른 학점은 다움과 같습니다  \n",
    "        - A+ : 4.5  A: 4.3  A- : 4.0\n",
    "        - B+ : 3.5  B: 3.3  B- : 3.0\n",
    "        - C  : 2.5  D :1.5\n",
    "        \n",
    "- 학점을 입력받아 함수의 인자(values)로 전달하세요\n",
    "        - 예) A+, A-, B+ 을 입력한 경우  \n",
    "           평균  4.0\n",
    "\n",
    "- mean_grade() 함수 이외에 다른 기능의 함수를 하나 더 추가하고  \n",
    "  모듈을 지정합니다.  \n",
    "  실행 모듈에서 특정 모듈의 함수를 import 해오는 부분까지 다 연결하세요"
   ]
  },
  {
   "cell_type": "code",
   "execution_count": 1,
   "metadata": {},
   "outputs": [],
   "source": [
    "from gradecal import num_input, mean_grade"
   ]
  },
  {
   "cell_type": "code",
   "execution_count": 2,
   "metadata": {},
   "outputs": [
    {
     "name": "stdout",
     "output_type": "stream",
     "text": [
      "성적 입력 : A+, A-, B+\n",
      "['A+', 'A-', 'B+']\n",
      "A+\n",
      "A-\n",
      "B+\n",
      "4.0\n"
     ]
    }
   ],
   "source": [
    "values = num_input()\n",
    "print(mean_grade(values))"
   ]
  },
  {
   "cell_type": "markdown",
   "metadata": {},
   "source": [
    "### Q3. 인형 옮기기\n",
    "- 인형 뽑기 기계를 이용하여 인형의 위치를 한 곳에서 다른 한 곳으로 옮길 수 있습니다.\n",
    "- 인형은 중력의 영향을 받아 아래로 떨어지며, 인형을 집을 때는 해당 위치의 가장 위에 있는 인형만 선택 가능합니다.\n",
    "- 위아래로 있는 인형의 종류가 같다면 뽑기에 성공하여 빈 공간으로 채워집니다.\n",
    "- 인형의 배열은 2차원 리스트로 이루어져 있으며 0은 빈 공간, 1, 2, 3은 인형의 종류를 의미합니다.\n",
    "- start 위치에서 end 위치로 인형을 옮기는 함수를 작성하세요.\n",
    "    - 매개변수 : start(출발), end(도착)\n",
    "    - start 위치의 맨 위 인형의 종류와 end 위치의 맨 위 인형의 종류가 같다면 두 위치의 값을 0으로 수정하세요.\n",
    "    - 다르다면 start 위치의 맨 위 인형을 end 위치의 맨 위 위에 위치시키고, 기존 위치의 값을 0으로 수정하세요.\n",
    "    - 천장을 뚫거나 같은 위치로의 이동이나 인형이 없는 위치를 선택하는 등의 예외는 없다고 가정"
   ]
  },
  {
   "cell_type": "markdown",
   "metadata": {},
   "source": [
    "![이미지](성공실패.png)"
   ]
  },
  {
   "cell_type": "code",
   "execution_count": 4,
   "metadata": {
    "ExecuteTime": {
     "end_time": "2022-02-14T03:28:28.673125Z",
     "start_time": "2022-02-14T03:28:28.656928Z"
    }
   },
   "outputs": [],
   "source": [
    "def move(start, end) :\n",
    "    # 제일 위에 있는 인형의 높이\n",
    "    start_depth = 0\n",
    "    end_depth = 0\n",
    "    \n",
    "    # 제일 위에 있는 인형의 위치를 구하세요.\n",
    "    \n",
    "    \n",
    "    \n",
    "    \n",
    "    \n",
    "    # 두 위치에 있는 인형을 비교하여 종류가 같다면 두 값을 모두 0으로 수정하고,\n",
    "    # 다르다면 start 위치의 인형을 end 위치의 인형 위로 옮기세요."
   ]
  },
  {
   "cell_type": "code",
   "execution_count": null,
   "metadata": {},
   "outputs": [
    {
     "data": {
      "text/plain": [
       "[[0, 0, 0, 0, 0],\n",
       " [0, 0, 0, 0, 0],\n",
       " [0, 1, 2, 3, 1],\n",
       " [1, 2, 3, 1, 2],\n",
       " [3, 3, 1, 2, 1]]"
      ]
     },
     "metadata": {},
     "output_type": "display_data"
    }
   ],
   "source": [
    "# 코드를 실행하세요.\n",
    "from IPython.display import clear_output\n",
    "\n",
    "board = [[0,0,0,0,0],\n",
    "         [0,0,0,0,0],\n",
    "         [0,1,2,3,1],\n",
    "         [1,2,3,1,2],\n",
    "         [3,3,1,2,1]]\n",
    "\n",
    "while sum([sum(row) for row in board]) : # 모두 0이 아닌 동안에\n",
    "    display(board)\n",
    "    start, end = input('이동시킬 시작 시점과 끝 지점을 입력하세요.(ex. 2 4) : ').split()\n",
    "    start, end = int(start), int(end)\n",
    "    clear_output(wait = True)\n",
    "    move(start, end)\n",
    "    \n",
    "display(board)\n",
    "print('인형을 모두 뽑았습니다.')\n",
    "    \n",
    "'''\n",
    "1 4\n",
    "2 4\n",
    "2 3\n",
    "3 4\n",
    "0 2\n",
    "1 3\n",
    "0 1\n",
    "순서대로 입력해보세요.\n",
    "'''"
   ]
  }
 ],
 "metadata": {
  "kernelspec": {
   "display_name": "Python 3 (ipykernel)",
   "language": "python",
   "name": "python3"
  },
  "language_info": {
   "codemirror_mode": {
    "name": "ipython",
    "version": 3
   },
   "file_extension": ".py",
   "mimetype": "text/x-python",
   "name": "python",
   "nbconvert_exporter": "python",
   "pygments_lexer": "ipython3",
   "version": "3.9.7"
  },
  "toc": {
   "base_numbering": 1,
   "nav_menu": {},
   "number_sections": true,
   "sideBar": true,
   "skip_h1_title": false,
   "title_cell": "Table of Contents",
   "title_sidebar": "Contents",
   "toc_cell": false,
   "toc_position": {},
   "toc_section_display": true,
   "toc_window_display": false
  },
  "varInspector": {
   "cols": {
    "lenName": 16,
    "lenType": 16,
    "lenVar": 40
   },
   "kernels_config": {
    "python": {
     "delete_cmd_postfix": "",
     "delete_cmd_prefix": "del ",
     "library": "var_list.py",
     "varRefreshCmd": "print(var_dic_list())"
    },
    "r": {
     "delete_cmd_postfix": ") ",
     "delete_cmd_prefix": "rm(",
     "library": "var_list.r",
     "varRefreshCmd": "cat(var_dic_list()) "
    }
   },
   "types_to_exclude": [
    "module",
    "function",
    "builtin_function_or_method",
    "instance",
    "_Feature"
   ],
   "window_display": false
  }
 },
 "nbformat": 4,
 "nbformat_minor": 4
}
