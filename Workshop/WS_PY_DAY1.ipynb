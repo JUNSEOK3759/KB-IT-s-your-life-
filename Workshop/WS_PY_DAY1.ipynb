{
 "cells": [
  {
   "cell_type": "markdown",
   "metadata": {},
   "source": [
    "### Q1\n",
    "- 아래의 값을 저장하고 있는 info 변수를 생성하세요.\n",
    "    - ['Park', '010-1234-5678', 'Seoul']\n",
    "- info의 두번째 값을 변수 phone에 저정하세요.\n",
    "    - 결과 : '010-1234-5678'\n",
    "- phone의 값을 '-'을 기준으로 분리하세요.\n",
    "    - 결과 : ['010', '1234', '5678']\n",
    "- 위의 리스트를 공백(' ')을 기준으로 연결하세요.\n",
    "    - 결과 : '010 1234 5678'"
   ]
  },
  {
   "cell_type": "code",
   "execution_count": 2,
   "metadata": {},
   "outputs": [
    {
     "name": "stdout",
     "output_type": "stream",
     "text": [
      "['010-1234-5678']\n"
     ]
    }
   ],
   "source": [
    "info = ['Park', '010-1234-5678', 'Seoul']\n",
    "phone = [info[1]]\n",
    "print(phone)\n"
   ]
  },
  {
   "cell_type": "code",
   "execution_count": 6,
   "metadata": {},
   "outputs": [
    {
     "data": {
      "text/plain": [
       "['010', '1234', '5678']"
      ]
     },
     "execution_count": 6,
     "metadata": {},
     "output_type": "execute_result"
    }
   ],
   "source": [
    "b = phone[0].split('-')\n",
    "b"
   ]
  },
  {
   "cell_type": "code",
   "execution_count": 7,
   "metadata": {},
   "outputs": [
    {
     "name": "stdout",
     "output_type": "stream",
     "text": [
      "010 1234 5678\n"
     ]
    }
   ],
   "source": [
    "d = \" \".join(b)\n",
    "print(d)"
   ]
  },
  {
   "cell_type": "markdown",
   "metadata": {},
   "source": [
    "<br/>\n",
    "<br/>\n",
    "<br/>\n",
    "<br/>"
   ]
  },
  {
   "cell_type": "markdown",
   "metadata": {},
   "source": [
    "### Q2\n",
    "- 아래의 값을 저장하고 있는  my_list 변수를 생성하세요.\n",
    "    - my_list = [1, 3, 12, 7, 10, 9]\n",
    "-  my_list를 역순으로 출력하세요.\n",
    "    - 결과: [9, 10, 7, 12, 3, 1]\n",
    "- temp에 [1,3,2]를 저장하고, 아래와 같은 결과가 나오도록 출력하세요.\n",
    "    - 결과: [9, 10, 7, 12, 3, 1, 1, 2, 3]"
   ]
  },
  {
   "cell_type": "code",
   "execution_count": 28,
   "metadata": {},
   "outputs": [
    {
     "data": {
      "text/plain": [
       "[9, 10, 7, 12, 3, 1]"
      ]
     },
     "execution_count": 28,
     "metadata": {},
     "output_type": "execute_result"
    }
   ],
   "source": [
    "my_list = [1, 3, 12, 7, 10, 9]\n",
    "\n",
    "my_list.reverse()\n",
    "my_list"
   ]
  },
  {
   "cell_type": "code",
   "execution_count": 29,
   "metadata": {},
   "outputs": [
    {
     "data": {
      "text/plain": [
       "[9, 10, 7, 12, 3, 1, 1, 2, 3]"
      ]
     },
     "execution_count": 29,
     "metadata": {},
     "output_type": "execute_result"
    }
   ],
   "source": [
    "temp = [1, 3, 2]\n",
    "temp.sort()\n",
    "my_list + temp"
   ]
  },
  {
   "cell_type": "markdown",
   "metadata": {},
   "source": [
    "<br/>\n",
    "<br/>\n",
    "<br/>\n",
    "<br/>"
   ]
  },
  {
   "cell_type": "markdown",
   "metadata": {},
   "source": [
    "### Q3\n",
    "- 아래의 값을 저장하고 있는 my_list 변수를 생성하세요.\n",
    "    - my_list = [[1,2,3], [4,5,6], [7,8]]\n",
    "- 결과와 같은 위치에 9를 추가하세요.\n",
    "    - 결과: [[1,2,3], [4,5,6], [7,8,9]]\n",
    "- 결과와 같은 위치에 [1,1,1]을 추가하세요.\n",
    "    - 결과: [[1,2,3], [1,1,1], [4,5,6], [7,8,9]]"
   ]
  },
  {
   "cell_type": "code",
   "execution_count": 14,
   "metadata": {},
   "outputs": [
    {
     "name": "stdout",
     "output_type": "stream",
     "text": [
      "[[1, 2, 3], [4, 5, 6], [7, 8, 9]]\n"
     ]
    }
   ],
   "source": [
    "my_list = [[1,2,3], [4,5,6], [7,8]]\n",
    "my_list[2].append(9)\n",
    "print(my_list)"
   ]
  },
  {
   "cell_type": "code",
   "execution_count": 15,
   "metadata": {},
   "outputs": [
    {
     "name": "stdout",
     "output_type": "stream",
     "text": [
      "[[1, 2, 3], [1, 1, 1], [4, 5, 6], [7, 8, 9]]\n"
     ]
    }
   ],
   "source": [
    "b = [1, 1, 1]\n",
    "my_list.insert(1, b)\n",
    "print(my_list)"
   ]
  },
  {
   "cell_type": "markdown",
   "metadata": {},
   "source": [
    "<br/>\n",
    "<br/>\n",
    "<br/>\n",
    "<br/>"
   ]
  },
  {
   "cell_type": "markdown",
   "metadata": {},
   "source": [
    "### Q4\n",
    "- 아래의 각 리스트를 region1과 region2에 저장하세요.\n",
    "    - ['서울', '서울', '대구', '강릉', '제주', '제주', '대전']\n",
    "    - ['인천', '광주', '부산', '대전', '제주']\n",
    "- region1의 중복값을 제거하세요.\n",
    "    - 결과 : ['서울', '대구', '제주', '강릉', '대전']\n",
    "- region1과 region2의 공통 값을 구하세요.\n",
    "    - 결과 : ['제주', '대전']"
   ]
  },
  {
   "cell_type": "code",
   "execution_count": 8,
   "metadata": {},
   "outputs": [
    {
     "name": "stdout",
     "output_type": "stream",
     "text": [
      "{'대구', '강릉', '서울', '대전', '제주'}\n"
     ]
    }
   ],
   "source": [
    "region1 = ['서울', '서울', '대구', '강릉', '제주', '제주', '대전']\n",
    "region2 = ['인천', '광주', '부산', '대전', '제주']\n",
    "a = set(region1)\n",
    "print(a)"
   ]
  },
  {
   "cell_type": "code",
   "execution_count": 9,
   "metadata": {},
   "outputs": [
    {
     "name": "stdout",
     "output_type": "stream",
     "text": [
      "{'대전', '제주'}\n"
     ]
    }
   ],
   "source": [
    "b = set(region2)\n",
    "print(a & b)\n"
   ]
  },
  {
   "cell_type": "markdown",
   "metadata": {},
   "source": [
    "<br/>\n",
    "<br/>\n",
    "<br/>\n",
    "<br/>"
   ]
  },
  {
   "cell_type": "markdown",
   "metadata": {},
   "source": [
    "### Q5\n",
    "- 학생들의 이름과 점수를 key와 value로 가지는 score 변수를 생성하세요.\n",
    "    - 하준 90점, 서윤 86점, 지아 80점\n",
    "- 서윤의 점수를 76점으로 수정하세요.\n",
    "- score 변수에서 지아를 삭제하세요.\n",
    "- score 변수에 민우 100점을 추가하세요."
   ]
  },
  {
   "cell_type": "code",
   "execution_count": 55,
   "metadata": {},
   "outputs": [],
   "source": [
    "a = {\n",
    "    '하준' : 90, \"서윤\" : 86, \"지아\" : 80\n",
    "}"
   ]
  },
  {
   "cell_type": "code",
   "execution_count": 56,
   "metadata": {},
   "outputs": [
    {
     "name": "stdout",
     "output_type": "stream",
     "text": [
      "{'하준': 90, '서윤': 76, '지아': 80}\n"
     ]
    }
   ],
   "source": [
    "a[\"서윤\"] = 76\n",
    "print(a)"
   ]
  },
  {
   "cell_type": "code",
   "execution_count": 57,
   "metadata": {},
   "outputs": [
    {
     "name": "stdout",
     "output_type": "stream",
     "text": [
      "{'하준': 90, '서윤': 76}\n"
     ]
    }
   ],
   "source": [
    "del a[\"지아\"]\n",
    "print(a)"
   ]
  },
  {
   "cell_type": "code",
   "execution_count": 58,
   "metadata": {},
   "outputs": [
    {
     "name": "stdout",
     "output_type": "stream",
     "text": [
      "{'하준': 90, '서윤': 76, '민우': 100}\n"
     ]
    }
   ],
   "source": [
    "a[\"민우\"] = 100\n",
    "print(a)"
   ]
  },
  {
   "cell_type": "code",
   "execution_count": null,
   "metadata": {},
   "outputs": [],
   "source": []
  }
 ],
 "metadata": {
  "kernelspec": {
   "display_name": "Python 3 (ipykernel)",
   "language": "python",
   "name": "python3"
  },
  "language_info": {
   "codemirror_mode": {
    "name": "ipython",
    "version": 3
   },
   "file_extension": ".py",
   "mimetype": "text/x-python",
   "name": "python",
   "nbconvert_exporter": "python",
   "pygments_lexer": "ipython3",
   "version": "3.9.7"
  },
  "toc": {
   "base_numbering": 1,
   "nav_menu": {},
   "number_sections": true,
   "sideBar": true,
   "skip_h1_title": false,
   "title_cell": "Table of Contents",
   "title_sidebar": "Contents",
   "toc_cell": false,
   "toc_position": {},
   "toc_section_display": true,
   "toc_window_display": false
  },
  "varInspector": {
   "cols": {
    "lenName": 16,
    "lenType": 16,
    "lenVar": 40
   },
   "kernels_config": {
    "python": {
     "delete_cmd_postfix": "",
     "delete_cmd_prefix": "del ",
     "library": "var_list.py",
     "varRefreshCmd": "print(var_dic_list())"
    },
    "r": {
     "delete_cmd_postfix": ") ",
     "delete_cmd_prefix": "rm(",
     "library": "var_list.r",
     "varRefreshCmd": "cat(var_dic_list()) "
    }
   },
   "types_to_exclude": [
    "module",
    "function",
    "builtin_function_or_method",
    "instance",
    "_Feature"
   ],
   "window_display": false
  }
 },
 "nbformat": 4,
 "nbformat_minor": 4
}
