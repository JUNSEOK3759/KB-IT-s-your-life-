{
 "cells": [
  {
   "cell_type": "markdown",
   "metadata": {},
   "source": [
    "### Q1\n",
    "- sleep 함수를 사용하면 일정 시간동안 실행중인 코드를 멈출 수 있습니다. ex. sleep(5) : 5초 동안 일시정지\n",
    "- for 반복문을 사용하여 구구단 2단 출력 후 1초 멈추고, 3단 출력 후 1초 멈추고, 4단을 출력하세요."
   ]
  },
  {
   "cell_type": "code",
   "execution_count": 1,
   "metadata": {},
   "outputs": [
    {
     "name": "stdout",
     "output_type": "stream",
     "text": [
      "2\n",
      "4\n",
      "6\n",
      "8\n",
      "10\n",
      "12\n",
      "14\n",
      "16\n",
      "18\n",
      "3\n",
      "6\n",
      "9\n",
      "12\n",
      "15\n",
      "18\n",
      "21\n",
      "24\n",
      "27\n",
      "4\n",
      "8\n",
      "12\n",
      "16\n",
      "20\n",
      "24\n",
      "28\n",
      "32\n",
      "36\n"
     ]
    }
   ],
   "source": [
    "import time\n",
    "\n",
    "for i in range(2, 5):\n",
    "    for j in range(1, 10):\n",
    "        print(i * j)\n",
    "    time.sleep(1)"
   ]
  },
  {
   "cell_type": "code",
   "execution_count": null,
   "metadata": {},
   "outputs": [],
   "source": []
  },
  {
   "cell_type": "markdown",
   "metadata": {},
   "source": [
    "### Q2\n",
    "- for 반복문을 사용하여 아래의 출력물을 1초마다 한 글자씩 출력하세요.<br/>\n",
    "1<br/>\n",
    "1 3<br/>\n",
    "1 3 5<br/>\n",
    "1 3 5 7<br/>\n",
    "1 3 5 7 9"
   ]
  },
  {
   "cell_type": "code",
   "execution_count": 2,
   "metadata": {},
   "outputs": [
    {
     "name": "stdout",
     "output_type": "stream",
     "text": [
      "1 \n",
      "1 3 \n",
      "1 3 5 \n",
      "1 3 5 7 \n",
      "1 3 5 7 9 \n"
     ]
    }
   ],
   "source": [
    "import time \n",
    "for i in range(1, 6):\n",
    "    for k in range(1,i+1):\n",
    "\n",
    "        print(k*2-1, end = ' ')\n",
    "    print('')\n",
    "    time.sleep(1)\n"
   ]
  },
  {
   "cell_type": "markdown",
   "metadata": {},
   "source": [
    "\n",
    "### Q3\n",
    "- randint 함수는 무작위로 정수를 선택하는 함수입니다. ex. randint(10, 20) : 10이상 20이하의 정수를 무작위로 선택\n",
    "- while 반복문을 사용하여 로또 번호를 생성하는 코드를 작성하세요.\n",
    "    - 1이상 45이하의 중복되지않는 6개의 숫자 선택\n",
    "    - 오름차순으로 정렬 후 출력"
   ]
  },
  {
   "cell_type": "code",
   "execution_count": 3,
   "metadata": {},
   "outputs": [],
   "source": [
    "import random"
   ]
  },
  {
   "cell_type": "code",
   "execution_count": 4,
   "metadata": {},
   "outputs": [
    {
     "name": "stdout",
     "output_type": "stream",
     "text": [
      "[2, 3, 10, 17, 22, 38]\n"
     ]
    }
   ],
   "source": [
    "list1 = []\n",
    "\n",
    "while len(list1) < 6:\n",
    "    num = random.randint(1, 45)\n",
    "    if num not in list1:\n",
    "        list1.append(num)\n",
    "    list1.sort()\n",
    "print(list1)"
   ]
  },
  {
   "cell_type": "code",
   "execution_count": null,
   "metadata": {},
   "outputs": [],
   "source": []
  },
  {
   "cell_type": "markdown",
   "metadata": {},
   "source": [
    "### Q4\n",
    "- 현재 10000원이 있고, 물건과 수량을 랜덤으로 구매하려고 합니다.\n",
    "- 다음 조건을 만족시키면서 구매가 불가능하면 반복문을 종료하는 코드를 작성하세요.\n",
    "    - 한번에 물건 가격은 100이상 1000이하의 100단위, 수량은 1개 이상 5개 이하를 구매\n",
    "    - 구매가 가능하면 금액, 수량, 지불할 금액, 구매 후 남은 금액을 출력\n",
    "    - 구매가 불가능하면 금액, 수량, 지불할 금액, \"구매 불가\" 문구 출력 후 반복문 종료"
   ]
  },
  {
   "cell_type": "code",
   "execution_count": 19,
   "metadata": {},
   "outputs": [
    {
     "name": "stdout",
     "output_type": "stream",
     "text": [
      "금액 : 500 수량 : 3 지불할 금액 : 1500  남은 금액 : 8500\n",
      "금액 : 700 수량 : 3 지불할 금액 : 2100  남은 금액 : 6400\n",
      "금액 : 500 수량 : 3 지불할 금액 : 1500  남은 금액 : 4900\n",
      "금액 : 600 수량 : 2 지불할 금액 : 1200  남은 금액 : 3700\n",
      "금액 : 700 수량 : 3 지불할 금액 : 2100  남은 금액 : 1600\n",
      "금액 : 700 수량 : 3 지불할 금액 : 2100 구매불가\n"
     ]
    }
   ],
   "source": [
    "import random\n",
    "a = 10000\n",
    "\n",
    "\n",
    "while True:\n",
    "    b = random.randrange(100, 1001, 100)\n",
    "    c = random.randint(1, 5)\n",
    "    if b * c < a :\n",
    "        print(\"금액 :\", b, \"수량 :\", c, \"지불할 금액 :\", b * c, \" 남은 금액 :\" , a - b*c)\n",
    "        a = a - b * c\n",
    "        if b * c > a:\n",
    "            print(\"금액 :\", b, \"수량 :\", c, \"지불할 금액 :\", b * c, \"구매불가\")\n",
    "            break\n",
    "    "
   ]
  },
  {
   "cell_type": "code",
   "execution_count": null,
   "metadata": {},
   "outputs": [],
   "source": []
  },
  {
   "cell_type": "code",
   "execution_count": null,
   "metadata": {},
   "outputs": [],
   "source": []
  },
  {
   "cell_type": "code",
   "execution_count": null,
   "metadata": {},
   "outputs": [],
   "source": []
  }
 ],
 "metadata": {
  "kernelspec": {
   "display_name": "Python 3 (ipykernel)",
   "language": "python",
   "name": "python3"
  },
  "language_info": {
   "codemirror_mode": {
    "name": "ipython",
    "version": 3
   },
   "file_extension": ".py",
   "mimetype": "text/x-python",
   "name": "python",
   "nbconvert_exporter": "python",
   "pygments_lexer": "ipython3",
   "version": "3.9.7"
  },
  "toc": {
   "base_numbering": 1,
   "nav_menu": {},
   "number_sections": true,
   "sideBar": true,
   "skip_h1_title": false,
   "title_cell": "Table of Contents",
   "title_sidebar": "Contents",
   "toc_cell": false,
   "toc_position": {},
   "toc_section_display": true,
   "toc_window_display": false
  },
  "varInspector": {
   "cols": {
    "lenName": 16,
    "lenType": 16,
    "lenVar": 40
   },
   "kernels_config": {
    "python": {
     "delete_cmd_postfix": "",
     "delete_cmd_prefix": "del ",
     "library": "var_list.py",
     "varRefreshCmd": "print(var_dic_list())"
    },
    "r": {
     "delete_cmd_postfix": ") ",
     "delete_cmd_prefix": "rm(",
     "library": "var_list.r",
     "varRefreshCmd": "cat(var_dic_list()) "
    }
   },
   "types_to_exclude": [
    "module",
    "function",
    "builtin_function_or_method",
    "instance",
    "_Feature"
   ],
   "window_display": false
  }
 },
 "nbformat": 4,
 "nbformat_minor": 4
}
