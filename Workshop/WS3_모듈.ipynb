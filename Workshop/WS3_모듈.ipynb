{
 "cells": [
  {
   "cell_type": "code",
   "execution_count": 1,
   "id": "baa34510",
   "metadata": {},
   "outputs": [
    {
     "name": "stdout",
     "output_type": "stream",
     "text": [
      "Writing gradecal.py\n"
     ]
    }
   ],
   "source": [
    "%%writefile gradecal.py\n",
    "\n",
    "def num_input():\n",
    "    result = list(map(str,input('성적 입력 : ').split(', ')))\n",
    "    return result\n",
    "\n",
    "def mean_grade(values):\n",
    "    print(values)\n",
    "    grade = 0\n",
    "    for i in values:\n",
    "        print(i)\n",
    "        if i == 'A+':\n",
    "            grade += 4.5\n",
    "        elif i == 'A':\n",
    "            grade += 4.3\n",
    "        elif i == 'A-':\n",
    "            grade += 4.0\n",
    "        elif i == 'B+':\n",
    "            grade += 3.5\n",
    "        elif i == 'B':\n",
    "            grade += 3.3\n",
    "        elif i == 'B-':\n",
    "            grade += 3.0\n",
    "        elif i == 'C':\n",
    "            grade += 2.5\n",
    "        elif i == 'D':\n",
    "            grade += 1.5\n",
    "            \n",
    "    return round(grade / len(values), 2)"
   ]
  },
  {
   "cell_type": "code",
   "execution_count": null,
   "id": "60af2006",
   "metadata": {},
   "outputs": [],
   "source": []
  }
 ],
 "metadata": {
  "kernelspec": {
   "display_name": "Python 3 (ipykernel)",
   "language": "python",
   "name": "python3"
  },
  "language_info": {
   "codemirror_mode": {
    "name": "ipython",
    "version": 3
   },
   "file_extension": ".py",
   "mimetype": "text/x-python",
   "name": "python",
   "nbconvert_exporter": "python",
   "pygments_lexer": "ipython3",
   "version": "3.9.7"
  }
 },
 "nbformat": 4,
 "nbformat_minor": 5
}
